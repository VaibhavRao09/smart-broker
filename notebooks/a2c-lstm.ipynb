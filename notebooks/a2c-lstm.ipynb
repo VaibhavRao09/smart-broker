{
 "cells": [
  {
   "cell_type": "code",
   "execution_count": 1,
   "id": "11780219",
   "metadata": {},
   "outputs": [],
   "source": [
    "# add parent directory to path: enable import from parent dir\n",
    "import sys\n",
    "sys.path.append('../')\n",
    "\n",
    "from environment import SmartBrokerEnv\n",
    "from agents.a2c import A2C\n",
    "from networks.a2c.actor import Actor\n",
    "from networks.a2c.critic import Critic\n",
    "from networks.a2c_lstm.actor import ActorLSTM\n",
    "from networks.a2c_lstm.critic import CriticLSTM\n",
    "\n",
    "import gym\n",
    "import matplotlib.pyplot as plt\n",
    "import torch"
   ]
  },
  {
   "cell_type": "code",
   "execution_count": 2,
   "id": "5d26e138",
   "metadata": {},
   "outputs": [
    {
     "name": "stderr",
     "output_type": "stream",
     "text": [
      "/Users/vinay/miniforge3/lib/python3.9/site-packages/pandas/core/frame.py:3641: SettingWithCopyWarning: \n",
      "A value is trying to be set on a copy of a slice from a DataFrame.\n",
      "Try using .loc[row_indexer,col_indexer] = value instead\n",
      "\n",
      "See the caveats in the documentation: https://pandas.pydata.org/pandas-docs/stable/user_guide/indexing.html#returning-a-view-versus-a-copy\n",
      "  self[k1] = value[k2]\n",
      "/Users/vinay/code/git/smart-broker/notebooks/../environment.py:78: SettingWithCopyWarning: \n",
      "A value is trying to be set on a copy of a slice from a DataFrame.\n",
      "Try using .loc[row_indexer,col_indexer] = value instead\n",
      "\n",
      "See the caveats in the documentation: https://pandas.pydata.org/pandas-docs/stable/user_guide/indexing.html#returning-a-view-versus-a-copy\n",
      "  self.df['rolling_price'] = self.df[self.price_typ].rolling(self.roll_period).sum()\n",
      "/Users/vinay/miniforge3/lib/python3.9/site-packages/pandas/util/_decorators.py:311: SettingWithCopyWarning: \n",
      "A value is trying to be set on a copy of a slice from a DataFrame\n",
      "\n",
      "See the caveats in the documentation: https://pandas.pydata.org/pandas-docs/stable/user_guide/indexing.html#returning-a-view-versus-a-copy\n",
      "  return func(*args, **kwargs)\n"
     ]
    }
   ],
   "source": [
    "norm_cols = ['Volume XRP']\n",
    "cols = ['date'] + ['open', 'high', 'low', 'close', f'Volume XRP']\n",
    "batch_dur = 30\n",
    "env = SmartBrokerEnv(\n",
    "    batch_dur=batch_dur,\n",
    "    df_info={\n",
    "        'start_date': '2021-01-01',\n",
    "        'end_date': '2021-02-01',\n",
    "        'norm_cols': norm_cols,\n",
    "        'cols': cols,\n",
    "    },\n",
    "    portfolio={\n",
    "\n",
    "    },\n",
    ")"
   ]
  },
  {
   "cell_type": "code",
   "execution_count": 3,
   "id": "868d239c",
   "metadata": {},
   "outputs": [],
   "source": [
    "actor_model = ActorLSTM(\n",
    "    state_dim=batch_dur*3+3,\n",
    "    action_dim=3,\n",
    ")\n",
    "critic_model = Critic(state_dim=batch_dur*3+3)\n",
    "a2c = A2C(\n",
    "    env=env, \n",
    "    actor=actor_model,\n",
    "    critic=critic_model,\n",
    "    n_actns=3,\n",
    "    actor_optmz=torch.optim.Adam(actor_model.parameters(), lr=0.001),\n",
    "    critic_optmz=torch.optim.Adam(critic_model.parameters(), lr=0.001),\n",
    "    hyprprms={\n",
    "        'gamma': 0.9995,\n",
    "    },\n",
    "    log_freq=25,\n",
    "    p_net_type='lstm',\n",
    "    c_net_type='nn',\n",
    ")"
   ]
  },
  {
   "cell_type": "code",
   "execution_count": null,
   "id": "89d172d7",
   "metadata": {},
   "outputs": [
    {
     "name": "stdout",
     "output_type": "stream",
     "text": [
      "\n",
      "Ep: 0 | L: 2.263 | R: 0.53 | P: 3.31 | R.Avg P: 3.31 | NW: 103.31 | R.Avg NW: 103.31 | R.U: 217\n",
      "Ep: 25 | L: 1.002 | R: 0.54 | P: 3.39 | R.Avg P: 2.28 | NW: 103.39 | R.Avg NW: 102.28 | R.U: 203\n",
      "Ep: 50 | L: 1.012 | R: 0.51 | P: -0.39 | R.Avg P: 2.8 | NW: 99.61 | R.Avg NW: 102.8 | R.U: 203\n",
      "Ep: 75 | L: 1.016 | R: 0.53 | P: 1.74 | R.Avg P: 3.36 | NW: 101.74 | R.Avg NW: 103.36 | R.U: 200\n",
      "Ep: 100 | L: 0.999 | R: 0.49 | P: -4.05 | R.Avg P: 2.94 | NW: 95.95 | R.Avg NW: 102.94 | R.U: 193\n",
      "Ep: 125 | L: 0.992 | R: 0.51 | P: -0.44 | R.Avg P: 2.33 | NW: 99.56 | R.Avg NW: 102.33 | R.U: 186\n",
      "Ep: 150 | L: 0.985 | R: 0.53 | P: 2.75 | R.Avg P: 2.74 | NW: 102.75 | R.Avg NW: 102.74 | R.U: 186\n",
      "Ep: 175 | L: 0.982 | R: 0.55 | P: 4.92 | R.Avg P: 3.06 | NW: 104.92 | R.Avg NW: 103.06 | R.U: 187\n",
      "Ep: 200 | L: 0.974 | R: 0.55 | P: 4.9 | R.Avg P: 2.91 | NW: 104.9 | R.Avg NW: 102.91 | R.U: 188\n",
      "Ep: 225 | L: 0.965 | R: 0.52 | P: 1.14 | R.Avg P: 3.01 | NW: 101.14 | R.Avg NW: 103.01 | R.U: 192\n",
      "Ep: 250 | L: 0.958 | R: 0.54 | P: 4.0 | R.Avg P: 2.63 | NW: 104.0 | R.Avg NW: 102.63 | R.U: 191\n",
      "Ep: 275 | L: 0.951 | R: 0.54 | P: 3.8 | R.Avg P: 1.86 | NW: 103.8 | R.Avg NW: 101.86 | R.U: 189\n",
      "Ep: 300 | L: 0.951 | R: 0.52 | P: 1.81 | R.Avg P: 1.61 | NW: 101.81 | R.Avg NW: 101.61 | R.U: 185\n",
      "Ep: 325 | L: 0.943 | R: 0.53 | P: 2.08 | R.Avg P: 2.19 | NW: 102.08 | R.Avg NW: 102.19 | R.U: 180\n",
      "Ep: 350 | L: 0.918 | R: 0.53 | P: 1.33 | R.Avg P: 2.56 | NW: 101.33 | R.Avg NW: 102.56 | R.U: 176\n",
      "Ep: 375 | L: 0.942 | R: 0.54 | P: 3.31 | R.Avg P: 2.66 | NW: 103.31 | R.Avg NW: 102.66 | R.U: 171\n",
      "Ep: 400 | L: 0.909 | R: 0.54 | P: 3.71 | R.Avg P: 2.64 | NW: 103.71 | R.Avg NW: 102.64 | R.U: 167\n",
      "Ep: 425 | L: 0.911 | R: 0.52 | P: 0.43 | R.Avg P: 2.74 | NW: 100.43 | R.Avg NW: 102.74 | R.U: 170\n",
      "Ep: 450 | L: 0.879 | R: 0.52 | P: 0.19 | R.Avg P: 2.72 | NW: 100.19 | R.Avg NW: 102.72 | R.U: 177\n",
      "Ep: 475 | L: 0.956 | R: 0.54 | P: 3.53 | R.Avg P: 2.46 | NW: 103.53 | R.Avg NW: 102.46 | R.U: 177\n",
      "Ep: 500 | L: 0.902 | R: 0.52 | P: 0.26 | R.Avg P: 2.26 | NW: 100.26 | R.Avg NW: 102.26 | R.U: 160\n",
      "Ep: 525 | L: 0.87 | R: 0.56 | P: 6.44 | R.Avg P: 2.04 | NW: 106.44 | R.Avg NW: 102.04 | R.U: 149\n",
      "Ep: 550 | L: 0.803 | R: 0.52 | P: 0.33 | R.Avg P: 2.13 | NW: 100.33 | R.Avg NW: 102.13 | R.U: 151\n",
      "Ep: 575 | L: 0.888 | R: 0.5 | P: -2.54 | R.Avg P: 1.51 | NW: 97.46 | R.Avg NW: 101.51 | R.U: 132\n",
      "Ep: 600 | L: 0.835 | R: 0.53 | P: 2.96 | R.Avg P: 1.01 | NW: 102.96 | R.Avg NW: 101.01 | R.U: 109\n",
      "Ep: 625 | L: 0.784 | R: 0.54 | P: 4.5 | R.Avg P: 1.46 | NW: 104.5 | R.Avg NW: 101.46 | R.U: 132\n",
      "Ep: 650 | L: 0.848 | R: 0.5 | P: -1.52 | R.Avg P: 1.39 | NW: 98.48 | R.Avg NW: 101.39 | R.U: 140\n",
      "Ep: 675 | L: 0.831 | R: 0.52 | P: 0.78 | R.Avg P: 1.25 | NW: 100.78 | R.Avg NW: 101.25 | R.U: 106"
     ]
    }
   ],
   "source": [
    "a2c.run(5000)"
   ]
  },
  {
   "cell_type": "markdown",
   "id": "be10907e",
   "metadata": {},
   "source": [
    "## Visualizations"
   ]
  },
  {
   "cell_type": "markdown",
   "id": "868b8904",
   "metadata": {},
   "source": [
    "### Traning "
   ]
  },
  {
   "cell_type": "code",
   "execution_count": null,
   "id": "7126bc86",
   "metadata": {},
   "outputs": [],
   "source": [
    "fig, ax = plt.subplots(3, 2, figsize=(16, 12))\n",
    "r_avg_rewards = []\n",
    "r_avg_profits = []\n",
    "r_avg_bal = []\n",
    "r_avg_units_held = []\n",
    "r_avg_loss = []\n",
    "r_avg_net_worth = []\n",
    "count = 0\n",
    "\n",
    "for _, log in a2c.logs.items():\n",
    "    r_avg_rewards.append(log['r_avg_reward'])\n",
    "    r_avg_profits.append(log['r_avg_profit'])\n",
    "    r_avg_bal.append(log['r_avg_bal'])\n",
    "    r_avg_units_held.append(log['r_avg_units_held'])\n",
    "    r_avg_loss.append(log['r_avg_loss'])\n",
    "    r_avg_net_worth.append(log['r_avg_net_worth'])\n",
    "    count += 1\n",
    "\n",
    "ax[0][0].plot(range(count), r_avg_loss)\n",
    "ax[0][0].set_title('Rolling avg loss per episode')\n",
    "\n",
    "ax[0][1].plot(range(count), r_avg_rewards)\n",
    "ax[0][1].set_title('Rolling avg reward per episode')\n",
    "\n",
    "ax[1][0].plot(range(count), r_avg_profits)\n",
    "ax[1][0].set_title('Rolling avg profit per episode')\n",
    "\n",
    "ax[1][1].plot(range(count), r_avg_units_held)\n",
    "ax[1][1].set_title('Rolling avg units held per episode')\n",
    "\n",
    "ax[2][0].plot(range(count), r_avg_net_worth)\n",
    "ax[2][0].set_title('Rolling avg net worth per episode')\n",
    "\n",
    "ax[2][1].plot(range(count), r_avg_bal)\n",
    "ax[2][1].set_title('Rolling avg balance per episode')"
   ]
  },
  {
   "cell_type": "code",
   "execution_count": null,
   "id": "99e64867-909f-428f-bc21-0f5b6b3e26f0",
   "metadata": {},
   "outputs": [],
   "source": [
    "# torch.save(a2c.actor.state_dict(), '../models/a2c_cl_an/actor')\n",
    "# torch.save(a2c.critic.state_dict(), '../models/a2c_cl_an/critic')"
   ]
  },
  {
   "cell_type": "code",
   "execution_count": null,
   "id": "9b95b59c",
   "metadata": {},
   "outputs": [],
   "source": [
    "import pickle\n",
    "from datetime import datetime\n",
    "\n",
    "temp = dict(a2c.logs)\n",
    "with open(f\"../pickles/a2c_logs_{datetime.now()}.pickle\",\"wb\") as f:\n",
    "    pickle.dump(temp, f, pickle.HIGHEST_PROTOCOL)"
   ]
  },
  {
   "cell_type": "markdown",
   "id": "4701a519-91d8-41ed-a935-5111db639ef1",
   "metadata": {},
   "source": [
    "### Observations"
   ]
  },
  {
   "cell_type": "markdown",
   "id": "8b225c71-7641-4c3c-b05c-d4eb8f0b68da",
   "metadata": {},
   "source": [
    "- A2C performs well when actor is chained with LSTM and critic with Neural Network\n",
    "- If the actor is chained with Neural Network we dont seem to learn the task"
   ]
  }
 ],
 "metadata": {
  "kernelspec": {
   "display_name": "Python 3 (ipykernel)",
   "language": "python",
   "name": "python3"
  },
  "language_info": {
   "codemirror_mode": {
    "name": "ipython",
    "version": 3
   },
   "file_extension": ".py",
   "mimetype": "text/x-python",
   "name": "python",
   "nbconvert_exporter": "python",
   "pygments_lexer": "ipython3",
   "version": "3.9.7"
  }
 },
 "nbformat": 4,
 "nbformat_minor": 5
}
