{
 "cells": [
  {
   "cell_type": "code",
   "execution_count": 1,
   "id": "11780219",
   "metadata": {},
   "outputs": [],
   "source": [
    "# add parent directory to path: enable import from parent dir\n",
    "import sys\n",
    "sys.path.append('../')\n",
    "\n",
    "from environment import SmartBrokerEnv\n",
    "from agents.a2c import A2C\n",
    "from networks.a2c.actor import Actor\n",
    "from networks.a2c.critic import Critic\n",
    "from networks.a2c_lstm.actor import ActorLSTM\n",
    "from networks.a2c_lstm.critic import CriticLSTM\n",
    "\n",
    "import gym\n",
    "import matplotlib.pyplot as plt\n",
    "import torch"
   ]
  },
  {
   "cell_type": "code",
   "execution_count": 2,
   "id": "337a2c63-a87f-405c-a2b0-3382ff174d76",
   "metadata": {},
   "outputs": [],
   "source": [
    "norm_cols = []\n",
    "cols = ['date'] + ['open', 'high', 'low', 'close', f'Volume XRP']\n",
    "batch_dur = 30\n",
    "env = SmartBrokerEnv(\n",
    "    batch_dur=batch_dur,\n",
    "    df_info={\n",
    "        'start_date': '2021-02-01',\n",
    "        'end_date': '2021-03-01',\n",
    "        'norm_cols': norm_cols,\n",
    "        'cols': cols,\n",
    "    },\n",
    "    portfolio={\n",
    "\n",
    "    },\n",
    ")\n",
    "\n",
    "actor_model = ActorLSTM(\n",
    "    state_dim=batch_dur*3+3,\n",
    "    action_dim=3,\n",
    ")\n",
    "critic_model = Critic(state_dim=batch_dur*3+3)\n",
    "a2c = A2C(\n",
    "    env=env, \n",
    "    actor=actor_model,\n",
    "    critic=critic_model,\n",
    "    n_actns=3,\n",
    "    actor_optmz=torch.optim.Adam(actor_model.parameters(), lr=0.00001),\n",
    "    critic_optmz=torch.optim.Adam(critic_model.parameters(), lr=0.00001),\n",
    "    hyprprms={\n",
    "        'gamma': 0.995,\n",
    "    },\n",
    "    log_freq=1,\n",
    "    p_net_type='lstm',\n",
    "    c_net_type='nn',\n",
    "    load_models=False,\n",
    "    mdl_pth='../models/a2c_al_cn',\n",
    ")"
   ]
  },
  {
   "cell_type": "code",
   "execution_count": 3,
   "id": "89d172d7",
   "metadata": {},
   "outputs": [
    {
     "name": "stdout",
     "output_type": "stream",
     "text": [
      "\n",
      "Ep: 0 | TS: 19970 | L: 2255111101.128 | R: -51.92 | P: 50.07 | R.Avg P: 50.07 | NW: 150.07 | R.Avg NW: 150.07 | R.U: 153\n",
      "Ep: 1 | TS: 39940 | L: 2232754193.303 | R: -65.62 | P: 6.16 | R.Avg P: 28.12 | NW: 106.16 | R.Avg NW: 128.12 | R.U: 130\n",
      "Ep: 2 | TS: 59910 | L: 2210529646.845 | R: -68.05 | P: -1.89 | R.Avg P: 18.11 | NW: 98.11 | R.Avg NW: 118.11 | R.U: 120\n",
      "Ep: 3 | TS: 79880 | L: 2188446591.476 | R: -66.45 | P: 4.45 | R.Avg P: 14.7 | NW: 104.45 | R.Avg NW: 114.7 | R.U: 116\n",
      "Ep: 4 | TS: 99850 | L: 2166509360.888 | R: -77.62 | P: -29.92 | R.Avg P: 5.77 | NW: 70.08 | R.Avg NW: 105.77 | R.U: 107\n",
      "Ep: 5 | TS: 119820 | L: 2144718014.015 | R: -73.61 | P: -17.62 | R.Avg P: 1.88 | NW: 82.38 | R.Avg NW: 101.88 | R.U: 103\n",
      "Ep: 6 | TS: 139790 | L: 2123079024.513 | R: -65.24 | P: 7.28 | R.Avg P: 2.65 | NW: 107.28 | R.Avg NW: 102.65 | R.U: 103\n",
      "Ep: 7 | TS: 159760 | L: 2101591908.897 | R: -72.44 | P: -14.89 | R.Avg P: 0.46 | NW: 85.11 | R.Avg NW: 100.46 | R.U: 101\n",
      "Ep: 8 | TS: 179730 | L: 2080257226.463 | R: -65.32 | P: 9.55 | R.Avg P: 1.47 | NW: 109.55 | R.Avg NW: 101.47 | R.U: 102\n",
      "Ep: 9 | TS: 199700 | L: 2059077046.827 | R: -73.84 | P: -18.06 | R.Avg P: -0.49 | NW: 81.94 | R.Avg NW: 99.51 | R.U: 100\n",
      "Ep: 10 | TS: 219670 | L: 2038057310.337 | R: -62.86 | P: 14.28 | R.Avg P: 0.86 | NW: 114.28 | R.Avg NW: 100.86 | R.U: 101\n",
      "Ep: 11 | TS: 239640 | L: 2017196818.443 | R: -65.58 | P: 8.16 | R.Avg P: 1.46 | NW: 108.16 | R.Avg NW: 101.46 | R.U: 102\n",
      "Ep: 12 | TS: 259610 | L: 1996496257.95 | R: -71.18 | P: -11.86 | R.Avg P: 0.44 | NW: 88.14 | R.Avg NW: 100.44 | R.U: 101\n",
      "Ep: 13 | TS: 279580 | L: 1975954998.818 | R: -68.97 | P: -1.88 | R.Avg P: 0.27 | NW: 98.12 | R.Avg NW: 100.27 | R.U: 101\n",
      "Ep: 14 | TS: 299550 | L: 1955572839.855 | R: -68.51 | P: -0.34 | R.Avg P: 0.23 | NW: 99.66 | R.Avg NW: 100.23 | R.U: 101\n",
      "Ep: 15 | TS: 319520 | L: 1935354178.895 | R: -72.14 | P: -14.95 | R.Avg P: -0.72 | NW: 85.05 | R.Avg NW: 99.28 | R.U: 100\n",
      "Ep: 16 | TS: 339490 | L: 1915305021.848 | R: -56.93 | P: 31.97 | R.Avg P: 1.21 | NW: 131.97 | R.Avg NW: 101.21 | R.U: 102\n",
      "Ep: 17 | TS: 359460 | L: 1895426518.555 | R: -74.31 | P: -19.36 | R.Avg P: 0.06 | NW: 80.64 | R.Avg NW: 100.06 | R.U: 101\n",
      "Ep: 18 | TS: 379430 | L: 1875714743.375 | R: -72.58 | P: -13.24 | R.Avg P: -0.64 | NW: 86.76 | R.Avg NW: 99.36 | R.U: 100\n",
      "Ep: 19 | TS: 399400 | L: 1856168253.104 | R: -55.94 | P: 37.34 | R.Avg P: 1.26 | NW: 137.34 | R.Avg NW: 101.26 | R.U: 102\n",
      "Ep: 20 | TS: 419370 | L: 1836791154.513 | R: -71.54 | P: -11.31 | R.Avg P: 0.66 | NW: 88.69 | R.Avg NW: 100.66 | R.U: 101\n",
      "Ep: 21 | TS: 439340 | L: 1817585673.149 | R: -82.07 | P: -43.58 | R.Avg P: -1.35 | NW: 56.42 | R.Avg NW: 98.65 | R.U: 99\n",
      "Ep: 22 | TS: 459310 | L: 1798552136.957 | R: -59.82 | P: 23.79 | R.Avg P: -0.25 | NW: 123.79 | R.Avg NW: 99.75 | R.U: 100\n",
      "Ep: 23 | TS: 479280 | L: 1779689034.927 | R: -66.52 | P: 3.6 | R.Avg P: -0.09 | NW: 103.6 | R.Avg NW: 99.91 | R.U: 100\n",
      "Ep: 24 | TS: 499250 | L: 1760997942.301 | R: -65.88 | P: 6.53 | R.Avg P: 0.17 | NW: 106.53 | R.Avg NW: 100.17 | R.U: 100\n",
      "Ep: 25 | TS: 519220 | L: 1742479088.638 | R: -69.43 | P: -5.46 | R.Avg P: -0.05 | NW: 94.54 | R.Avg NW: 99.95 | R.U: 100\n",
      "Ep: 26 | TS: 539190 | L: 1724130962.008 | R: -66.85 | P: 3.42 | R.Avg P: 0.08 | NW: 103.42 | R.Avg NW: 100.08 | R.U: 100\n",
      "Ep: 27 | TS: 559160 | L: 1705954368.337 | R: -69.38 | P: -4.21 | R.Avg P: -0.07 | NW: 95.79 | R.Avg NW: 99.93 | R.U: 100\n",
      "Ep: 28 | TS: 579130 | L: 1687952562.838 | R: -42.34 | P: 79.68 | R.Avg P: 2.68 | NW: 179.68 | R.Avg NW: 102.68 | R.U: 103\n",
      "Ep: 29 | TS: 599100 | L: 1670129016.199 | R: -57.26 | P: 30.53 | R.Avg P: 3.61 | NW: 130.53 | R.Avg NW: 103.61 | R.U: 104\n",
      "Ep: 30 | TS: 619070 | L: 1652481143.406 | R: -81.22 | P: -41.2 | R.Avg P: 2.16 | NW: 58.8 | R.Avg NW: 102.16 | R.U: 102\n",
      "Ep: 31 | TS: 639040 | L: 1635009151.219 | R: -64.38 | P: 10.87 | R.Avg P: 2.43 | NW: 110.87 | R.Avg NW: 102.43 | R.U: 103\n",
      "Ep: 32 | TS: 659010 | L: 1617711252.083 | R: -65.41 | P: 6.57 | R.Avg P: 2.56 | NW: 106.57 | R.Avg NW: 102.56 | R.U: 103\n",
      "Ep: 33 | TS: 678980 | L: 1600586708.877 | R: -73.11 | P: -16.12 | R.Avg P: 2.01 | NW: 83.88 | R.Avg NW: 102.01 | R.U: 102\n",
      "Ep: 34 | TS: 698950 | L: 1583637850.53 | R: -74.44 | P: -20.62 | R.Avg P: 1.36 | NW: 79.38 | R.Avg NW: 101.36 | R.U: 102\n",
      "Ep: 35 | TS: 718920 | L: 1566864767.723 | R: -77.97 | P: -32.5 | R.Avg P: 0.42 | NW: 67.5 | R.Avg NW: 100.42 | R.U: 101\n",
      "Ep: 36 | TS: 738890 | L: 1550267010.597 | R: -58.83 | P: 28.81 | R.Avg P: 1.19 | NW: 128.81 | R.Avg NW: 101.19 | R.U: 101\n",
      "Ep: 37 | TS: 758860 | L: 1533841887.098 | R: -65.61 | P: 6.85 | R.Avg P: 1.34 | NW: 106.85 | R.Avg NW: 101.34 | R.U: 102\n",
      "Ep: 38 | TS: 778830 | L: 1517588630.719 | R: -63.42 | P: 14.78 | R.Avg P: 1.68 | NW: 114.78 | R.Avg NW: 101.68 | R.U: 102\n",
      "Ep: 39 | TS: 798800 | L: 1501509438.196 | R: -64.65 | P: 10.15 | R.Avg P: 1.9 | NW: 110.15 | R.Avg NW: 101.9 | R.U: 102\n",
      "Ep: 40 | TS: 818770 | L: 1485603007.769 | R: -57.74 | P: 32.77 | R.Avg P: 2.65 | NW: 132.77 | R.Avg NW: 102.65 | R.U: 103\n",
      "Ep: 41 | TS: 838740 | L: 1469873272.578 | R: -59.99 | P: 25.78 | R.Avg P: 3.2 | NW: 125.78 | R.Avg NW: 103.2 | R.U: 103\n",
      "Ep: 42 | TS: 858710 | L: 1454316504.199 | R: -81.28 | P: -42.08 | R.Avg P: 2.15 | NW: 57.92 | R.Avg NW: 102.15 | R.U: 102\n",
      "Ep: 43 | TS: 878680 | L: 1438927134.603 | R: -75.51 | P: -24.23 | R.Avg P: 1.55 | NW: 75.77 | R.Avg NW: 101.55 | R.U: 102\n",
      "Ep: 44 | TS: 898650 | L: 1423706977.989 | R: -70.03 | P: -5.58 | R.Avg P: 1.39 | NW: 94.42 | R.Avg NW: 101.39 | R.U: 101\n",
      "Ep: 45 | TS: 918620 | L: 1408654120.658 | R: -70.58 | P: -8.35 | R.Avg P: 1.18 | NW: 91.65 | R.Avg NW: 101.18 | R.U: 101\n",
      "Ep: 46 | TS: 938590 | L: 1393769107.577 | R: -75.59 | P: -23.21 | R.Avg P: 0.66 | NW: 76.79 | R.Avg NW: 100.66 | R.U: 101\n",
      "Ep: 47 | TS: 958560 | L: 1379044336.527 | R: -68.64 | P: -2.53 | R.Avg P: 0.59 | NW: 97.47 | R.Avg NW: 100.59 | R.U: 101\n",
      "Ep: 48 | TS: 978530 | L: 1364484539.143 | R: -69.12 | P: -3.81 | R.Avg P: 0.5 | NW: 96.19 | R.Avg NW: 100.5 | R.U: 101\n",
      "Ep: 49 | TS: 998500 | L: 1350088979.425 | R: -67.27 | P: 0.31 | R.Avg P: 0.5 | NW: 100.31 | R.Avg NW: 100.5 | R.U: 101\n",
      "Ep: 50 | TS: 1018470 | L: 1335854508.858 | R: -72.28 | P: -13.19 | R.Avg P: -0.77 | NW: 86.81 | R.Avg NW: 99.23 | R.U: 99\n",
      "Ep: 51 | TS: 1038440 | L: 1321777601.94 | R: -70.19 | P: -7.02 | R.Avg P: -1.03 | NW: 92.98 | R.Avg NW: 98.97 | R.U: 99\n",
      "Ep: 52 | TS: 1058410 | L: 1307859840.57 | R: -55.06 | P: 39.9 | R.Avg P: -0.19 | NW: 139.9 | R.Avg NW: 99.8 | R.U: 100\n",
      "Ep: 53 | TS: 1078380 | L: 1294102155.756 | R: -70.87 | P: -10.11 | R.Avg P: -0.49 | NW: 89.89 | R.Avg NW: 99.51 | R.U: 100\n",
      "Ep: 54 | TS: 1098350 | L: 1280501527.555 | R: -70.34 | P: -8.49 | R.Avg P: -0.06 | NW: 91.51 | R.Avg NW: 99.94 | R.U: 100\n",
      "Ep: 55 | TS: 1118320 | L: 1267056449.419 | R: -72.06 | P: -13.71 | R.Avg P: 0.02 | NW: 86.29 | R.Avg NW: 100.02 | R.U: 100\n",
      "Ep: 56 | TS: 1138290 | L: 1253766419.631 | R: -63.6 | P: 13.87 | R.Avg P: 0.15 | NW: 113.87 | R.Avg NW: 100.15 | R.U: 100\n",
      "Ep: 57 | TS: 1158260 | L: 1240631050.224 | R: -66.74 | P: 4.18 | R.Avg P: 0.53 | NW: 104.18 | R.Avg NW: 100.53 | R.U: 101\n",
      "Ep: 58 | TS: 1178230 | L: 1227646348.059 | R: -66.88 | P: 2.81 | R.Avg P: 0.4 | NW: 102.81 | R.Avg NW: 100.4 | R.U: 100\n",
      "Ep: 59 | TS: 1198200 | L: 1214814858.888 | R: -69.79 | P: -8.09 | R.Avg P: 0.6 | NW: 91.91 | R.Avg NW: 100.6 | R.U: 101\n",
      "Ep: 60 | TS: 1218170 | L: 1202132866.991 | R: -69.52 | P: -6.28 | R.Avg P: 0.19 | NW: 93.72 | R.Avg NW: 100.19 | R.U: 100\n",
      "Ep: 61 | TS: 1238140 | L: 1189600623.272 | R: -69.32 | P: -4.0 | R.Avg P: -0.06 | NW: 96.0 | R.Avg NW: 99.94 | R.U: 100\n",
      "Ep: 62 | TS: 1258110 | L: 1177218391.384 | R: -62.04 | P: 18.16 | R.Avg P: 0.54 | NW: 118.16 | R.Avg NW: 100.54 | R.U: 101\n",
      "Ep: 63 | TS: 1278080 | L: 1164985744.305 | R: -78.06 | P: -32.38 | R.Avg P: -0.07 | NW: 67.62 | R.Avg NW: 99.93 | R.U: 100\n",
      "Ep: 64 | TS: 1298050 | L: 1152900681.862 | R: -62.76 | P: 15.25 | R.Avg P: 0.25 | NW: 115.25 | R.Avg NW: 100.25 | R.U: 100\n",
      "Ep: 65 | TS: 1318020 | L: 1140962951.607 | R: -64.08 | P: 10.89 | R.Avg P: 0.76 | NW: 110.89 | R.Avg NW: 100.76 | R.U: 101\n",
      "Ep: 66 | TS: 1337990 | L: 1129170818.729 | R: -69.57 | P: -4.49 | R.Avg P: 0.03 | NW: 95.51 | R.Avg NW: 100.03 | R.U: 100\n",
      "Ep: 67 | TS: 1357960 | L: 1117521214.042 | R: -76.18 | P: -25.37 | R.Avg P: -0.09 | NW: 74.63 | R.Avg NW: 99.91 | R.U: 100\n",
      "Ep: 68 | TS: 1377930 | L: 1106013358.555 | R: -69.1 | P: -3.52 | R.Avg P: 0.11 | NW: 96.48 | R.Avg NW: 100.11 | R.U: 100\n",
      "Ep: 69 | TS: 1397900 | L: 1094645256.234 | R: -77.58 | P: -29.77 | R.Avg P: -1.23 | NW: 70.23 | R.Avg NW: 98.77 | R.U: 99\n",
      "Ep: 70 | TS: 1417870 | L: 1083413495.603 | R: -51.8 | P: 48.88 | R.Avg P: -0.03 | NW: 148.88 | R.Avg NW: 99.97 | R.U: 100\n",
      "Ep: 71 | TS: 1437840 | L: 1072321485.168 | R: -63.71 | P: 12.45 | R.Avg P: 1.09 | NW: 112.45 | R.Avg NW: 101.09 | R.U: 101\n",
      "Ep: 72 | TS: 1457810 | L: 1061365611.801 | R: -74.77 | P: -22.19 | R.Avg P: 0.17 | NW: 77.81 | R.Avg NW: 100.17 | R.U: 100\n",
      "Ep: 73 | TS: 1477780 | L: 1050546770.387 | R: -55.65 | P: 40.21 | R.Avg P: 0.9 | NW: 140.21 | R.Avg NW: 100.9 | R.U: 101\n",
      "Ep: 74 | TS: 1497750 | L: 1039864232.401 | R: -67.25 | P: 2.1 | R.Avg P: 0.81 | NW: 102.1 | R.Avg NW: 100.81 | R.U: 101\n",
      "Ep: 75 | TS: 1517720 | L: 1029317376.352 | R: -55.5 | P: 38.5 | R.Avg P: 1.69 | NW: 138.5 | R.Avg NW: 101.69 | R.U: 102\n",
      "Ep: 76 | TS: 1537690 | L: 1018905389.929 | R: -68.41 | P: -2.48 | R.Avg P: 1.58 | NW: 97.52 | R.Avg NW: 101.58 | R.U: 102\n",
      "Ep: 77 | TS: 1557660 | L: 1008625661.127 | R: -59.8 | P: 25.13 | R.Avg P: 2.16 | NW: 125.13 | R.Avg NW: 102.16 | R.U: 103\n",
      "Ep: 78 | TS: 1577630 | L: 998477983.008 | R: -76.03 | P: -25.54 | R.Avg P: 0.06 | NW: 74.46 | R.Avg NW: 100.06 | R.U: 100\n",
      "Ep: 79 | TS: 1597600 | L: 988458151.601 | R: -80.4 | P: -38.85 | R.Avg P: -1.33 | NW: 61.15 | R.Avg NW: 98.67 | R.U: 99\n",
      "Ep: 80 | TS: 1617570 | L: 978568129.358 | R: -68.68 | P: -1.69 | R.Avg P: -0.54 | NW: 98.31 | R.Avg NW: 99.46 | R.U: 100"
     ]
    },
    {
     "ename": "KeyboardInterrupt",
     "evalue": "",
     "output_type": "error",
     "traceback": [
      "\u001b[0;31m---------------------------------------------------------------------------\u001b[0m",
      "\u001b[0;31mKeyboardInterrupt\u001b[0m                         Traceback (most recent call last)",
      "\u001b[0;32m/var/folders/78/_bz_v2_103ld252mxn9ml9c00000gn/T/ipykernel_1023/2174834756.py\u001b[0m in \u001b[0;36m<module>\u001b[0;34m\u001b[0m\n\u001b[0;32m----> 1\u001b[0;31m \u001b[0ma2c\u001b[0m\u001b[0;34m.\u001b[0m\u001b[0mrun\u001b[0m\u001b[0;34m(\u001b[0m\u001b[0;36m5000\u001b[0m\u001b[0;34m)\u001b[0m\u001b[0;34m\u001b[0m\u001b[0;34m\u001b[0m\u001b[0m\n\u001b[0m",
      "\u001b[0;32m~/code/git/smart-broker/notebooks/../agents/a2c.py\u001b[0m in \u001b[0;36mrun\u001b[0;34m(self, ep)\u001b[0m\n\u001b[1;32m    252\u001b[0m \u001b[0;34m\u001b[0m\u001b[0m\n\u001b[1;32m    253\u001b[0m         \u001b[0;32mfor\u001b[0m \u001b[0mep_no\u001b[0m \u001b[0;32min\u001b[0m \u001b[0mrange\u001b[0m\u001b[0;34m(\u001b[0m\u001b[0mep\u001b[0m\u001b[0;34m)\u001b[0m\u001b[0;34m:\u001b[0m\u001b[0;34m\u001b[0m\u001b[0;34m\u001b[0m\u001b[0m\n\u001b[0;32m--> 254\u001b[0;31m             \u001b[0mep_loss\u001b[0m\u001b[0;34m,\u001b[0m \u001b[0mep_reward\u001b[0m\u001b[0;34m,\u001b[0m \u001b[0mprofit\u001b[0m\u001b[0;34m,\u001b[0m \u001b[0mbal\u001b[0m\u001b[0;34m,\u001b[0m \u001b[0munits_held\u001b[0m\u001b[0;34m,\u001b[0m \u001b[0mnet_worth\u001b[0m \u001b[0;34m=\u001b[0m \u001b[0mself\u001b[0m\u001b[0;34m.\u001b[0m\u001b[0mtrain\u001b[0m\u001b[0;34m(\u001b[0m\u001b[0;34m)\u001b[0m\u001b[0;34m\u001b[0m\u001b[0;34m\u001b[0m\u001b[0m\n\u001b[0m\u001b[1;32m    255\u001b[0m             \u001b[0mep_loss\u001b[0m \u001b[0;34m=\u001b[0m \u001b[0mround\u001b[0m\u001b[0;34m(\u001b[0m\u001b[0mep_loss\u001b[0m\u001b[0;34m,\u001b[0m \u001b[0;36m3\u001b[0m\u001b[0;34m)\u001b[0m\u001b[0;34m\u001b[0m\u001b[0;34m\u001b[0m\u001b[0m\n\u001b[1;32m    256\u001b[0m             \u001b[0mep_reward\u001b[0m \u001b[0;34m=\u001b[0m \u001b[0mround\u001b[0m\u001b[0;34m(\u001b[0m\u001b[0mep_reward\u001b[0m\u001b[0;34m,\u001b[0m \u001b[0;36m2\u001b[0m\u001b[0;34m)\u001b[0m\u001b[0;34m\u001b[0m\u001b[0;34m\u001b[0m\u001b[0m\n",
      "\u001b[0;32m~/code/git/smart-broker/notebooks/../agents/a2c.py\u001b[0m in \u001b[0;36mtrain\u001b[0;34m(self)\u001b[0m\n\u001b[1;32m     98\u001b[0m         \u001b[0;32mwhile\u001b[0m \u001b[0;32mnot\u001b[0m \u001b[0mep_ended\u001b[0m\u001b[0;34m:\u001b[0m\u001b[0;34m\u001b[0m\u001b[0;34m\u001b[0m\u001b[0m\n\u001b[1;32m     99\u001b[0m             \u001b[0;32mif\u001b[0m \u001b[0mself\u001b[0m\u001b[0;34m.\u001b[0m\u001b[0mp_net_type\u001b[0m \u001b[0;34m==\u001b[0m \u001b[0;34m'lstm'\u001b[0m\u001b[0;34m:\u001b[0m\u001b[0;34m\u001b[0m\u001b[0;34m\u001b[0m\u001b[0m\n\u001b[0;32m--> 100\u001b[0;31m                 policy, self.p_hdn_st = self.actor.forward(\n\u001b[0m\u001b[1;32m    101\u001b[0m                     \u001b[0mstate\u001b[0m\u001b[0;34m,\u001b[0m\u001b[0;34m\u001b[0m\u001b[0;34m\u001b[0m\u001b[0m\n\u001b[1;32m    102\u001b[0m                     \u001b[0mself\u001b[0m\u001b[0;34m.\u001b[0m\u001b[0mp_hdn_st\u001b[0m\u001b[0;34m,\u001b[0m\u001b[0;34m\u001b[0m\u001b[0;34m\u001b[0m\u001b[0m\n",
      "\u001b[0;32m~/code/git/smart-broker/notebooks/../networks/a2c_lstm/actor.py\u001b[0m in \u001b[0;36mforward\u001b[0;34m(self, x, prev_state)\u001b[0m\n\u001b[1;32m     26\u001b[0m     \u001b[0;32mdef\u001b[0m \u001b[0mforward\u001b[0m\u001b[0;34m(\u001b[0m\u001b[0mself\u001b[0m\u001b[0;34m,\u001b[0m \u001b[0mx\u001b[0m\u001b[0;34m,\u001b[0m \u001b[0mprev_state\u001b[0m\u001b[0;34m)\u001b[0m\u001b[0;34m:\u001b[0m\u001b[0;34m\u001b[0m\u001b[0;34m\u001b[0m\u001b[0m\n\u001b[1;32m     27\u001b[0m         \u001b[0mx\u001b[0m \u001b[0;34m=\u001b[0m \u001b[0mx\u001b[0m\u001b[0;34m.\u001b[0m\u001b[0mview\u001b[0m\u001b[0;34m(\u001b[0m\u001b[0;36m1\u001b[0m\u001b[0;34m,\u001b[0m \u001b[0;36m1\u001b[0m\u001b[0;34m,\u001b[0m \u001b[0mself\u001b[0m\u001b[0;34m.\u001b[0m\u001b[0minput_dim\u001b[0m\u001b[0;34m)\u001b[0m\u001b[0;34m\u001b[0m\u001b[0;34m\u001b[0m\u001b[0m\n\u001b[0;32m---> 28\u001b[0;31m         \u001b[0mx\u001b[0m\u001b[0;34m,\u001b[0m \u001b[0mstate\u001b[0m \u001b[0;34m=\u001b[0m \u001b[0mself\u001b[0m\u001b[0;34m.\u001b[0m\u001b[0mlstm\u001b[0m\u001b[0;34m(\u001b[0m\u001b[0mx\u001b[0m\u001b[0;34m,\u001b[0m \u001b[0mprev_state\u001b[0m\u001b[0;34m)\u001b[0m\u001b[0;34m\u001b[0m\u001b[0;34m\u001b[0m\u001b[0m\n\u001b[0m\u001b[1;32m     29\u001b[0m         \u001b[0mx\u001b[0m \u001b[0;34m=\u001b[0m \u001b[0mx\u001b[0m\u001b[0;34m.\u001b[0m\u001b[0mview\u001b[0m\u001b[0;34m(\u001b[0m\u001b[0;36m1\u001b[0m\u001b[0;34m,\u001b[0m \u001b[0;34m-\u001b[0m\u001b[0;36m1\u001b[0m\u001b[0;34m)\u001b[0m\u001b[0;34m\u001b[0m\u001b[0;34m\u001b[0m\u001b[0m\n\u001b[1;32m     30\u001b[0m         \u001b[0mx\u001b[0m \u001b[0;34m=\u001b[0m \u001b[0mF\u001b[0m\u001b[0;34m.\u001b[0m\u001b[0mrelu\u001b[0m\u001b[0;34m(\u001b[0m\u001b[0mself\u001b[0m\u001b[0;34m.\u001b[0m\u001b[0mfc1\u001b[0m\u001b[0;34m(\u001b[0m\u001b[0mx\u001b[0m\u001b[0;34m)\u001b[0m\u001b[0;34m)\u001b[0m\u001b[0;34m\u001b[0m\u001b[0;34m\u001b[0m\u001b[0m\n",
      "\u001b[0;32m~/miniforge3/lib/python3.9/site-packages/torch/nn/modules/module.py\u001b[0m in \u001b[0;36m_call_impl\u001b[0;34m(self, *input, **kwargs)\u001b[0m\n\u001b[1;32m   1100\u001b[0m         if not (self._backward_hooks or self._forward_hooks or self._forward_pre_hooks or _global_backward_hooks\n\u001b[1;32m   1101\u001b[0m                 or _global_forward_hooks or _global_forward_pre_hooks):\n\u001b[0;32m-> 1102\u001b[0;31m             \u001b[0;32mreturn\u001b[0m \u001b[0mforward_call\u001b[0m\u001b[0;34m(\u001b[0m\u001b[0;34m*\u001b[0m\u001b[0minput\u001b[0m\u001b[0;34m,\u001b[0m \u001b[0;34m**\u001b[0m\u001b[0mkwargs\u001b[0m\u001b[0;34m)\u001b[0m\u001b[0;34m\u001b[0m\u001b[0;34m\u001b[0m\u001b[0m\n\u001b[0m\u001b[1;32m   1103\u001b[0m         \u001b[0;31m# Do not call functions when jit is used\u001b[0m\u001b[0;34m\u001b[0m\u001b[0;34m\u001b[0m\u001b[0m\n\u001b[1;32m   1104\u001b[0m         \u001b[0mfull_backward_hooks\u001b[0m\u001b[0;34m,\u001b[0m \u001b[0mnon_full_backward_hooks\u001b[0m \u001b[0;34m=\u001b[0m \u001b[0;34m[\u001b[0m\u001b[0;34m]\u001b[0m\u001b[0;34m,\u001b[0m \u001b[0;34m[\u001b[0m\u001b[0;34m]\u001b[0m\u001b[0;34m\u001b[0m\u001b[0;34m\u001b[0m\u001b[0m\n",
      "\u001b[0;32m~/miniforge3/lib/python3.9/site-packages/torch/nn/modules/rnn.py\u001b[0m in \u001b[0;36mforward\u001b[0;34m(self, input, hx)\u001b[0m\n\u001b[1;32m    689\u001b[0m         \u001b[0mself\u001b[0m\u001b[0;34m.\u001b[0m\u001b[0mcheck_forward_args\u001b[0m\u001b[0;34m(\u001b[0m\u001b[0minput\u001b[0m\u001b[0;34m,\u001b[0m \u001b[0mhx\u001b[0m\u001b[0;34m,\u001b[0m \u001b[0mbatch_sizes\u001b[0m\u001b[0;34m)\u001b[0m\u001b[0;34m\u001b[0m\u001b[0;34m\u001b[0m\u001b[0m\n\u001b[1;32m    690\u001b[0m         \u001b[0;32mif\u001b[0m \u001b[0mbatch_sizes\u001b[0m \u001b[0;32mis\u001b[0m \u001b[0;32mNone\u001b[0m\u001b[0;34m:\u001b[0m\u001b[0;34m\u001b[0m\u001b[0;34m\u001b[0m\u001b[0m\n\u001b[0;32m--> 691\u001b[0;31m             result = _VF.lstm(input, hx, self._flat_weights, self.bias, self.num_layers,\n\u001b[0m\u001b[1;32m    692\u001b[0m                               self.dropout, self.training, self.bidirectional, self.batch_first)\n\u001b[1;32m    693\u001b[0m         \u001b[0;32melse\u001b[0m\u001b[0;34m:\u001b[0m\u001b[0;34m\u001b[0m\u001b[0;34m\u001b[0m\u001b[0m\n",
      "\u001b[0;31mKeyboardInterrupt\u001b[0m: "
     ]
    }
   ],
   "source": [
    "a2c.run(5000)"
   ]
  },
  {
   "cell_type": "code",
   "execution_count": 4,
   "id": "fa20681e-77fe-48f0-8045-d8304eb07d1e",
   "metadata": {},
   "outputs": [
    {
     "ename": "IndexError",
     "evalue": "index 0 is out of bounds for axis 0 with size 0",
     "output_type": "error",
     "traceback": [
      "\u001b[0;31m---------------------------------------------------------------------------\u001b[0m",
      "\u001b[0;31mIndexError\u001b[0m                                Traceback (most recent call last)",
      "\u001b[0;32m/var/folders/78/_bz_v2_103ld252mxn9ml9c00000gn/T/ipykernel_1023/3367241340.py\u001b[0m in \u001b[0;36m<module>\u001b[0;34m\u001b[0m\n\u001b[0;32m----> 1\u001b[0;31m \u001b[0ma2c\u001b[0m\u001b[0;34m.\u001b[0m\u001b[0mevaluate\u001b[0m\u001b[0;34m(\u001b[0m\u001b[0mstart_dt\u001b[0m\u001b[0;34m=\u001b[0m\u001b[0;34m'2021-01-02 07:00'\u001b[0m\u001b[0;34m,\u001b[0m \u001b[0mduration\u001b[0m\u001b[0;34m=\u001b[0m\u001b[0;36m30\u001b[0m\u001b[0;34m)\u001b[0m\u001b[0;34m\u001b[0m\u001b[0;34m\u001b[0m\u001b[0m\n\u001b[0m",
      "\u001b[0;32m~/code/git/smart-broker/notebooks/../agents/a2c.py\u001b[0m in \u001b[0;36mevaluate\u001b[0;34m(self, start_dt, duration)\u001b[0m\n\u001b[1;32m    168\u001b[0m \u001b[0;34m\u001b[0m\u001b[0m\n\u001b[1;32m    169\u001b[0m     \u001b[0;32mdef\u001b[0m \u001b[0mevaluate\u001b[0m\u001b[0;34m(\u001b[0m\u001b[0mself\u001b[0m\u001b[0;34m,\u001b[0m \u001b[0mstart_dt\u001b[0m\u001b[0;34m,\u001b[0m \u001b[0mduration\u001b[0m\u001b[0;34m)\u001b[0m\u001b[0;34m:\u001b[0m\u001b[0;34m\u001b[0m\u001b[0;34m\u001b[0m\u001b[0m\n\u001b[0;32m--> 170\u001b[0;31m         \u001b[0midx\u001b[0m \u001b[0;34m=\u001b[0m \u001b[0mself\u001b[0m\u001b[0;34m.\u001b[0m\u001b[0menv\u001b[0m\u001b[0;34m.\u001b[0m\u001b[0mdf\u001b[0m\u001b[0;34m.\u001b[0m\u001b[0mloc\u001b[0m\u001b[0;34m[\u001b[0m\u001b[0mself\u001b[0m\u001b[0;34m.\u001b[0m\u001b[0menv\u001b[0m\u001b[0;34m.\u001b[0m\u001b[0mdf\u001b[0m\u001b[0;34m[\u001b[0m\u001b[0;34m'date'\u001b[0m\u001b[0;34m]\u001b[0m \u001b[0;34m==\u001b[0m \u001b[0mstart_dt\u001b[0m\u001b[0;34m]\u001b[0m\u001b[0;34m.\u001b[0m\u001b[0mindex\u001b[0m\u001b[0;34m[\u001b[0m\u001b[0;36m0\u001b[0m\u001b[0;34m]\u001b[0m\u001b[0;34m\u001b[0m\u001b[0;34m\u001b[0m\u001b[0m\n\u001b[0m\u001b[1;32m    171\u001b[0m         \u001b[0mrewards\u001b[0m \u001b[0;34m=\u001b[0m \u001b[0mdeque\u001b[0m\u001b[0;34m(\u001b[0m\u001b[0mmaxlen\u001b[0m\u001b[0;34m=\u001b[0m\u001b[0mduration\u001b[0m\u001b[0;34m)\u001b[0m\u001b[0;34m\u001b[0m\u001b[0;34m\u001b[0m\u001b[0m\n\u001b[1;32m    172\u001b[0m         \u001b[0mprofits\u001b[0m \u001b[0;34m=\u001b[0m \u001b[0mdeque\u001b[0m\u001b[0;34m(\u001b[0m\u001b[0mmaxlen\u001b[0m\u001b[0;34m=\u001b[0m\u001b[0mduration\u001b[0m\u001b[0;34m)\u001b[0m\u001b[0;34m\u001b[0m\u001b[0;34m\u001b[0m\u001b[0m\n",
      "\u001b[0;32m~/miniforge3/lib/python3.9/site-packages/pandas/core/indexes/base.py\u001b[0m in \u001b[0;36m__getitem__\u001b[0;34m(self, key)\u001b[0m\n\u001b[1;32m   4602\u001b[0m         \u001b[0;32mif\u001b[0m \u001b[0mis_scalar\u001b[0m\u001b[0;34m(\u001b[0m\u001b[0mkey\u001b[0m\u001b[0;34m)\u001b[0m\u001b[0;34m:\u001b[0m\u001b[0;34m\u001b[0m\u001b[0;34m\u001b[0m\u001b[0m\n\u001b[1;32m   4603\u001b[0m             \u001b[0mkey\u001b[0m \u001b[0;34m=\u001b[0m \u001b[0mcom\u001b[0m\u001b[0;34m.\u001b[0m\u001b[0mcast_scalar_indexer\u001b[0m\u001b[0;34m(\u001b[0m\u001b[0mkey\u001b[0m\u001b[0;34m,\u001b[0m \u001b[0mwarn_float\u001b[0m\u001b[0;34m=\u001b[0m\u001b[0;32mTrue\u001b[0m\u001b[0;34m)\u001b[0m\u001b[0;34m\u001b[0m\u001b[0;34m\u001b[0m\u001b[0m\n\u001b[0;32m-> 4604\u001b[0;31m             \u001b[0;32mreturn\u001b[0m \u001b[0mgetitem\u001b[0m\u001b[0;34m(\u001b[0m\u001b[0mkey\u001b[0m\u001b[0;34m)\u001b[0m\u001b[0;34m\u001b[0m\u001b[0;34m\u001b[0m\u001b[0m\n\u001b[0m\u001b[1;32m   4605\u001b[0m \u001b[0;34m\u001b[0m\u001b[0m\n\u001b[1;32m   4606\u001b[0m         \u001b[0;32mif\u001b[0m \u001b[0misinstance\u001b[0m\u001b[0;34m(\u001b[0m\u001b[0mkey\u001b[0m\u001b[0;34m,\u001b[0m \u001b[0mslice\u001b[0m\u001b[0;34m)\u001b[0m\u001b[0;34m:\u001b[0m\u001b[0;34m\u001b[0m\u001b[0;34m\u001b[0m\u001b[0m\n",
      "\u001b[0;31mIndexError\u001b[0m: index 0 is out of bounds for axis 0 with size 0"
     ]
    }
   ],
   "source": [
    "a2c.evaluate(start_dt='2021-01-02 07:00', duration=30)"
   ]
  },
  {
   "cell_type": "markdown",
   "id": "be10907e",
   "metadata": {},
   "source": [
    "## Visualizations"
   ]
  },
  {
   "cell_type": "markdown",
   "id": "868b8904",
   "metadata": {},
   "source": [
    "### Training "
   ]
  },
  {
   "cell_type": "code",
   "execution_count": null,
   "id": "7126bc86",
   "metadata": {},
   "outputs": [],
   "source": [
    "fig, ax = plt.subplots(3, 2, figsize=(16, 12))\n",
    "r_avg_rewards = []\n",
    "r_avg_profits = []\n",
    "r_avg_bal = []\n",
    "r_avg_units_held = []\n",
    "r_avg_loss = []\n",
    "r_avg_net_worth = []\n",
    "count = 0\n",
    "\n",
    "for _, log in a2c.logs.items():\n",
    "    r_avg_rewards.append(log['r_avg_reward'])\n",
    "    r_avg_profits.append(log['r_avg_profit'])\n",
    "    r_avg_bal.append(log['r_avg_bal'])\n",
    "    r_avg_units_held.append(log['r_avg_units_held'])\n",
    "    r_avg_loss.append(log['r_avg_loss'])\n",
    "    r_avg_net_worth.append(log['r_avg_net_worth'])\n",
    "    count += 1\n",
    "\n",
    "ax[0][0].plot(range(count), r_avg_loss)\n",
    "ax[0][0].set_title('Rolling avg loss per episode')\n",
    "\n",
    "ax[0][1].plot(range(count), r_avg_rewards)\n",
    "ax[0][1].set_title('Rolling avg reward per episode')\n",
    "\n",
    "ax[1][0].plot(range(count), r_avg_profits)\n",
    "ax[1][0].set_title('Rolling avg profit per episode')\n",
    "\n",
    "ax[1][1].plot(range(count), r_avg_units_held)\n",
    "ax[1][1].set_title('Rolling avg units held per episode')\n",
    "\n",
    "ax[2][0].plot(range(count), r_avg_net_worth)\n",
    "ax[2][0].set_title('Rolling avg net worth per episode')\n",
    "\n",
    "ax[2][1].plot(range(count), r_avg_bal)\n",
    "ax[2][1].set_title('Rolling avg balance per episode')"
   ]
  },
  {
   "cell_type": "markdown",
   "id": "caa8cd7a-020f-4c84-88a1-76d7c1dab1e4",
   "metadata": {},
   "source": [
    "### Evaluation"
   ]
  },
  {
   "cell_type": "code",
   "execution_count": null,
   "id": "6f770b43-3c29-4260-aa4b-f5b318d3343a",
   "metadata": {},
   "outputs": [],
   "source": [
    "fig, ax = plt.subplots(3, 2, figsize=(16, 12))\n",
    "r_avg_rewards = []\n",
    "r_avg_profits = []\n",
    "r_avg_bal = []\n",
    "r_avg_units_held = []\n",
    "r_avg_loss = []\n",
    "r_avg_net_worth = []\n",
    "count = 0\n",
    "\n",
    "for _, log in a2c.eval_logs.items():\n",
    "    r_avg_rewards.append(log['r_avg_reward'])\n",
    "    r_avg_profits.append(log['r_avg_profit'])\n",
    "    r_avg_bal.append(log['r_avg_bal'])\n",
    "    r_avg_units_held.append(log['r_avg_units_held'])\n",
    "    r_avg_loss.append(log['r_avg_loss'])\n",
    "    r_avg_net_worth.append(log['r_avg_net_worth'])\n",
    "    count += 1\n",
    "\n",
    "ax[0][0].plot(range(count), r_avg_loss)\n",
    "ax[0][0].set_title('Rolling avg loss per episode')\n",
    "\n",
    "ax[0][1].plot(range(count), r_avg_rewards)\n",
    "ax[0][1].set_title('Rolling avg reward per episode')\n",
    "\n",
    "ax[1][0].plot(range(count), r_avg_profits)\n",
    "ax[1][0].set_title('Rolling avg profit per episode')\n",
    "\n",
    "ax[1][1].plot(range(count), r_avg_units_held)\n",
    "ax[1][1].set_title('Rolling avg units held per episode')\n",
    "\n",
    "ax[2][0].plot(range(count), r_avg_net_worth)\n",
    "ax[2][0].set_title('Rolling avg net worth per episode')\n",
    "\n",
    "ax[2][1].plot(range(count), r_avg_bal)\n",
    "ax[2][1].set_title('Rolling avg balance per episode')"
   ]
  },
  {
   "cell_type": "code",
   "execution_count": null,
   "id": "99e64867-909f-428f-bc21-0f5b6b3e26f0",
   "metadata": {},
   "outputs": [],
   "source": [
    "# torch.save(a2c.actor.state_dict(), '../models/a2c_cl_an/actor')\n",
    "# torch.save(a2c.critic.state_dict(), '../models/a2c_cl_an/critic')"
   ]
  },
  {
   "cell_type": "code",
   "execution_count": null,
   "id": "9b95b59c",
   "metadata": {},
   "outputs": [],
   "source": [
    "import pickle\n",
    "from datetime import datetime\n",
    "\n",
    "temp = dict(a2c.logs)\n",
    "with open(f\"../pickles/a2c_logs_{datetime.now()}.pickle\",\"wb\") as f:\n",
    "    pickle.dump(temp, f, pickle.HIGHEST_PROTOCOL)"
   ]
  },
  {
   "cell_type": "markdown",
   "id": "4701a519-91d8-41ed-a935-5111db639ef1",
   "metadata": {},
   "source": [
    "### Observations"
   ]
  },
  {
   "cell_type": "markdown",
   "id": "8b225c71-7641-4c3c-b05c-d4eb8f0b68da",
   "metadata": {},
   "source": [
    "- A2C performs well when actor is chained with LSTM and critic with Neural Network\n",
    "- If the actor is chained with Neural Network we dont seem to learn the task"
   ]
  }
 ],
 "metadata": {
  "kernelspec": {
   "display_name": "Python 3 (ipykernel)",
   "language": "python",
   "name": "python3"
  },
  "language_info": {
   "codemirror_mode": {
    "name": "ipython",
    "version": 3
   },
   "file_extension": ".py",
   "mimetype": "text/x-python",
   "name": "python",
   "nbconvert_exporter": "python",
   "pygments_lexer": "ipython3",
   "version": "3.9.7"
  }
 },
 "nbformat": 4,
 "nbformat_minor": 5
}
