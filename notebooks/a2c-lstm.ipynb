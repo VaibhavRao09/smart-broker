{
 "cells": [
  {
   "cell_type": "code",
   "execution_count": 1,
   "id": "11780219",
   "metadata": {},
   "outputs": [],
   "source": [
    "# add parent directory to path: enable import from parent dir\n",
    "import sys\n",
    "sys.path.append('../')\n",
    "\n",
    "from environment import SmartBrokerEnv\n",
    "from agents.a2c import A2C\n",
    "from networks.a2c.actor import Actor\n",
    "from networks.a2c.critic import Critic\n",
    "from networks.a2c_lstm.actor import ActorLSTM\n",
    "from networks.a2c_lstm.critic import CriticLSTM\n",
    "\n",
    "import gym\n",
    "import matplotlib.pyplot as plt\n",
    "import torch"
   ]
  },
  {
   "cell_type": "code",
   "execution_count": 2,
   "id": "337a2c63-a87f-405c-a2b0-3382ff174d76",
   "metadata": {},
   "outputs": [
    {
     "name": "stderr",
     "output_type": "stream",
     "text": [
      "/Users/vinay/miniforge3/lib/python3.9/site-packages/pandas/core/frame.py:3641: SettingWithCopyWarning: \n",
      "A value is trying to be set on a copy of a slice from a DataFrame.\n",
      "Try using .loc[row_indexer,col_indexer] = value instead\n",
      "\n",
      "See the caveats in the documentation: https://pandas.pydata.org/pandas-docs/stable/user_guide/indexing.html#returning-a-view-versus-a-copy\n",
      "  self[k1] = value[k2]\n",
      "/Users/vinay/code/git/smart-broker/notebooks/../environment.py:78: SettingWithCopyWarning: \n",
      "A value is trying to be set on a copy of a slice from a DataFrame.\n",
      "Try using .loc[row_indexer,col_indexer] = value instead\n",
      "\n",
      "See the caveats in the documentation: https://pandas.pydata.org/pandas-docs/stable/user_guide/indexing.html#returning-a-view-versus-a-copy\n",
      "  self.df['rolling_price'] = self.df[self.price_typ].rolling(self.roll_period).sum()\n",
      "/Users/vinay/miniforge3/lib/python3.9/site-packages/pandas/util/_decorators.py:311: SettingWithCopyWarning: \n",
      "A value is trying to be set on a copy of a slice from a DataFrame\n",
      "\n",
      "See the caveats in the documentation: https://pandas.pydata.org/pandas-docs/stable/user_guide/indexing.html#returning-a-view-versus-a-copy\n",
      "  return func(*args, **kwargs)\n"
     ]
    }
   ],
   "source": [
    "norm_cols = ['Volume XRP']\n",
    "cols = ['date'] + ['open', 'high', 'low', 'close', f'Volume XRP']\n",
    "batch_dur = 30\n",
    "env = SmartBrokerEnv(\n",
    "    batch_dur=batch_dur,\n",
    "    df_info={\n",
    "        'start_date': '2021-02-01',\n",
    "        'end_date': '2021-03-01',\n",
    "        'norm_cols': norm_cols,\n",
    "        'cols': cols,\n",
    "    },\n",
    "    portfolio={\n",
    "\n",
    "    },\n",
    ")\n",
    "\n",
    "actor_model = ActorLSTM(\n",
    "    state_dim=batch_dur*3+3,\n",
    "    action_dim=3,\n",
    ")\n",
    "critic_model = Critic(state_dim=batch_dur*3+3)\n",
    "a2c = A2C(\n",
    "    env=env, \n",
    "    actor=actor_model,\n",
    "    critic=critic_model,\n",
    "    n_actns=3,\n",
    "    actor_optmz=torch.optim.Adam(actor_model.parameters(), lr=0.00001),\n",
    "    critic_optmz=torch.optim.Adam(critic_model.parameters(), lr=0.00001),\n",
    "    hyprprms={\n",
    "        'gamma': 0.995,\n",
    "    },\n",
    "    log_freq=1,\n",
    "    p_net_type='lstm',\n",
    "    c_net_type='nn',\n",
    "    load_models=False,\n",
    "    mdl_pth='../models/a2c_al_cn',\n",
    ")"
   ]
  },
  {
   "cell_type": "code",
   "execution_count": null,
   "id": "89d172d7",
   "metadata": {},
   "outputs": [
    {
     "name": "stdout",
     "output_type": "stream",
     "text": [
      "\n",
      "Ep: 0 | L: 4.319 | R: -17.18 | P: -32.52 | R.Avg P: -32.52 | NW: 67.48 | R.Avg NW: 67.48 | R.U: 69\n",
      "Ep: 1 | L: 4.255 | R: -16.78 | P: 4.09 | R.Avg P: -14.22 | NW: 104.09 | R.Avg NW: 85.78 | R.U: 88\n",
      "Ep: 2 | L: 4.186 | R: -16.66 | P: 31.09 | R.Avg P: 0.89 | NW: 131.09 | R.Avg NW: 100.89 | R.U: 103\n",
      "Ep: 3 | L: 4.121 | R: -16.99 | P: -42.09 | R.Avg P: -9.86 | NW: 57.91 | R.Avg NW: 90.14 | R.U: 92\n",
      "Ep: 4 | L: 4.055 | R: -16.78 | P: 0.89 | R.Avg P: -7.71 | NW: 100.89 | R.Avg NW: 92.29 | R.U: 94\n",
      "Ep: 5 | L: 3.993 | R: -16.78 | P: 17.81 | R.Avg P: -3.46 | NW: 117.81 | R.Avg NW: 96.54 | R.U: 98\n",
      "Ep: 6 | L: 3.924 | R: -16.89 | P: -7.03 | R.Avg P: -3.97 | NW: 92.97 | R.Avg NW: 96.03 | R.U: 98\n",
      "Ep: 7 | L: 3.869 | R: -16.53 | P: 26.91 | R.Avg P: -0.11 | NW: 126.91 | R.Avg NW: 99.89 | R.U: 102\n",
      "Ep: 8 | L: 3.803 | R: -16.65 | P: 2.93 | R.Avg P: 0.23 | NW: 102.93 | R.Avg NW: 100.23 | R.U: 102\n",
      "Ep: 9 | L: 3.739 | R: -17.39 | P: 0.72 | R.Avg P: 0.28 | NW: 100.72 | R.Avg NW: 100.28 | R.U: 102\n",
      "Ep: 10 | L: 3.678 | R: -17.04 | P: -27.92 | R.Avg P: -2.28 | NW: 72.08 | R.Avg NW: 97.72 | R.U: 99\n",
      "Ep: 11 | L: 3.623 | R: -16.82 | P: 5.84 | R.Avg P: -1.61 | NW: 105.84 | R.Avg NW: 98.39 | R.U: 100\n",
      "Ep: 12 | L: 3.558 | R: -17.1 | P: 1.19 | R.Avg P: -1.39 | NW: 101.19 | R.Avg NW: 98.61 | R.U: 100\n",
      "Ep: 13 | L: 3.496 | R: -17.22 | P: -6.11 | R.Avg P: -1.73 | NW: 93.89 | R.Avg NW: 98.27 | R.U: 100\n",
      "Ep: 14 | L: 3.44 | R: -16.93 | P: -5.31 | R.Avg P: -1.97 | NW: 94.69 | R.Avg NW: 98.03 | R.U: 100\n",
      "Ep: 15 | L: 3.386 | R: -16.79 | P: 67.41 | R.Avg P: 2.37 | NW: 167.41 | R.Avg NW: 102.37 | R.U: 104\n",
      "Ep: 16 | L: 3.325 | R: -16.73 | P: -4.97 | R.Avg P: 1.94 | NW: 95.03 | R.Avg NW: 101.94 | R.U: 104\n",
      "Ep: 17 | L: 3.269 | R: -17.09 | P: -36.69 | R.Avg P: -0.21 | NW: 63.31 | R.Avg NW: 99.79 | R.U: 101\n",
      "Ep: 18 | L: 3.213 | R: -16.78 | P: 11.46 | R.Avg P: 0.41 | NW: 111.46 | R.Avg NW: 100.41 | R.U: 102\n",
      "Ep: 19 | L: 3.154 | R: -16.95 | P: 3.62 | R.Avg P: 0.57 | NW: 103.62 | R.Avg NW: 100.57 | R.U: 102\n",
      "Ep: 20 | L: 3.107 | R: -16.65 | P: -23.7 | R.Avg P: -0.59 | NW: 76.3 | R.Avg NW: 99.41 | R.U: 101\n",
      "Ep: 21 | L: 3.051 | R: -16.78 | P: 11.62 | R.Avg P: -0.03 | NW: 111.62 | R.Avg NW: 99.97 | R.U: 102\n",
      "Ep: 22 | L: 2.996 | R: -16.96 | P: -14.75 | R.Avg P: -0.67 | NW: 85.25 | R.Avg NW: 99.33 | R.U: 101\n",
      "Ep: 23 | L: 2.947 | R: -16.54 | P: -10.74 | R.Avg P: -1.09 | NW: 89.26 | R.Avg NW: 98.91 | R.U: 101\n",
      "Ep: 24 | L: 2.893 | R: -16.82 | P: 12.74 | R.Avg P: -0.54 | NW: 112.74 | R.Avg NW: 99.46 | R.U: 101\n",
      "Ep: 25 | L: 2.843 | R: -16.88 | P: -20.22 | R.Avg P: -1.3 | NW: 79.78 | R.Avg NW: 98.7 | R.U: 101\n",
      "Ep: 26 | L: 2.796 | R: -16.94 | P: -7.52 | R.Avg P: -1.53 | NW: 92.48 | R.Avg NW: 98.47 | R.U: 100\n",
      "Ep: 27 | L: 2.742 | R: -17.02 | P: -21.96 | R.Avg P: -2.26 | NW: 78.04 | R.Avg NW: 97.74 | R.U: 100\n",
      "Ep: 28 | L: 2.696 | R: -17.31 | P: -33.3 | R.Avg P: -3.33 | NW: 66.7 | R.Avg NW: 96.67 | R.U: 98\n",
      "Ep: 29 | L: 2.648 | R: -17.01 | P: -6.47 | R.Avg P: -3.43 | NW: 93.53 | R.Avg NW: 96.57 | R.U: 98\n",
      "Ep: 30 | L: 2.605 | R: -16.53 | P: 29.05 | R.Avg P: -2.38 | NW: 129.05 | R.Avg NW: 97.62 | R.U: 99\n",
      "Ep: 31 | L: 2.552 | R: -17.23 | P: -26.74 | R.Avg P: -3.15 | NW: 73.26 | R.Avg NW: 96.85 | R.U: 99\n",
      "Ep: 32 | L: 2.51 | R: -16.65 | P: 20.3 | R.Avg P: -2.44 | NW: 120.3 | R.Avg NW: 97.56 | R.U: 99\n",
      "Ep: 33 | L: 2.466 | R: -16.97 | P: -11.56 | R.Avg P: -2.7 | NW: 88.44 | R.Avg NW: 97.3 | R.U: 99\n",
      "Ep: 34 | L: 2.42 | R: -17.01 | P: -0.62 | R.Avg P: -2.64 | NW: 99.38 | R.Avg NW: 97.36 | R.U: 99"
     ]
    }
   ],
   "source": [
    "a2c.run(5000)"
   ]
  },
  {
   "cell_type": "code",
   "execution_count": null,
   "id": "fa20681e-77fe-48f0-8045-d8304eb07d1e",
   "metadata": {},
   "outputs": [],
   "source": [
    "a2c.evaluate(100)"
   ]
  },
  {
   "cell_type": "markdown",
   "id": "be10907e",
   "metadata": {},
   "source": [
    "## Visualizations"
   ]
  },
  {
   "cell_type": "markdown",
   "id": "868b8904",
   "metadata": {},
   "source": [
    "### Traning "
   ]
  },
  {
   "cell_type": "code",
   "execution_count": null,
   "id": "7126bc86",
   "metadata": {},
   "outputs": [],
   "source": [
    "fig, ax = plt.subplots(3, 2, figsize=(16, 12))\n",
    "r_avg_rewards = []\n",
    "r_avg_profits = []\n",
    "r_avg_bal = []\n",
    "r_avg_units_held = []\n",
    "r_avg_loss = []\n",
    "r_avg_net_worth = []\n",
    "count = 0\n",
    "\n",
    "for _, log in a2c.logs.items():\n",
    "    r_avg_rewards.append(log['r_avg_reward'])\n",
    "    r_avg_profits.append(log['r_avg_profit'])\n",
    "    r_avg_bal.append(log['r_avg_bal'])\n",
    "    r_avg_units_held.append(log['r_avg_units_held'])\n",
    "    r_avg_loss.append(log['r_avg_loss'])\n",
    "    r_avg_net_worth.append(log['r_avg_net_worth'])\n",
    "    count += 1\n",
    "\n",
    "ax[0][0].plot(range(count), r_avg_loss)\n",
    "ax[0][0].set_title('Rolling avg loss per episode')\n",
    "\n",
    "ax[0][1].plot(range(count), r_avg_rewards)\n",
    "ax[0][1].set_title('Rolling avg reward per episode')\n",
    "\n",
    "ax[1][0].plot(range(count), r_avg_profits)\n",
    "ax[1][0].set_title('Rolling avg profit per episode')\n",
    "\n",
    "ax[1][1].plot(range(count), r_avg_units_held)\n",
    "ax[1][1].set_title('Rolling avg units held per episode')\n",
    "\n",
    "ax[2][0].plot(range(count), r_avg_net_worth)\n",
    "ax[2][0].set_title('Rolling avg net worth per episode')\n",
    "\n",
    "ax[2][1].plot(range(count), r_avg_bal)\n",
    "ax[2][1].set_title('Rolling avg balance per episode')"
   ]
  },
  {
   "cell_type": "markdown",
   "id": "caa8cd7a-020f-4c84-88a1-76d7c1dab1e4",
   "metadata": {},
   "source": [
    "### Evaluation"
   ]
  },
  {
   "cell_type": "code",
   "execution_count": null,
   "id": "6f770b43-3c29-4260-aa4b-f5b318d3343a",
   "metadata": {},
   "outputs": [],
   "source": [
    "fig, ax = plt.subplots(3, 2, figsize=(16, 12))\n",
    "r_avg_rewards = []\n",
    "r_avg_profits = []\n",
    "r_avg_bal = []\n",
    "r_avg_units_held = []\n",
    "r_avg_loss = []\n",
    "r_avg_net_worth = []\n",
    "count = 0\n",
    "\n",
    "for _, log in a2c.eval_logs.items():\n",
    "    r_avg_rewards.append(log['r_avg_reward'])\n",
    "    r_avg_profits.append(log['r_avg_profit'])\n",
    "    r_avg_bal.append(log['r_avg_bal'])\n",
    "    r_avg_units_held.append(log['r_avg_units_held'])\n",
    "    r_avg_loss.append(log['r_avg_loss'])\n",
    "    r_avg_net_worth.append(log['r_avg_net_worth'])\n",
    "    count += 1\n",
    "\n",
    "ax[0][0].plot(range(count), r_avg_loss)\n",
    "ax[0][0].set_title('Rolling avg loss per episode')\n",
    "\n",
    "ax[0][1].plot(range(count), r_avg_rewards)\n",
    "ax[0][1].set_title('Rolling avg reward per episode')\n",
    "\n",
    "ax[1][0].plot(range(count), r_avg_profits)\n",
    "ax[1][0].set_title('Rolling avg profit per episode')\n",
    "\n",
    "ax[1][1].plot(range(count), r_avg_units_held)\n",
    "ax[1][1].set_title('Rolling avg units held per episode')\n",
    "\n",
    "ax[2][0].plot(range(count), r_avg_net_worth)\n",
    "ax[2][0].set_title('Rolling avg net worth per episode')\n",
    "\n",
    "ax[2][1].plot(range(count), r_avg_bal)\n",
    "ax[2][1].set_title('Rolling avg balance per episode')"
   ]
  },
  {
   "cell_type": "code",
   "execution_count": null,
   "id": "99e64867-909f-428f-bc21-0f5b6b3e26f0",
   "metadata": {},
   "outputs": [],
   "source": [
    "# torch.save(a2c.actor.state_dict(), '../models/a2c_cl_an/actor')\n",
    "# torch.save(a2c.critic.state_dict(), '../models/a2c_cl_an/critic')"
   ]
  },
  {
   "cell_type": "code",
   "execution_count": null,
   "id": "9b95b59c",
   "metadata": {},
   "outputs": [],
   "source": [
    "import pickle\n",
    "from datetime import datetime\n",
    "\n",
    "temp = dict(a2c.logs)\n",
    "with open(f\"../pickles/a2c_logs_{datetime.now()}.pickle\",\"wb\") as f:\n",
    "    pickle.dump(temp, f, pickle.HIGHEST_PROTOCOL)"
   ]
  },
  {
   "cell_type": "markdown",
   "id": "4701a519-91d8-41ed-a935-5111db639ef1",
   "metadata": {},
   "source": [
    "### Observations"
   ]
  },
  {
   "cell_type": "markdown",
   "id": "8b225c71-7641-4c3c-b05c-d4eb8f0b68da",
   "metadata": {},
   "source": [
    "- A2C performs well when actor is chained with LSTM and critic with Neural Network\n",
    "- If the actor is chained with Neural Network we dont seem to learn the task"
   ]
  }
 ],
 "metadata": {
  "kernelspec": {
   "display_name": "Python 3 (ipykernel)",
   "language": "python",
   "name": "python3"
  },
  "language_info": {
   "codemirror_mode": {
    "name": "ipython",
    "version": 3
   },
   "file_extension": ".py",
   "mimetype": "text/x-python",
   "name": "python",
   "nbconvert_exporter": "python",
   "pygments_lexer": "ipython3",
   "version": "3.9.7"
  }
 },
 "nbformat": 4,
 "nbformat_minor": 5
}
