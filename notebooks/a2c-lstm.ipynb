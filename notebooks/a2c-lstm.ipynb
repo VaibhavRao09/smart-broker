{
 "cells": [
  {
   "cell_type": "code",
   "execution_count": 1,
   "id": "11780219",
   "metadata": {},
   "outputs": [],
   "source": [
    "# add parent directory to path: enable import from parent dir\n",
    "import sys\n",
    "sys.path.append('../')\n",
    "\n",
    "from environment import SmartBrokerEnv\n",
    "from agents.a2c import A2C\n",
    "from networks.a2c.actor import Actor\n",
    "from networks.a2c.critic import Critic\n",
    "from networks.a2c_lstm.actor import ActorLSTM\n",
    "from networks.a2c_lstm.critic import CriticLSTM\n",
    "\n",
    "import gym\n",
    "import matplotlib.pyplot as plt\n",
    "import torch"
   ]
  },
  {
   "cell_type": "code",
   "execution_count": 2,
   "id": "337a2c63-a87f-405c-a2b0-3382ff174d76",
   "metadata": {},
   "outputs": [],
   "source": [
    "norm_cols = []\n",
    "cols = ['date'] + ['open', 'high', 'low', 'close', f'Volume XRP']\n",
    "batch_dur = 30\n",
    "env = SmartBrokerEnv(\n",
    "    batch_dur=batch_dur,\n",
    "    df_info={\n",
    "        'start_date': '2021-02-01',\n",
    "        'end_date': '2021-03-01',\n",
    "        'norm_cols': norm_cols,\n",
    "        'cols': cols,\n",
    "    },\n",
    "    portfolio={\n",
    "\n",
    "    },\n",
    ")\n",
    "\n",
    "actor_model = ActorLSTM(\n",
    "    state_dim=batch_dur*3+3,\n",
    "    action_dim=3,\n",
    ")\n",
    "critic_model = Critic(state_dim=batch_dur*3+3)\n",
    "a2c = A2C(\n",
    "    env=env, \n",
    "    actor=actor_model,\n",
    "    critic=critic_model,\n",
    "    n_actns=3,\n",
    "    actor_optmz=torch.optim.Adam(actor_model.parameters(), lr=0.00001),\n",
    "    critic_optmz=torch.optim.Adam(critic_model.parameters(), lr=0.00001),\n",
    "    hyprprms={\n",
    "        'gamma': 0.995,\n",
    "    },\n",
    "    log_freq=1,\n",
    "    p_net_type='lstm',\n",
    "    c_net_type='nn',\n",
    "    load_models=False,\n",
    "    mdl_pth='../models/a2c_al_cn',\n",
    ")"
   ]
  },
  {
   "cell_type": "code",
   "execution_count": null,
   "id": "89d172d7",
   "metadata": {},
   "outputs": [
    {
     "name": "stdout",
     "output_type": "stream",
     "text": [
      "\n",
      "Ep: 0 | TS: 19970 | L: 1963277828.304 | R: 26.59 | P: -15.08 | R.Avg P: -15.08 | NW: 84.92 | R.Avg NW: 84.92 | R.U: 90\n",
      "Ep: 1 | TS: 39940 | L: 1947149588.86 | R: 36.53 | P: 8.78 | R.Avg P: -3.15 | NW: 108.78 | R.Avg NW: 96.85 | R.U: 103\n",
      "Ep: 2 | TS: 59910 | L: 1931103297.954 | R: 30.59 | P: -3.59 | R.Avg P: -3.3 | NW: 96.41 | R.Avg NW: 96.7 | R.U: 103\n",
      "Ep: 3 | TS: 79880 | L: 1915140032.984 | R: 31.54 | P: -1.36 | R.Avg P: -2.81 | NW: 98.64 | R.Avg NW: 97.19 | R.U: 103\n",
      "Ep: 4 | TS: 99850 | L: 1899263728.498 | R: 30.63 | P: -1.1 | R.Avg P: -2.47 | NW: 98.9 | R.Avg NW: 97.53 | R.U: 104\n",
      "Ep: 5 | TS: 119820 | L: 1883472809.952 | R: 34.97 | P: 3.48 | R.Avg P: -1.48 | NW: 103.48 | R.Avg NW: 98.52 | R.U: 105\n",
      "Ep: 6 | TS: 139790 | L: 1867765130.711 | R: 36.48 | P: 11.01 | R.Avg P: 0.31 | NW: 111.01 | R.Avg NW: 100.31 | R.U: 107\n",
      "Ep: 7 | TS: 159760 | L: 1852144182.446 | R: 26.77 | P: -15.54 | R.Avg P: -1.67 | NW: 84.46 | R.Avg NW: 98.32 | R.U: 105\n",
      "Ep: 8 | TS: 179730 | L: 1836611934.718 | R: 45.28 | P: 32.49 | R.Avg P: 2.12 | NW: 132.49 | R.Avg NW: 102.12 | R.U: 109\n",
      "Ep: 9 | TS: 199700 | L: 1821170613.706 | R: 32.12 | P: 1.53 | R.Avg P: 2.06 | NW: 101.53 | R.Avg NW: 102.06 | R.U: 109\n",
      "Ep: 10 | TS: 219670 | L: 1805821963.381 | R: 46.41 | P: 35.06 | R.Avg P: 5.06 | NW: 135.06 | R.Avg NW: 105.06 | R.U: 112\n",
      "Ep: 11 | TS: 239640 | L: 1790566423.506 | R: 39.47 | P: 20.75 | R.Avg P: 6.37 | NW: 120.75 | R.Avg NW: 106.37 | R.U: 113\n",
      "Ep: 12 | TS: 259610 | L: 1775403090.438 | R: 24.44 | P: -17.86 | R.Avg P: 4.51 | NW: 82.14 | R.Avg NW: 104.51 | R.U: 111\n",
      "Ep: 13 | TS: 279580 | L: 1760333426.91 | R: 46.37 | P: 35.74 | R.Avg P: 6.74 | NW: 135.74 | R.Avg NW: 106.74 | R.U: 114\n",
      "Ep: 14 | TS: 299550 | L: 1745356690.354 | R: 26.1 | P: -14.86 | R.Avg P: 5.3 | NW: 85.14 | R.Avg NW: 105.3 | R.U: 112\n",
      "Ep: 15 | TS: 319520 | L: 1730476454.249 | R: 35.85 | P: 13.84 | R.Avg P: 5.83 | NW: 113.84 | R.Avg NW: 105.83 | R.U: 113\n",
      "Ep: 16 | TS: 339490 | L: 1715692441.255 | R: 51.31 | P: 54.96 | R.Avg P: 8.72 | NW: 154.96 | R.Avg NW: 108.72 | R.U: 116\n",
      "Ep: 17 | TS: 359460 | L: 1701005268.161 | R: 31.6 | P: 1.48 | R.Avg P: 8.32 | NW: 101.48 | R.Avg NW: 108.32 | R.U: 116\n",
      "Ep: 18 | TS: 379430 | L: 1686416369.113 | R: 41.43 | P: 24.85 | R.Avg P: 9.19 | NW: 124.85 | R.Avg NW: 109.19 | R.U: 117\n",
      "Ep: 19 | TS: 399400 | L: 1671926456.517 | R: 27.98 | P: -6.88 | R.Avg P: 8.38 | NW: 93.12 | R.Avg NW: 108.38 | R.U: 116\n",
      "Ep: 20 | TS: 419370 | L: 1657537909.387 | R: 36.14 | P: 11.3 | R.Avg P: 8.52 | NW: 111.3 | R.Avg NW: 108.52 | R.U: 116\n",
      "Ep: 21 | TS: 439340 | L: 1643248429.312 | R: 18.26 | P: -37.61 | R.Avg P: 6.43 | NW: 62.39 | R.Avg NW: 106.43 | R.U: 114\n",
      "Ep: 22 | TS: 459310 | L: 1629061143.194 | R: 52.16 | P: 45.34 | R.Avg P: 8.12 | NW: 145.34 | R.Avg NW: 108.12 | R.U: 116\n",
      "Ep: 23 | TS: 479280 | L: 1614971804.797 | R: 23.39 | P: -21.11 | R.Avg P: 6.9 | NW: 78.89 | R.Avg NW: 106.9 | R.U: 114\n",
      "Ep: 24 | TS: 499250 | L: 1600984292.675 | R: 45.71 | P: 37.69 | R.Avg P: 8.13 | NW: 137.69 | R.Avg NW: 108.13 | R.U: 116\n",
      "Ep: 25 | TS: 519220 | L: 1587095496.027 | R: 32.09 | P: -1.03 | R.Avg P: 7.78 | NW: 98.97 | R.Avg NW: 107.78 | R.U: 115\n",
      "Ep: 26 | TS: 539190 | L: 1573307515.006 | R: 38.98 | P: 16.56 | R.Avg P: 8.11 | NW: 116.56 | R.Avg NW: 108.11 | R.U: 115\n",
      "Ep: 27 | TS: 559160 | L: 1559619630.579 | R: 50.03 | P: 39.41 | R.Avg P: 9.22 | NW: 139.41 | R.Avg NW: 109.22 | R.U: 117\n",
      "Ep: 28 | TS: 579130 | L: 1546030762.354 | R: 36.8 | P: 18.6 | R.Avg P: 9.55 | NW: 118.6 | R.Avg NW: 109.55 | R.U: 117\n",
      "Ep: 29 | TS: 599100 | L: 1532547160.731 | R: 28.68 | P: -4.95 | R.Avg P: 9.06 | NW: 95.05 | R.Avg NW: 109.06 | R.U: 116\n",
      "Ep: 30 | TS: 619070 | L: 1519165045.882 | R: 21.32 | P: -29.64 | R.Avg P: 7.81 | NW: 70.36 | R.Avg NW: 107.81 | R.U: 115\n",
      "Ep: 31 | TS: 639040 | L: 1505883769.832 | R: 37.74 | P: 12.22 | R.Avg P: 7.95 | NW: 112.22 | R.Avg NW: 107.95 | R.U: 115\n",
      "Ep: 32 | TS: 659010 | L: 1492703362.913 | R: 26.05 | P: -18.3 | R.Avg P: 7.16 | NW: 81.7 | R.Avg NW: 107.16 | R.U: 114\n",
      "Ep: 33 | TS: 678980 | L: 1479623943.08 | R: 50.85 | P: 46.6 | R.Avg P: 8.32 | NW: 146.6 | R.Avg NW: 108.32 | R.U: 116\n",
      "Ep: 34 | TS: 698950 | L: 1466645101.047 | R: 30.66 | P: 1.27 | R.Avg P: 8.12 | NW: 101.27 | R.Avg NW: 108.12 | R.U: 115\n",
      "Ep: 35 | TS: 718920 | L: 1453768134.419 | R: 18.72 | P: -35.51 | R.Avg P: 6.9 | NW: 64.49 | R.Avg NW: 106.9 | R.U: 114\n",
      "Ep: 36 | TS: 738890 | L: 1440993856.668 | R: 21.92 | P: -23.34 | R.Avg P: 6.09 | NW: 76.66 | R.Avg NW: 106.09 | R.U: 113\n",
      "Ep: 37 | TS: 758860 | L: 1428321163.611 | R: 35.82 | P: 10.96 | R.Avg P: 6.21 | NW: 110.96 | R.Avg NW: 106.21 | R.U: 113\n",
      "Ep: 38 | TS: 778830 | L: 1415748369.949 | R: 34.66 | P: 10.96 | R.Avg P: 6.34 | NW: 110.96 | R.Avg NW: 106.34 | R.U: 114\n",
      "Ep: 39 | TS: 798800 | L: 1403274394.249 | R: 44.91 | P: 41.37 | R.Avg P: 7.21 | NW: 141.37 | R.Avg NW: 107.21 | R.U: 115\n",
      "Ep: 40 | TS: 818770 | L: 1390901619.412 | R: 28.09 | P: -13.81 | R.Avg P: 6.7 | NW: 86.19 | R.Avg NW: 106.7 | R.U: 114\n",
      "Ep: 41 | TS: 838740 | L: 1378628770.515 | R: 30.24 | P: -2.12 | R.Avg P: 6.49 | NW: 97.88 | R.Avg NW: 106.49 | R.U: 114"
     ]
    }
   ],
   "source": [
    "a2c.run(5000)"
   ]
  },
  {
   "cell_type": "code",
   "execution_count": null,
   "id": "fa20681e-77fe-48f0-8045-d8304eb07d1e",
   "metadata": {},
   "outputs": [],
   "source": [
    "a2c.evaluate(start_dt='2021-01-02 07:00', duration=30)"
   ]
  },
  {
   "cell_type": "markdown",
   "id": "be10907e",
   "metadata": {},
   "source": [
    "## Visualizations"
   ]
  },
  {
   "cell_type": "markdown",
   "id": "868b8904",
   "metadata": {},
   "source": [
    "### Training "
   ]
  },
  {
   "cell_type": "code",
   "execution_count": null,
   "id": "7126bc86",
   "metadata": {},
   "outputs": [],
   "source": [
    "fig, ax = plt.subplots(3, 2, figsize=(16, 12))\n",
    "r_avg_rewards = []\n",
    "r_avg_profits = []\n",
    "r_avg_bal = []\n",
    "r_avg_units_held = []\n",
    "r_avg_loss = []\n",
    "r_avg_net_worth = []\n",
    "count = 0\n",
    "\n",
    "for _, log in a2c.logs.items():\n",
    "    r_avg_rewards.append(log['r_avg_reward'])\n",
    "    r_avg_profits.append(log['r_avg_profit'])\n",
    "    r_avg_bal.append(log['r_avg_bal'])\n",
    "    r_avg_units_held.append(log['r_avg_units_held'])\n",
    "    r_avg_loss.append(log['r_avg_loss'])\n",
    "    r_avg_net_worth.append(log['r_avg_net_worth'])\n",
    "    count += 1\n",
    "\n",
    "ax[0][0].plot(range(count), r_avg_loss)\n",
    "ax[0][0].set_title('Rolling avg loss per episode')\n",
    "\n",
    "ax[0][1].plot(range(count), r_avg_rewards)\n",
    "ax[0][1].set_title('Rolling avg reward per episode')\n",
    "\n",
    "ax[1][0].plot(range(count), r_avg_profits)\n",
    "ax[1][0].set_title('Rolling avg profit per episode')\n",
    "\n",
    "ax[1][1].plot(range(count), r_avg_units_held)\n",
    "ax[1][1].set_title('Rolling avg units held per episode')\n",
    "\n",
    "ax[2][0].plot(range(count), r_avg_net_worth)\n",
    "ax[2][0].set_title('Rolling avg net worth per episode')\n",
    "\n",
    "ax[2][1].plot(range(count), r_avg_bal)\n",
    "ax[2][1].set_title('Rolling avg balance per episode')"
   ]
  },
  {
   "cell_type": "markdown",
   "id": "caa8cd7a-020f-4c84-88a1-76d7c1dab1e4",
   "metadata": {},
   "source": [
    "### Evaluation"
   ]
  },
  {
   "cell_type": "code",
   "execution_count": null,
   "id": "6f770b43-3c29-4260-aa4b-f5b318d3343a",
   "metadata": {},
   "outputs": [],
   "source": [
    "fig, ax = plt.subplots(3, 2, figsize=(16, 12))\n",
    "r_avg_rewards = []\n",
    "r_avg_profits = []\n",
    "r_avg_bal = []\n",
    "r_avg_units_held = []\n",
    "r_avg_loss = []\n",
    "r_avg_net_worth = []\n",
    "count = 0\n",
    "\n",
    "for _, log in a2c.eval_logs.items():\n",
    "    r_avg_rewards.append(log['r_avg_reward'])\n",
    "    r_avg_profits.append(log['r_avg_profit'])\n",
    "    r_avg_bal.append(log['r_avg_bal'])\n",
    "    r_avg_units_held.append(log['r_avg_units_held'])\n",
    "    r_avg_loss.append(log['r_avg_loss'])\n",
    "    r_avg_net_worth.append(log['r_avg_net_worth'])\n",
    "    count += 1\n",
    "\n",
    "ax[0][0].plot(range(count), r_avg_loss)\n",
    "ax[0][0].set_title('Rolling avg loss per episode')\n",
    "\n",
    "ax[0][1].plot(range(count), r_avg_rewards)\n",
    "ax[0][1].set_title('Rolling avg reward per episode')\n",
    "\n",
    "ax[1][0].plot(range(count), r_avg_profits)\n",
    "ax[1][0].set_title('Rolling avg profit per episode')\n",
    "\n",
    "ax[1][1].plot(range(count), r_avg_units_held)\n",
    "ax[1][1].set_title('Rolling avg units held per episode')\n",
    "\n",
    "ax[2][0].plot(range(count), r_avg_net_worth)\n",
    "ax[2][0].set_title('Rolling avg net worth per episode')\n",
    "\n",
    "ax[2][1].plot(range(count), r_avg_bal)\n",
    "ax[2][1].set_title('Rolling avg balance per episode')"
   ]
  },
  {
   "cell_type": "code",
   "execution_count": null,
   "id": "99e64867-909f-428f-bc21-0f5b6b3e26f0",
   "metadata": {},
   "outputs": [],
   "source": [
    "# torch.save(a2c.actor.state_dict(), '../models/a2c_cl_an/actor')\n",
    "# torch.save(a2c.critic.state_dict(), '../models/a2c_cl_an/critic')"
   ]
  },
  {
   "cell_type": "code",
   "execution_count": null,
   "id": "9b95b59c",
   "metadata": {},
   "outputs": [],
   "source": [
    "import pickle\n",
    "from datetime import datetime\n",
    "\n",
    "temp = dict(a2c.logs)\n",
    "with open(f\"../pickles/a2c_logs_{datetime.now()}.pickle\",\"wb\") as f:\n",
    "    pickle.dump(temp, f, pickle.HIGHEST_PROTOCOL)"
   ]
  },
  {
   "cell_type": "markdown",
   "id": "4701a519-91d8-41ed-a935-5111db639ef1",
   "metadata": {},
   "source": [
    "### Observations"
   ]
  },
  {
   "cell_type": "markdown",
   "id": "8b225c71-7641-4c3c-b05c-d4eb8f0b68da",
   "metadata": {},
   "source": [
    "- A2C performs well when actor is chained with LSTM and critic with Neural Network\n",
    "- If the actor is chained with Neural Network we dont seem to learn the task"
   ]
  }
 ],
 "metadata": {
  "kernelspec": {
   "display_name": "Python 3 (ipykernel)",
   "language": "python",
   "name": "python3"
  },
  "language_info": {
   "codemirror_mode": {
    "name": "ipython",
    "version": 3
   },
   "file_extension": ".py",
   "mimetype": "text/x-python",
   "name": "python",
   "nbconvert_exporter": "python",
   "pygments_lexer": "ipython3",
   "version": "3.9.7"
  }
 },
 "nbformat": 4,
 "nbformat_minor": 5
}
