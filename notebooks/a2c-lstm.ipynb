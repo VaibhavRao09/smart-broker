{
 "cells": [
  {
   "cell_type": "code",
   "execution_count": 1,
   "id": "464cf220-f4ce-4c96-a36c-07f0377c8ae3",
   "metadata": {},
   "outputs": [],
   "source": [
    "# add parent directory to path: enable import from parent dir\n",
    "import sys\n",
    "sys.path.append('../')\n",
    "\n",
    "from environment import SmartBrokerEnv\n",
    "from agents.a2c import A2C\n",
    "from networks.a2c.actor import Actor\n",
    "from networks.a2c.critic import Critic\n",
    "from networks.a2c_lstm.actor import ActorLSTM\n",
    "from networks.a2c_lstm.critic import CriticLSTM\n",
    "\n",
    "import gym\n",
    "import matplotlib.pyplot as plt\n",
    "import torch\n",
    "\n",
    "norm_cols = ['Volume XRP']\n",
    "cols = ['date'] + ['open', 'high', 'low', 'close', f'Volume XRP']\n",
    "batch_dur = 15\n",
    "env = SmartBrokerEnv(\n",
    "    batch_dur=batch_dur,\n",
    "    df_info={\n",
    "        'start_date': '2021-01-01',\n",
    "        'end_date': '2021-02-01',\n",
    "        'norm_cols': norm_cols,\n",
    "        'cols': cols,\n",
    "    },\n",
    "    portfolio={\n",
    "\n",
    "    },\n",
    ")\n",
    "\n",
    "actor_model = ActorLSTM(\n",
    "    state_dim=batch_dur*3+3,\n",
    "    action_dim=3,\n",
    ")\n",
    "critic_model = CriticLSTM(state_dim=batch_dur*3+3)\n",
    "a2c = A2C(\n",
    "    env=env, \n",
    "    actor=actor_model,\n",
    "    critic=critic_model,\n",
    "    n_actns=3,\n",
    "    actor_optmz=torch.optim.Adam(actor_model.parameters(), lr=0.00001),\n",
    "    critic_optmz=torch.optim.Adam(critic_model.parameters(), lr=0.00001),\n",
    "    hyprprms={\n",
    "        'gamma': 0.995,\n",
    "    },\n",
    "    log_freq=1,\n",
    "    p_net_type='lstm',\n",
    "    c_net_type='lstm',\n",
    "    load_models=False,\n",
    "    mdl_pth='../models/a2c_al_cn',\n",
    ")"
   ]
  },
  {
   "cell_type": "code",
   "execution_count": null,
   "id": "89d172d7",
   "metadata": {},
   "outputs": [
    {
     "name": "stdout",
     "output_type": "stream",
     "text": [
      "\n",
      "Ep: 0 | TS: 19970 | L: 1.156 | R: -20.64 | P: 11.03 | R.Avg P: 11.03 | NW: 111.03 | R.Avg NW: 111.03 | R.U: 217\n",
      "Ep: 1 | TS: 39940 | L: 1.156 | R: -25.04 | P: -1.36 | R.Avg P: 4.84 | NW: 98.64 | R.Avg NW: 104.84 | R.U: 204\n",
      "Ep: 2 | TS: 59910 | L: 1.156 | R: -13.89 | P: 28.61 | R.Avg P: 12.76 | NW: 128.61 | R.Avg NW: 112.76 | R.U: 220\n",
      "Ep: 3 | TS: 79880 | L: 1.156 | R: -23.21 | P: 3.74 | R.Avg P: 10.5 | NW: 103.74 | R.Avg NW: 110.51 | R.U: 215\n",
      "Ep: 4 | TS: 99850 | L: 1.155 | R: -9.84 | P: 41.54 | R.Avg P: 16.71 | NW: 141.54 | R.Avg NW: 116.71 | R.U: 227\n",
      "Ep: 5 | TS: 119820 | L: 1.155 | R: -26.96 | P: -8.9 | R.Avg P: 12.44 | NW: 91.1 | R.Avg NW: 112.44 | R.U: 219\n",
      "Ep: 6 | TS: 139790 | L: 1.155 | R: -14.99 | P: 27.69 | R.Avg P: 14.62 | NW: 127.69 | R.Avg NW: 114.62 | R.U: 223\n",
      "Ep: 7 | TS: 159760 | L: 1.155 | R: -26.77 | P: -7.02 | R.Avg P: 11.92 | NW: 92.98 | R.Avg NW: 111.92 | R.U: 218\n",
      "Ep: 8 | TS: 179730 | L: 1.154 | R: -28.05 | P: -9.76 | R.Avg P: 9.51 | NW: 90.24 | R.Avg NW: 109.51 | R.U: 213\n",
      "Ep: 9 | TS: 199700 | L: 1.154 | R: -26.59 | P: -5.72 | R.Avg P: 7.99 | NW: 94.28 | R.Avg NW: 107.99 | R.U: 211\n",
      "Ep: 10 | TS: 219670 | L: 1.154 | R: -21.04 | P: 10.68 | R.Avg P: 8.23 | NW: 110.68 | R.Avg NW: 108.23 | R.U: 211\n",
      "Ep: 11 | TS: 239640 | L: 1.153 | R: -23.77 | P: 1.11 | R.Avg P: 7.64 | NW: 101.11 | R.Avg NW: 107.64 | R.U: 210\n",
      "Ep: 12 | TS: 259610 | L: 1.153 | R: -23.88 | P: 0.66 | R.Avg P: 7.1 | NW: 100.66 | R.Avg NW: 107.1 | R.U: 209\n",
      "Ep: 13 | TS: 279580 | L: 1.153 | R: -18.05 | P: 19.25 | R.Avg P: 7.97 | NW: 119.25 | R.Avg NW: 107.97 | R.U: 210\n",
      "Ep: 14 | TS: 299550 | L: 1.152 | R: -21.68 | P: 8.25 | R.Avg P: 7.99 | NW: 108.25 | R.Avg NW: 107.99 | R.U: 210\n",
      "Ep: 15 | TS: 319520 | L: 1.152 | R: -28.38 | P: -12.21 | R.Avg P: 6.72 | NW: 87.79 | R.Avg NW: 106.72 | R.U: 208\n",
      "Ep: 16 | TS: 339490 | L: 1.152 | R: -27.38 | P: -8.81 | R.Avg P: 5.81 | NW: 91.19 | R.Avg NW: 105.81 | R.U: 206\n",
      "Ep: 17 | TS: 359460 | L: 1.152 | R: -23.43 | P: 2.85 | R.Avg P: 5.65 | NW: 102.85 | R.Avg NW: 105.65 | R.U: 206\n",
      "Ep: 18 | TS: 379430 | L: 1.151 | R: -28.32 | P: -10.82 | R.Avg P: 4.78 | NW: 89.18 | R.Avg NW: 104.78 | R.U: 204\n",
      "Ep: 19 | TS: 399400 | L: 1.151 | R: -13.11 | P: 32.1 | R.Avg P: 6.15 | NW: 132.1 | R.Avg NW: 106.15 | R.U: 207\n",
      "Ep: 20 | TS: 419370 | L: 1.151 | R: -23.92 | P: 2.08 | R.Avg P: 5.95 | NW: 102.08 | R.Avg NW: 105.95 | R.U: 206\n",
      "Ep: 21 | TS: 439340 | L: 1.151 | R: -23.36 | P: 2.47 | R.Avg P: 5.79 | NW: 102.47 | R.Avg NW: 105.79 | R.U: 206\n",
      "Ep: 22 | TS: 459310 | L: 1.15 | R: -20.26 | P: 11.85 | R.Avg P: 6.06 | NW: 111.85 | R.Avg NW: 106.06 | R.U: 207\n",
      "Ep: 23 | TS: 479280 | L: 1.15 | R: -18.83 | P: 13.31 | R.Avg P: 6.36 | NW: 113.31 | R.Avg NW: 106.36 | R.U: 207\n",
      "Ep: 24 | TS: 499250 | L: 1.15 | R: -15.95 | P: 23.83 | R.Avg P: 7.06 | NW: 123.83 | R.Avg NW: 107.06 | R.U: 209\n",
      "Ep: 25 | TS: 519220 | L: 1.149 | R: -24.46 | P: 0.16 | R.Avg P: 6.79 | NW: 100.16 | R.Avg NW: 106.79 | R.U: 208\n",
      "Ep: 26 | TS: 539190 | L: 1.149 | R: -13.55 | P: 32.77 | R.Avg P: 7.75 | NW: 132.77 | R.Avg NW: 107.75 | R.U: 210\n",
      "Ep: 27 | TS: 559160 | L: 1.149 | R: -17.39 | P: 21.74 | R.Avg P: 8.25 | NW: 121.74 | R.Avg NW: 108.25 | R.U: 211\n",
      "Ep: 28 | TS: 579130 | L: 1.149 | R: -21.32 | P: 8.82 | R.Avg P: 8.27 | NW: 108.82 | R.Avg NW: 108.27 | R.U: 211\n",
      "Ep: 29 | TS: 599100 | L: 1.148 | R: -18.43 | P: 16.04 | R.Avg P: 8.53 | NW: 116.04 | R.Avg NW: 108.53 | R.U: 211\n",
      "Ep: 30 | TS: 619070 | L: 1.148 | R: -18.73 | P: 14.65 | R.Avg P: 8.73 | NW: 114.65 | R.Avg NW: 108.73 | R.U: 212\n",
      "Ep: 31 | TS: 639040 | L: 1.148 | R: -21.91 | P: 7.02 | R.Avg P: 8.68 | NW: 107.02 | R.Avg NW: 108.68 | R.U: 212\n",
      "Ep: 32 | TS: 659010 | L: 1.147 | R: -26.37 | P: -4.82 | R.Avg P: 8.27 | NW: 95.18 | R.Avg NW: 108.27 | R.U: 211"
     ]
    }
   ],
   "source": [
    "a2c.run(5000)"
   ]
  },
  {
   "cell_type": "code",
   "execution_count": null,
   "id": "fa20681e-77fe-48f0-8045-d8304eb07d1e",
   "metadata": {},
   "outputs": [],
   "source": [
    "a2c.evaluate(start_dt='2021-01-28 10:00', duration=300, show_logs=False)"
   ]
  },
  {
   "cell_type": "markdown",
   "id": "be10907e",
   "metadata": {},
   "source": [
    "## Visualizations"
   ]
  },
  {
   "cell_type": "markdown",
   "id": "868b8904",
   "metadata": {},
   "source": [
    "### Training "
   ]
  },
  {
   "cell_type": "code",
   "execution_count": null,
   "id": "7126bc86",
   "metadata": {},
   "outputs": [],
   "source": [
    "fig, ax = plt.subplots(3, 2, figsize=(16, 12))\n",
    "r_avg_rewards = []\n",
    "r_avg_profits = []\n",
    "r_avg_bal = []\n",
    "r_avg_units_held = []\n",
    "r_avg_loss = []\n",
    "r_avg_net_worth = []\n",
    "count = 0\n",
    "\n",
    "for _, log in a2c.logs.items():\n",
    "    r_avg_rewards.append(log['r_avg_reward'])\n",
    "    r_avg_profits.append(log['r_avg_profit'])\n",
    "    r_avg_bal.append(log['r_avg_bal'])\n",
    "    r_avg_units_held.append(log['r_avg_units_held'])\n",
    "    r_avg_loss.append(log['r_avg_loss'])\n",
    "    r_avg_net_worth.append(log['r_avg_net_worth'])\n",
    "    count += 1\n",
    "\n",
    "ax[0][0].plot(range(count), r_avg_loss)\n",
    "ax[0][0].set_title('Rolling avg loss per episode')\n",
    "\n",
    "ax[0][1].plot(range(count), r_avg_rewards)\n",
    "ax[0][1].set_title('Rolling avg reward per episode')\n",
    "\n",
    "ax[1][0].plot(range(count), r_avg_profits)\n",
    "ax[1][0].set_title('Rolling avg profit per episode')\n",
    "\n",
    "ax[1][1].plot(range(count), r_avg_units_held)\n",
    "ax[1][1].set_title('Rolling avg units held per episode')\n",
    "\n",
    "ax[2][0].plot(range(count), r_avg_net_worth)\n",
    "ax[2][0].set_title('Rolling avg net worth per episode')\n",
    "\n",
    "ax[2][1].plot(range(count), r_avg_bal)\n",
    "ax[2][1].set_title('Rolling avg balance per episode')"
   ]
  },
  {
   "cell_type": "markdown",
   "id": "caa8cd7a-020f-4c84-88a1-76d7c1dab1e4",
   "metadata": {},
   "source": [
    "### Evaluation"
   ]
  },
  {
   "cell_type": "code",
   "execution_count": null,
   "id": "6f770b43-3c29-4260-aa4b-f5b318d3343a",
   "metadata": {},
   "outputs": [],
   "source": [
    "fig, ax = plt.subplots(3, 2, figsize=(16, 12))\n",
    "r_avg_rewards = []\n",
    "r_avg_profits = []\n",
    "r_avg_bal = []\n",
    "r_avg_units_held = []\n",
    "r_avg_loss = []\n",
    "r_avg_net_worth = []\n",
    "count = 0\n",
    "\n",
    "for _, log in a2c.eval_logs.items():\n",
    "    r_avg_rewards.append(log['r_avg_reward'])\n",
    "    r_avg_profits.append(log['r_avg_profit'])\n",
    "    r_avg_bal.append(log['r_avg_bal'])\n",
    "    r_avg_units_held.append(log['r_avg_units_held'])\n",
    "    r_avg_loss.append(log['r_avg_loss'])\n",
    "    r_avg_net_worth.append(log['r_avg_net_worth'])\n",
    "    count += 1\n",
    "\n",
    "ax[0][0].plot(range(count), r_avg_loss)\n",
    "ax[0][0].set_title('Rolling avg loss per episode')\n",
    "\n",
    "ax[0][1].plot(range(count), r_avg_rewards)\n",
    "ax[0][1].set_title('Rolling avg reward per episode')\n",
    "\n",
    "ax[1][0].plot(range(count), r_avg_profits)\n",
    "ax[1][0].set_title('Rolling avg profit per episode')\n",
    "\n",
    "ax[1][1].plot(range(count), r_avg_units_held)\n",
    "ax[1][1].set_title('Rolling avg units held per episode')\n",
    "\n",
    "ax[2][0].plot(range(count), r_avg_net_worth)\n",
    "ax[2][0].set_title('Rolling avg net worth per episode')\n",
    "\n",
    "ax[2][1].plot(range(count), r_avg_bal)\n",
    "ax[2][1].set_title('Rolling avg balance per episode')"
   ]
  },
  {
   "cell_type": "code",
   "execution_count": null,
   "id": "99e64867-909f-428f-bc21-0f5b6b3e26f0",
   "metadata": {},
   "outputs": [],
   "source": [
    "# torch.save(a2c.actor.state_dict(), '../models/a2c_cl_an/actor')\n",
    "# torch.save(a2c.critic.state_dict(), '../models/a2c_cl_an/critic')"
   ]
  },
  {
   "cell_type": "code",
   "execution_count": null,
   "id": "9b95b59c",
   "metadata": {},
   "outputs": [],
   "source": [
    "import pickle\n",
    "from datetime import datetime\n",
    "\n",
    "temp = dict(a2c.logs)\n",
    "with open(f\"../pickles/a2c_logs_{datetime.now()}.pickle\",\"wb\") as f:\n",
    "    pickle.dump(temp, f, pickle.HIGHEST_PROTOCOL)"
   ]
  },
  {
   "cell_type": "markdown",
   "id": "4701a519-91d8-41ed-a935-5111db639ef1",
   "metadata": {},
   "source": [
    "### Observations"
   ]
  },
  {
   "cell_type": "markdown",
   "id": "8b225c71-7641-4c3c-b05c-d4eb8f0b68da",
   "metadata": {},
   "source": [
    "- A2C performs well when actor is chained with LSTM and critic with Neural Network\n",
    "- If the actor is chained with Neural Network we dont seem to learn the task"
   ]
  }
 ],
 "metadata": {
  "kernelspec": {
   "display_name": "Python 3 (ipykernel)",
   "language": "python",
   "name": "python3"
  },
  "language_info": {
   "codemirror_mode": {
    "name": "ipython",
    "version": 3
   },
   "file_extension": ".py",
   "mimetype": "text/x-python",
   "name": "python",
   "nbconvert_exporter": "python",
   "pygments_lexer": "ipython3",
   "version": "3.9.7"
  }
 },
 "nbformat": 4,
 "nbformat_minor": 5
}
