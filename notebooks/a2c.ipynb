{
  "nbformat": 4,
  "nbformat_minor": 5,
  "metadata": {
    "kernelspec": {
      "display_name": "Python 3 (ipykernel)",
      "language": "python",
      "name": "python3"
    },
    "language_info": {
      "codemirror_mode": {
        "name": "ipython",
        "version": 3
      },
      "file_extension": ".py",
      "mimetype": "text/x-python",
      "name": "python",
      "nbconvert_exporter": "python",
      "pygments_lexer": "ipython3",
      "version": "3.9.7"
    },
    "colab": {
      "name": "a2c.ipynb",
      "provenance": []
    }
  },
  "cells": [
    {
      "cell_type": "code",
      "metadata": {
        "colab": {
          "base_uri": "https://localhost:8080/"
        },
        "id": "14REZxfc0ViA",
        "outputId": "c889628d-1be0-4ba7-e5ed-6ef17884f4a2"
      },
      "source": [
        "from google.colab import drive\n",
        "drive.mount('/content/drive')"
      ],
      "id": "14REZxfc0ViA",
      "execution_count": 1,
      "outputs": [
        {
          "output_type": "stream",
          "name": "stdout",
          "text": [
            "Mounted at /content/drive\n"
          ]
        }
      ]
    },
    {
      "cell_type": "code",
      "metadata": {
        "colab": {
          "base_uri": "https://localhost:8080/"
        },
        "id": "3e11zFjB0kF5",
        "outputId": "8ca607ea-9455-4496-e629-5eb9b8e226d9"
      },
      "source": [
        "cd /content/drive/MyDrive/smart-broker/notebooks"
      ],
      "id": "3e11zFjB0kF5",
      "execution_count": 2,
      "outputs": [
        {
          "output_type": "stream",
          "name": "stdout",
          "text": [
            "/content/drive/MyDrive/smart-broker/notebooks\n"
          ]
        }
      ]
    },
    {
      "cell_type": "code",
      "metadata": {
        "id": "7a2a3315"
      },
      "source": [
        "# add parent directory to path: enable import from parent dir\n",
        "import sys\n",
        "sys.path.append('../')\n",
        "\n",
        "from environment import SmartBrokerEnv\n",
        "from agents.a2c import A2C\n",
        "from networks.a2c.actor import Actor\n",
        "from networks.a2c.critic import Critic\n",
        "\n",
        "import gym\n",
        "import matplotlib.pyplot as plt\n",
        "import torch"
      ],
      "id": "7a2a3315",
      "execution_count": 3,
      "outputs": []
    },
    {
      "cell_type": "code",
      "metadata": {
        "colab": {
          "base_uri": "https://localhost:8080/"
        },
        "id": "70f977fc",
        "outputId": "234b069c-1daa-477e-f587-0845d1c15df6"
      },
      "source": [
        "norm_cols = ['Volume XRP']\n",
        "cols = ['date'] + ['open', 'high', 'low', 'close', f'Volume XRP']\n",
        "batch_dur = 15\n",
        "env = SmartBrokerEnv(\n",
        "    batch_dur=batch_dur,\n",
        "    df_info={\n",
        "        'start_date': '2021-01-01',\n",
        "        'end_date': '2021-02-01',\n",
        "        'norm_cols': norm_cols,\n",
        "        'cols': cols,\n",
        "    },\n",
        "    portfolio={\n",
        "\n",
        "    },\n",
        ")"
      ],
      "id": "70f977fc",
      "execution_count": 7,
      "outputs": [
        {
          "output_type": "stream",
          "name": "stderr",
          "text": [
            "/usr/local/lib/python3.7/dist-packages/pandas/core/frame.py:3069: SettingWithCopyWarning: \n",
            "A value is trying to be set on a copy of a slice from a DataFrame.\n",
            "Try using .loc[row_indexer,col_indexer] = value instead\n",
            "\n",
            "See the caveats in the documentation: https://pandas.pydata.org/pandas-docs/stable/user_guide/indexing.html#returning-a-view-versus-a-copy\n",
            "  self[k1] = value[k2]\n",
            "../environment.py:78: SettingWithCopyWarning: \n",
            "A value is trying to be set on a copy of a slice from a DataFrame.\n",
            "Try using .loc[row_indexer,col_indexer] = value instead\n",
            "\n",
            "See the caveats in the documentation: https://pandas.pydata.org/pandas-docs/stable/user_guide/indexing.html#returning-a-view-versus-a-copy\n",
            "  self.df['rolling_price'] = self.df[self.price_typ].rolling(self.roll_period).sum()\n",
            "../environment.py:80: SettingWithCopyWarning: \n",
            "A value is trying to be set on a copy of a slice from a DataFrame\n",
            "\n",
            "See the caveats in the documentation: https://pandas.pydata.org/pandas-docs/stable/user_guide/indexing.html#returning-a-view-versus-a-copy\n",
            "  self.df.sort_values('date', inplace=True)\n"
          ]
        }
      ]
    },
    {
      "cell_type": "code",
      "metadata": {
        "id": "cfa119f8"
      },
      "source": [
        "actor_model = Actor(\n",
        "    state_dim=batch_dur*3+3,\n",
        "    action_dim=3,\n",
        ")\n",
        "critic_model = Critic(state_dim=batch_dur*3+3)\n",
        "a2c = A2C(\n",
        "    env=env, \n",
        "    actor=actor_model,\n",
        "    critic=critic_model,\n",
        "    n_actns=3,\n",
        "    actor_optmz=torch.optim.Adam(actor_model.parameters(), lr=0.001),\n",
        "    critic_optmz=torch.optim.Adam(critic_model.parameters(), lr=0.001),\n",
        "    hyprprms={\n",
        "        'gamma': 0.9995,\n",
        "    },\n",
        "    log_freq=25,\n",
        ")"
      ],
      "id": "cfa119f8",
      "execution_count": 8,
      "outputs": []
    },
    {
      "cell_type": "code",
      "metadata": {
        "colab": {
          "base_uri": "https://localhost:8080/"
        },
        "id": "d88ddc1a",
        "outputId": "73049dc8-9238-4fa2-c040-19a4cafdc46c"
      },
      "source": [
        "a2c.run(1000)"
      ],
      "id": "d88ddc1a",
      "execution_count": 9,
      "outputs": [
        {
          "output_type": "stream",
          "name": "stdout",
          "text": [
            "\n",
            "Ep: 0 | L: 1.536 | R: -53.9 | R.Avg.R: -53.9 | P: 3.18 | R.Avg P: 3 | B: 59.75 | R.Avg B: 59 | R.N_Units: 188\n",
            "Ep: 25 | L: 0.964 | R: -55.57 | R.Avg.R: -54.68 | P: 6.29 | R.Avg P: 4 | B: 7.31 | R.Avg B: 21 | R.N_Units: 363\n",
            "Ep: 50 | L: 0.998 | R: -54.79 | R.Avg.R: -54.87 | P: 5.31 | R.Avg P: 5 | B: 2.95 | R.Avg B: 12 | R.N_Units: 402\n",
            "Ep: 75 | L: 1.009 | R: -55.08 | R.Avg.R: -54.93 | P: 5.75 | R.Avg P: 5 | B: 1.22 | R.Avg B: 4 | R.N_Units: 439\n",
            "Ep: 100 | L: 0.991 | R: -55.08 | R.Avg.R: -55.0 | P: 5.67 | R.Avg P: 5 | B: 0.59 | R.Avg B: 1 | R.N_Units: 449\n",
            "Ep: 125 | L: 0.981 | R: -55.07 | R.Avg.R: -55.05 | P: 5.64 | R.Avg P: 5 | B: 0.34 | R.Avg B: 0 | R.N_Units: 454\n",
            "Ep: 150 | L: 0.966 | R: -55.09 | R.Avg.R: -55.07 | P: 5.68 | R.Avg P: 5 | B: 0.17 | R.Avg B: 0 | R.N_Units: 455\n",
            "Ep: 175 | L: 0.981 | R: -55.24 | R.Avg.R: -55.05 | P: 5.88 | R.Avg P: 5 | B: 0.61 | R.Avg B: 0 | R.N_Units: 456\n",
            "Ep: 200 | L: 0.976 | R: -54.96 | R.Avg.R: -55.08 | P: 5.51 | R.Avg P: 5 | B: 0.58 | R.Avg B: 0 | R.N_Units: 456\n",
            "Ep: 225 | L: 0.997 | R: -55.08 | R.Avg.R: -55.1 | P: 5.67 | R.Avg P: 5 | B: 0.39 | R.Avg B: 0 | R.N_Units: 456\n",
            "Ep: 250 | L: 0.979 | R: -55.04 | R.Avg.R: -55.11 | P: 5.63 | R.Avg P: 5 | B: 0.77 | R.Avg B: 0 | R.N_Units: 456\n",
            "Ep: 275 | L: 0.961 | R: -55.34 | R.Avg.R: -55.1 | P: 6.01 | R.Avg P: 5 | B: 0.59 | R.Avg B: 0 | R.N_Units: 456\n",
            "Ep: 300 | L: 0.982 | R: -55.09 | R.Avg.R: -55.07 | P: 5.68 | R.Avg P: 5 | B: 0.17 | R.Avg B: 0 | R.N_Units: 456\n",
            "Ep: 325 | L: 0.967 | R: -55.03 | R.Avg.R: -55.1 | P: 5.59 | R.Avg P: 5 | B: 0.29 | R.Avg B: 0 | R.N_Units: 457\n",
            "Ep: 350 | L: 0.976 | R: -55.09 | R.Avg.R: -55.1 | P: 5.68 | R.Avg P: 5 | B: 0.17 | R.Avg B: 0 | R.N_Units: 457\n",
            "Ep: 375 | L: 1.004 | R: -55.09 | R.Avg.R: -55.09 | P: 5.68 | R.Avg P: 5 | B: 0.17 | R.Avg B: 0 | R.N_Units: 457\n",
            "Ep: 400 | L: 0.979 | R: -55.08 | R.Avg.R: -55.1 | P: 5.67 | R.Avg P: 5 | B: 0.39 | R.Avg B: 0 | R.N_Units: 457\n",
            "Ep: 425 | L: 0.953 | R: -55.09 | R.Avg.R: -55.07 | P: 5.68 | R.Avg P: 5 | B: 0.38 | R.Avg B: 0 | R.N_Units: 457\n",
            "Ep: 450 | L: 0.936 | R: -55.04 | R.Avg.R: -55.1 | P: 5.63 | R.Avg P: 5 | B: 0.61 | R.Avg B: 0 | R.N_Units: 457\n",
            "Ep: 475 | L: 0.949 | R: -55.09 | R.Avg.R: -55.09 | P: 5.68 | R.Avg P: 5 | B: 0.17 | R.Avg B: 0 | R.N_Units: 457\n",
            "Ep: 500 | L: 0.942 | R: -55.09 | R.Avg.R: -55.1 | P: 5.68 | R.Avg P: 5 | B: 0.17 | R.Avg B: 0 | R.N_Units: 457\n",
            "Ep: 525 | L: 0.933 | R: -55.09 | R.Avg.R: -55.08 | P: 5.68 | R.Avg P: 5 | B: 0.17 | R.Avg B: 0 | R.N_Units: 457\n",
            "Ep: 550 | L: 0.924 | R: -55.09 | R.Avg.R: -55.09 | P: 5.68 | R.Avg P: 5 | B: 0.17 | R.Avg B: 0 | R.N_Units: 457\n",
            "Ep: 575 | L: 0.915 | R: -55.09 | R.Avg.R: -55.09 | P: 5.68 | R.Avg P: 5 | B: 0.17 | R.Avg B: 0 | R.N_Units: 457\n",
            "Ep: 600 | L: 0.904 | R: -55.09 | R.Avg.R: -55.12 | P: 5.68 | R.Avg P: 5 | B: 0.17 | R.Avg B: 0 | R.N_Units: 457\n",
            "Ep: 625 | L: 0.882 | R: -55.01 | R.Avg.R: -55.08 | P: 5.56 | R.Avg P: 5 | B: 0.26 | R.Avg B: 0 | R.N_Units: 457\n",
            "Ep: 650 | L: 0.884 | R: -55.09 | R.Avg.R: -55.08 | P: 5.68 | R.Avg P: 5 | B: 0.17 | R.Avg B: 0 | R.N_Units: 457\n",
            "Ep: 675 | L: 0.873 | R: -55.09 | R.Avg.R: -55.08 | P: 5.68 | R.Avg P: 5 | B: 0.17 | R.Avg B: 0 | R.N_Units: 457\n",
            "Ep: 700 | L: 0.868 | R: -55.09 | R.Avg.R: -55.09 | P: 5.68 | R.Avg P: 5 | B: 0.17 | R.Avg B: 0 | R.N_Units: 457\n",
            "Ep: 725 | L: 0.853 | R: -55.09 | R.Avg.R: -55.09 | P: 5.68 | R.Avg P: 5 | B: 0.17 | R.Avg B: 0 | R.N_Units: 457\n",
            "Ep: 750 | L: 0.844 | R: -55.09 | R.Avg.R: -55.09 | P: 5.68 | R.Avg P: 5 | B: 0.17 | R.Avg B: 0 | R.N_Units: 457\n",
            "Ep: 775 | L: 0.833 | R: -55.09 | R.Avg.R: -55.09 | P: 5.68 | R.Avg P: 5 | B: 0.17 | R.Avg B: 0 | R.N_Units: 458\n",
            "Ep: 800 | L: 0.825 | R: -55.09 | R.Avg.R: -55.09 | P: 5.68 | R.Avg P: 5 | B: 0.17 | R.Avg B: 0 | R.N_Units: 458\n",
            "Ep: 825 | L: 0.815 | R: -55.09 | R.Avg.R: -55.09 | P: 5.68 | R.Avg P: 5 | B: 0.17 | R.Avg B: 0 | R.N_Units: 457\n",
            "Ep: 850 | L: 0.81 | R: -55.09 | R.Avg.R: -55.09 | P: 5.68 | R.Avg P: 5 | B: 0.17 | R.Avg B: 0 | R.N_Units: 457\n",
            "Ep: 875 | L: 0.797 | R: -55.09 | R.Avg.R: -55.09 | P: 5.68 | R.Avg P: 5 | B: 0.17 | R.Avg B: 0 | R.N_Units: 457\n",
            "Ep: 900 | L: 0.789 | R: -55.09 | R.Avg.R: -55.09 | P: 5.68 | R.Avg P: 5 | B: 0.17 | R.Avg B: 0 | R.N_Units: 457\n",
            "Ep: 925 | L: 0.792 | R: -55.09 | R.Avg.R: -55.1 | P: 5.68 | R.Avg P: 5 | B: 0.17 | R.Avg B: 0 | R.N_Units: 457\n",
            "Ep: 950 | L: 0.786 | R: -55.07 | R.Avg.R: -55.1 | P: 5.66 | R.Avg P: 5 | B: 0.37 | R.Avg B: 0 | R.N_Units: 457\n",
            "Ep: 975 | L: 0.767 | R: -55.09 | R.Avg.R: -55.09 | P: 5.68 | R.Avg P: 5 | B: 0.17 | R.Avg B: 0 | R.N_Units: 457"
          ]
        }
      ]
    },
    {
      "cell_type": "markdown",
      "metadata": {
        "id": "6db24a23"
      },
      "source": [
        "## Visualizations"
      ],
      "id": "6db24a23"
    },
    {
      "cell_type": "markdown",
      "metadata": {
        "id": "34de4d57"
      },
      "source": [
        "### Traning "
      ],
      "id": "34de4d57"
    },
    {
      "cell_type": "code",
      "metadata": {
        "id": "0dd2e108"
      },
      "source": [
        "fig, ax = plt.subplots(3, 2, figsize=(16, 12))\n",
        "r_avg_rewards = []\n",
        "r_avg_profits = []\n",
        "r_avg_bal = []\n",
        "r_avg_units_held = []\n",
        "r_avg_loss = []\n",
        "r_avg_net_worth = []\n",
        "count = 0\n",
        "\n",
        "for _, log in a2c.logs.items():\n",
        "    r_avg_rewards.append(log['r_avg_reward'])\n",
        "    r_avg_profits.append(log['r_avg_profit'])\n",
        "    r_avg_bal.append(log['r_avg_bal'])\n",
        "    r_avg_units_held.append(log['r_avg_units_held'])\n",
        "    r_avg_loss.append(log['r_avg_loss'])\n",
        "    r_avg_net_worth.append(log['r_avg_net_worth'])\n",
        "    count += 1\n",
        "\n",
        "ax[0][0].plot(range(count), r_avg_loss)\n",
        "ax[0][0].set_title('Rolling avg loss per episode')\n",
        "\n",
        "ax[0][1].plot(range(count), r_avg_rewards)\n",
        "ax[0][1].set_title('Rolling avg reward per episode')\n",
        "\n",
        "ax[1][0].plot(range(count), r_avg_profits)\n",
        "ax[1][0].set_title('Rolling avg profit per episode')\n",
        "\n",
        "ax[1][1].plot(range(count), r_avg_units_held)\n",
        "ax[1][1].set_title('Rolling avg units held per episode')\n",
        "\n",
        "ax[2][0].plot(range(count), r_avg_net_worth)\n",
        "ax[2][0].set_title('Rolling avg net worth per episode')\n",
        "\n",
        "ax[2][1].plot(range(count), r_avg_bal)\n",
        "ax[2][1].set_title('Rolling avg balance per episode')"
      ],
      "id": "0dd2e108",
      "execution_count": null,
      "outputs": []
    },
    {
      "cell_type": "code",
      "metadata": {
        "id": "24d2c54c"
      },
      "source": [
        "# import pickle\n",
        "# with open(\"../pickles/a2c_logs.pickle\",\"wb\") as f:\n",
        "#     pickle.dump(temp, f, pickle.HIGHEST_PROTOCOL)"
      ],
      "id": "24d2c54c",
      "execution_count": null,
      "outputs": []
    }
  ]
}