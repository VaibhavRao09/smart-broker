{
 "cells": [
  {
   "cell_type": "code",
   "execution_count": 1,
   "id": "fae06815-0be2-411b-a7f1-f992e13518c5",
   "metadata": {},
   "outputs": [],
   "source": [
    "# add parent directory to path: enable import from parent dir\n",
    "import sys\n",
    "sys.path.append('../')\n",
    "\n",
    "from environment import SmartBrokerEnv\n",
    "from agents.a2c import A2C\n",
    "from networks.a2c.actor import Actor\n",
    "from networks.a2c.critic import Critic\n",
    "\n",
    "import matplotlib.pyplot as plt\n",
    "import torch\n",
    "\n",
    "norm_cols = ['Volume XRP']\n",
    "cols = ['date'] + ['open', 'high', 'low', 'close', f'Volume XRP']\n",
    "batch_dur = 30\n",
    "env = SmartBrokerEnv(\n",
    "    batch_dur=batch_dur,\n",
    "    df_info={\n",
    "        'start_date': '2021-01-01',\n",
    "        'end_date': '2021-02-01',\n",
    "        'norm_cols': norm_cols,\n",
    "        'cols': cols,\n",
    "    },\n",
    "    portfolio={\n",
    "\n",
    "    },\n",
    ")\n",
    "\n",
    "actor_model = Actor(\n",
    "    state_dim=batch_dur*4+3,\n",
    "    action_dim=3,\n",
    ")\n",
    "critic_model = Critic(state_dim=batch_dur*4+3)\n",
    "a2c = A2C(\n",
    "    env=env, \n",
    "    actor=actor_model,\n",
    "    critic=critic_model,\n",
    "    n_actns=3,\n",
    "    actor_optmz=torch.optim.Adam(actor_model.parameters(), lr=0.0008),\n",
    "    critic_optmz=torch.optim.Adam(critic_model.parameters(), lr=0.0005),\n",
    "    hyprprms={\n",
    "        'gamma': 0.9995,\n",
    "    },\n",
    "    log_freq=1,\n",
    "    mdl_pth='../models/a2c_nn_3',\n",
    "    load_models=False,\n",
    ")"
   ]
  },
  {
   "cell_type": "code",
   "execution_count": null,
   "id": "d88ddc1a",
   "metadata": {},
   "outputs": [
    {
     "name": "stdout",
     "output_type": "stream",
     "text": [
      "\n",
      "Ep: 0 | TS: 18108 | L: 0.77 | R: -18.09 | P: 0.68 | R.Avg P: 0.68 | NW: 100.68 | R.Avg NW: 100.68 | R.U: 162\n",
      "Ep: 1 | TS: 28458 | L: 1.562 | R: -14.59 | P: 28.33 | R.Avg P: 14.5 | NW: 128.33 | R.Avg NW: 114.51 | R.U: 176\n",
      "Ep: 2 | TS: 49885 | L: 0.871 | R: -35.48 | P: -0.44 | R.Avg P: 9.52 | NW: 99.56 | R.Avg NW: 109.52 | R.U: 173\n",
      "Ep: 3 | TS: 62625 | L: 0.709 | R: -25.81 | P: 31.95 | R.Avg P: 15.13 | NW: 131.95 | R.Avg NW: 115.13 | R.U: 178\n",
      "Ep: 4 | TS: 70976 | L: 1.222 | R: -45.85 | P: -0.33 | R.Avg P: 12.04 | NW: 99.67 | R.Avg NW: 112.04 | R.U: 169\n",
      "Ep: 5 | TS: 110095 | L: 0.954 | R: -21.59 | P: 42.01 | R.Avg P: 17.03 | NW: 142.01 | R.Avg NW: 117.03 | R.U: 181\n",
      "Ep: 6 | TS: 131145 | L: 0.895 | R: -40.2 | P: 7.47 | R.Avg P: 15.67 | NW: 107.47 | R.Avg NW: 115.67 | R.U: 182\n",
      "Ep: 7 | TS: 162954 | L: 1.008 | R: -55.55 | P: -5.37 | R.Avg P: 13.04 | NW: 94.63 | R.Avg NW: 113.04 | R.U: 177\n",
      "Ep: 8 | TS: 179475 | L: 1.033 | R: -31.04 | P: 27.16 | R.Avg P: 14.61 | NW: 127.16 | R.Avg NW: 114.61 | R.U: 180\n",
      "Ep: 9 | TS: 216112 | L: 1.04 | R: -48.79 | P: -4.9 | R.Avg P: 12.66 | NW: 95.1 | R.Avg NW: 112.66 | R.U: 178\n",
      "Ep: 10 | TS: 235418 | L: 0.98 | R: -44.73 | P: 9.13 | R.Avg P: 12.34 | NW: 109.13 | R.Avg NW: 112.34 | R.U: 176\n",
      "Ep: 11 | TS: 280612 | L: 0.971 | R: -66.03 | P: 8.0 | R.Avg P: 11.97 | NW: 108.0 | R.Avg NW: 111.97 | R.U: 171\n",
      "Ep: 12 | TS: 286203 | L: 1.16 | R: -91.0 | P: 0.14 | R.Avg P: 11.06 | NW: 100.14 | R.Avg NW: 111.06 | R.U: 160\n",
      "Ep: 13 | TS: 316948 | L: 0.945 | R: -71.14 | P: 1.49 | R.Avg P: 10.38 | NW: 101.49 | R.Avg NW: 110.38 | R.U: 156\n",
      "Ep: 14 | TS: 361630 | L: 0.966 | R: -73.43 | P: -1.01 | R.Avg P: 9.62 | NW: 98.99 | R.Avg NW: 109.62 | R.U: 152\n",
      "Ep: 15 | TS: 372122 | L: 1.154 | R: 13.83 | P: 47.41 | R.Avg P: 11.98 | NW: 147.41 | R.Avg NW: 111.98 | R.U: 161\n",
      "Ep: 16 | TS: 395543 | L: 1.018 | R: -19.9 | P: 19.8 | R.Avg P: 12.44 | NW: 119.8 | R.Avg NW: 112.44 | R.U: 165\n",
      "Ep: 17 | TS: 418033 | L: 0.957 | R: -69.3 | P: -4.09 | R.Avg P: 11.52 | NW: 95.91 | R.Avg NW: 111.52 | R.U: 162\n",
      "Ep: 18 | TS: 433405 | L: 0.967 | R: -89.04 | P: 0.64 | R.Avg P: 10.95 | NW: 100.64 | R.Avg NW: 110.95 | R.U: 155\n",
      "Ep: 19 | TS: 458559 | L: 0.978 | R: -85.4 | P: 6.14 | R.Avg P: 10.71 | NW: 106.14 | R.Avg NW: 110.71 | R.U: 150"
     ]
    }
   ],
   "source": [
    "a2c.run(1000)"
   ]
  },
  {
   "cell_type": "code",
   "execution_count": null,
   "id": "e8d97a82-f689-428c-a666-99494a61a098",
   "metadata": {},
   "outputs": [],
   "source": [
    "rewards, profits, actions = a2c.evaluate(start_dt='2021-01-30 15:15', duration=3000, show_pred=False)"
   ]
  },
  {
   "cell_type": "code",
   "execution_count": null,
   "id": "db4c0fcd-1627-4ebe-b1c7-71fa813cd612",
   "metadata": {},
   "outputs": [],
   "source": [
    "rewards, profits, actions = a2c.evaluate(start_dt='2021-01-08 05:15', duration=3000, show_pred=False)"
   ]
  },
  {
   "cell_type": "markdown",
   "id": "6db24a23",
   "metadata": {},
   "source": [
    "## Visualizations"
   ]
  },
  {
   "cell_type": "markdown",
   "id": "34de4d57",
   "metadata": {},
   "source": [
    "### Training "
   ]
  },
  {
   "cell_type": "code",
   "execution_count": null,
   "id": "0dd2e108",
   "metadata": {},
   "outputs": [],
   "source": [
    "fig, ax = plt.subplots(3, 2, figsize=(16, 12))\n",
    "r_avg_rewards = []\n",
    "r_avg_profits = []\n",
    "r_avg_bal = []\n",
    "r_avg_units_held = []\n",
    "r_avg_loss = []\n",
    "r_avg_net_worth = []\n",
    "count = 0\n",
    "\n",
    "for _, log in a2c.logs.items():\n",
    "    r_avg_rewards.append(log['r_avg_reward'])\n",
    "    r_avg_profits.append(log['r_avg_profit'])\n",
    "    r_avg_bal.append(log['r_avg_bal'])\n",
    "    r_avg_units_held.append(log['r_avg_units_held'])\n",
    "    r_avg_loss.append(log['r_avg_loss'])\n",
    "    r_avg_net_worth.append(log['r_avg_net_worth'])\n",
    "    count += 1\n",
    "\n",
    "ax[0][0].plot(range(count), r_avg_loss)\n",
    "ax[0][0].set_title('Rolling avg loss per episode')\n",
    "\n",
    "ax[0][1].plot(range(count), r_avg_rewards)\n",
    "ax[0][1].set_title('Rolling avg reward per episode')\n",
    "\n",
    "ax[1][0].plot(range(count), r_avg_profits)\n",
    "ax[1][0].set_title('Rolling avg profit per episode')\n",
    "\n",
    "ax[1][1].plot(range(count), r_avg_units_held)\n",
    "ax[1][1].set_title('Rolling avg units held per episode')\n",
    "\n",
    "ax[2][0].plot(range(count), r_avg_net_worth)\n",
    "ax[2][0].set_title('Rolling avg net worth per episode')\n",
    "\n",
    "ax[2][1].plot(range(count), r_avg_bal)\n",
    "ax[2][1].set_title('Rolling avg balance per episode')"
   ]
  },
  {
   "cell_type": "code",
   "execution_count": null,
   "id": "d64f6560-c19e-445f-95a2-6c053b853c31",
   "metadata": {},
   "outputs": [],
   "source": [
    "# torch.save(a2c.actor.state_dict(), '../models/a2c_nn_3/actor')\n",
    "# torch.save(a2c.critic.state_dict(), '../models/a2c_nn_3/critic')"
   ]
  },
  {
   "cell_type": "code",
   "execution_count": null,
   "id": "24d2c54c",
   "metadata": {},
   "outputs": [],
   "source": [
    "# import pickle\n",
    "# with open(\"../pickles/a2c_logs_main.pickle\",\"wb\") as f:\n",
    "#     temp = dict(a2c.logs)\n",
    "#     pickle.dump(temp, f, pickle.HIGHEST_PROTOCOL)"
   ]
  }
 ],
 "metadata": {
  "kernelspec": {
   "display_name": "Python 3 (ipykernel)",
   "language": "python",
   "name": "python3"
  },
  "language_info": {
   "codemirror_mode": {
    "name": "ipython",
    "version": 3
   },
   "file_extension": ".py",
   "mimetype": "text/x-python",
   "name": "python",
   "nbconvert_exporter": "python",
   "pygments_lexer": "ipython3",
   "version": "3.9.7"
  }
 },
 "nbformat": 4,
 "nbformat_minor": 5
}
