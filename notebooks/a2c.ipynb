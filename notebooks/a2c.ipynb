{
 "cells": [
  {
   "cell_type": "code",
   "execution_count": 1,
   "id": "fae06815-0be2-411b-a7f1-f992e13518c5",
   "metadata": {},
   "outputs": [],
   "source": [
    "# add parent directory to path: enable import from parent dir\n",
    "import sys\n",
    "sys.path.append('../')\n",
    "\n",
    "from environment import SmartBrokerEnv\n",
    "from agents.a2c import A2C\n",
    "from networks.a2c.actor import Actor\n",
    "from networks.a2c.critic import Critic\n",
    "\n",
    "import matplotlib.pyplot as plt\n",
    "import torch\n",
    "\n",
    "norm_cols = ['Volume XRP']\n",
    "cols = ['date'] + ['open', 'high', 'low', 'close', f'Volume XRP']\n",
    "batch_dur = 15\n",
    "n_features = 6\n",
    "\n",
    "env = SmartBrokerEnv(\n",
    "    batch_dur=batch_dur,\n",
    "    df_info={\n",
    "        'start_date': '2021-01-01',\n",
    "        'end_date': '2021-02-01',\n",
    "        'norm_cols': norm_cols,\n",
    "        'cols': cols,\n",
    "    },\n",
    "    portfolio={\n",
    "\n",
    "    },\n",
    ")\n",
    "\n",
    "actor_model = Actor(\n",
    "    state_dim=batch_dur*n_features+3,\n",
    "    action_dim=3,\n",
    ")\n",
    "critic_model = Critic(state_dim=batch_dur*n_features+3)\n",
    "a2c = A2C(\n",
    "    env=env, \n",
    "    actor=actor_model,\n",
    "    critic=critic_model,\n",
    "    n_actns=3,\n",
    "    actor_optmz=torch.optim.Adam(actor_model.parameters(), lr=0.0008),\n",
    "    critic_optmz=torch.optim.Adam(critic_model.parameters(), lr=0.0005),\n",
    "    hyprprms={\n",
    "        'gamma': 0.9995,\n",
    "    },\n",
    "    log_freq=1,\n",
    "    mdl_pth='../models/a2c_nn_3',\n",
    "    load_models=False,\n",
    ")"
   ]
  },
  {
   "cell_type": "code",
   "execution_count": null,
   "id": "d88ddc1a",
   "metadata": {},
   "outputs": [
    {
     "name": "stdout",
     "output_type": "stream",
     "text": [
      "\n",
      "Ep: 0 | TS: 26735 | L: 1.747 | R: -7.69 | P: 4.56 | R.Avg P: 4.56 | NW: 113.4 | R.Avg NW: 113.4 | R.U: 328\n",
      "Ep: 1 | TS: 51314 | L: 1.213 | R: -8.4 | P: 7.91 | R.Avg P: 6.24 | NW: 113.57 | R.Avg NW: 113.48 | R.U: 331\n",
      "Ep: 2 | TS: 80374 | L: 0.95 | R: -9.23 | P: 1.55 | R.Avg P: 4.67 | NW: 106.17 | R.Avg NW: 111.05 | R.U: 329\n",
      "Ep: 3 | TS: 98615 | L: 0.85 | R: -8.81 | P: 18.09 | R.Avg P: 8.03 | NW: 122.1 | R.Avg NW: 113.81 | R.U: 335\n",
      "Ep: 4 | TS: 114981 | L: 0.882 | R: -9.08 | P: 10.52 | R.Avg P: 8.53 | NW: 114.27 | R.Avg NW: 113.9 | R.U: 334\n",
      "Ep: 5 | TS: 161055 | L: 0.927 | R: -8.32 | P: 9.71 | R.Avg P: 8.72 | NW: 115.99 | R.Avg NW: 114.25 | R.U: 338\n",
      "Ep: 6 | TS: 198871 | L: 0.953 | R: -9.78 | P: -8.31 | R.Avg P: 6.29 | NW: 97.36 | R.Avg NW: 111.84 | R.U: 332\n",
      "Ep: 7 | TS: 224901 | L: 0.842 | R: -8.96 | P: 0.97 | R.Avg P: 5.62 | NW: 108.2 | R.Avg NW: 111.38 | R.U: 330\n",
      "Ep: 8 | TS: 268803 | L: 0.856 | R: -7.44 | P: 5.93 | R.Avg P: 5.66 | NW: 116.03 | R.Avg NW: 111.9 | R.U: 331\n",
      "Ep: 9 | TS: 292322 | L: 0.777 | R: -10.06 | P: -12.68 | R.Avg P: 3.82 | NW: 96.72 | R.Avg NW: 110.38 | R.U: 325\n",
      "Ep: 10 | TS: 321930 | L: 0.805 | R: -12.36 | P: -31.53 | R.Avg P: 0.61 | NW: 79.02 | R.Avg NW: 107.53 | R.U: 316\n",
      "Ep: 11 | TS: 329255 | L: 1.008 | R: -7.96 | P: -1.5 | R.Avg P: 0.43 | NW: 110.38 | R.Avg NW: 107.77 | R.U: 309\n",
      "Ep: 12 | TS: 365684 | L: 0.983 | R: -12.75 | P: -30.46 | R.Avg P: -1.94 | NW: 82.74 | R.Avg NW: 105.84 | R.U: 303\n",
      "Ep: 13 | TS: 380400 | L: 1.02 | R: -6.62 | P: 6.43 | R.Avg P: -1.34 | NW: 121.8 | R.Avg NW: 106.98 | R.U: 303\n",
      "Ep: 14 | TS: 403285 | L: 1.087 | R: -8.38 | P: -3.85 | R.Avg P: -1.51 | NW: 110.9 | R.Avg NW: 107.24 | R.U: 302\n",
      "Ep: 15 | TS: 444073 | L: 1.103 | R: -3.74 | P: 15.49 | R.Avg P: -0.45 | NW: 132.71 | R.Avg NW: 108.84 | R.U: 306"
     ]
    }
   ],
   "source": [
    "a2c.run(1000)"
   ]
  },
  {
   "cell_type": "code",
   "execution_count": null,
   "id": "e8d97a82-f689-428c-a666-99494a61a098",
   "metadata": {},
   "outputs": [],
   "source": [
    "rewards, profits, actions = a2c.evaluate(start_dt='2021-01-30 15:15', duration=500, show_pred=True)"
   ]
  },
  {
   "cell_type": "code",
   "execution_count": null,
   "id": "db4c0fcd-1627-4ebe-b1c7-71fa813cd612",
   "metadata": {},
   "outputs": [],
   "source": [
    "rewards, profits, actions = a2c.evaluate(start_dt='2021-01-31 15:15', duration=500, show_pred=True)"
   ]
  },
  {
   "cell_type": "markdown",
   "id": "6db24a23",
   "metadata": {},
   "source": [
    "## Visualizations"
   ]
  },
  {
   "cell_type": "markdown",
   "id": "34de4d57",
   "metadata": {},
   "source": [
    "### Training "
   ]
  },
  {
   "cell_type": "code",
   "execution_count": null,
   "id": "0dd2e108",
   "metadata": {},
   "outputs": [],
   "source": [
    "fig, ax = plt.subplots(3, 2, figsize=(16, 12))\n",
    "r_avg_rewards = []\n",
    "r_avg_profits = []\n",
    "r_avg_bal = []\n",
    "r_avg_units_held = []\n",
    "r_avg_loss = []\n",
    "r_avg_net_worth = []\n",
    "count = 0\n",
    "\n",
    "for _, log in a2c.logs.items():\n",
    "    r_avg_rewards.append(log['r_avg_reward'])\n",
    "    r_avg_profits.append(log['r_avg_profit'])\n",
    "    r_avg_bal.append(log['r_avg_bal'])\n",
    "    r_avg_units_held.append(log['r_avg_units_held'])\n",
    "    r_avg_loss.append(log['r_avg_loss'])\n",
    "    r_avg_net_worth.append(log['r_avg_net_worth'])\n",
    "    count += 1\n",
    "\n",
    "ax[0][0].plot(range(count), r_avg_loss)\n",
    "ax[0][0].set_title('Rolling avg loss per episode')\n",
    "\n",
    "ax[0][1].plot(range(count), r_avg_rewards)\n",
    "ax[0][1].set_title('Rolling avg reward per episode')\n",
    "\n",
    "ax[1][0].plot(range(count), r_avg_profits)\n",
    "ax[1][0].set_title('Rolling avg profit per episode')\n",
    "\n",
    "ax[1][1].plot(range(count), r_avg_units_held)\n",
    "ax[1][1].set_title('Rolling avg units held per episode')\n",
    "\n",
    "ax[2][0].plot(range(count), r_avg_net_worth)\n",
    "ax[2][0].set_title('Rolling avg net worth per episode')\n",
    "\n",
    "ax[2][1].plot(range(count), r_avg_bal)\n",
    "ax[2][1].set_title('Rolling avg balance per episode')"
   ]
  },
  {
   "cell_type": "code",
   "execution_count": null,
   "id": "d64f6560-c19e-445f-95a2-6c053b853c31",
   "metadata": {},
   "outputs": [],
   "source": [
    "# torch.save(a2c.actor.state_dict(), '../models/a2c_nn_3/actor')\n",
    "# torch.save(a2c.critic.state_dict(), '../models/a2c_nn_3/critic')"
   ]
  },
  {
   "cell_type": "code",
   "execution_count": null,
   "id": "24d2c54c",
   "metadata": {},
   "outputs": [],
   "source": [
    "# import pickle\n",
    "# with open(\"../pickles/a2c_logs_main.pickle\",\"wb\") as f:\n",
    "#     temp = dict(a2c.logs)\n",
    "#     pickle.dump(temp, f, pickle.HIGHEST_PROTOCOL)"
   ]
  }
 ],
 "metadata": {
  "kernelspec": {
   "display_name": "Python 3 (ipykernel)",
   "language": "python",
   "name": "python3"
  },
  "language_info": {
   "codemirror_mode": {
    "name": "ipython",
    "version": 3
   },
   "file_extension": ".py",
   "mimetype": "text/x-python",
   "name": "python",
   "nbconvert_exporter": "python",
   "pygments_lexer": "ipython3",
   "version": "3.9.7"
  }
 },
 "nbformat": 4,
 "nbformat_minor": 5
}
