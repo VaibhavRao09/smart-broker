{
 "cells": [
  {
   "cell_type": "code",
   "execution_count": 1,
   "id": "fae06815-0be2-411b-a7f1-f992e13518c5",
   "metadata": {},
   "outputs": [],
   "source": [
    "# add parent directory to path: enable import from parent dir\n",
    "import sys\n",
    "sys.path.append('../')\n",
    "\n",
    "from environment import SmartBrokerEnv\n",
    "from agents.a2c import A2C\n",
    "from networks.a2c.actor import Actor\n",
    "from networks.a2c.critic import Critic\n",
    "\n",
    "import matplotlib.pyplot as plt\n",
    "import torch\n",
    "\n",
    "norm_cols = ['Volume XRP']\n",
    "cols = ['date'] + ['open', 'high', 'low', 'close', f'Volume XRP']\n",
    "batch_dur = 15\n",
    "n_features = 3\n",
    "\n",
    "env = SmartBrokerEnv(\n",
    "    batch_dur=batch_dur,\n",
    "    df_info={\n",
    "        'start_date': '2021-01-01',\n",
    "        'end_date': '2021-02-01',\n",
    "        'norm_cols': norm_cols,\n",
    "        'cols': cols,\n",
    "    },\n",
    "    portfolio={\n",
    "\n",
    "    },\n",
    ")\n",
    "\n",
    "actor_model = Actor(\n",
    "    state_dim=batch_dur*n_features+3,\n",
    "    action_dim=3,\n",
    ")\n",
    "critic_model = Critic(state_dim=batch_dur*n_features+3)\n",
    "a2c = A2C(\n",
    "    env=env, \n",
    "    actor=actor_model,\n",
    "    critic=critic_model,\n",
    "    n_actns=3,\n",
    "    actor_optmz=torch.optim.Adam(actor_model.parameters(), lr=0.0008),\n",
    "    critic_optmz=torch.optim.Adam(critic_model.parameters(), lr=0.0005),\n",
    "    hyprprms={\n",
    "        'gamma': 0.9995,\n",
    "    },\n",
    "    log_freq=1,\n",
    "    mdl_pth='../models/a2c_nn_3',\n",
    "    load_models=False,\n",
    ")"
   ]
  },
  {
   "cell_type": "code",
   "execution_count": null,
   "id": "d88ddc1a",
   "metadata": {},
   "outputs": [
    {
     "name": "stdout",
     "output_type": "stream",
     "text": [
      "\n",
      "Ep: 0 | TS: 8428 | L: 1.111 | R: -1.65 | P: 36.89 | R.Avg P: 36.89 | NW: 142.79 | R.Avg NW: 142.79 | R.U: 335\n",
      "Ep: 1 | TS: 14194 | L: 1.184 | R: -9.93 | P: -4.88 | R.Avg P: 16.0 | NW: 96.88 | R.Avg NW: 119.84 | R.U: 280\n",
      "Ep: 2 | TS: 59346 | L: 0.923 | R: -7.91 | P: 11.01 | R.Avg P: 14.34 | NW: 115.02 | R.Avg NW: 118.23 | R.U: 309\n",
      "Ep: 3 | TS: 95400 | L: 1.087 | R: -10.14 | P: -7.46 | R.Avg P: 8.89 | NW: 94.58 | R.Avg NW: 112.32 | R.U: 306\n",
      "Ep: 4 | TS: 108982 | L: 1.245 | R: -8.61 | P: 33.21 | R.Avg P: 13.75 | NW: 134.62 | R.Avg NW: 116.78 | R.U: 320\n",
      "Ep: 5 | TS: 131795 | L: 1.261 | R: -9.74 | P: 8.96 | R.Avg P: 12.95 | NW: 110.19 | R.Avg NW: 115.68 | R.U: 322\n",
      "Ep: 6 | TS: 148850 | L: 1.242 | R: -9.23 | P: 22.68 | R.Avg P: 14.34 | NW: 123.57 | R.Avg NW: 116.81 | R.U: 328\n",
      "Ep: 7 | TS: 170822 | L: 1.132 | R: -9.59 | P: 11.76 | R.Avg P: 14.02 | NW: 112.68 | R.Avg NW: 116.29 | R.U: 330\n",
      "Ep: 8 | TS: 214563 | L: 1.039 | R: -8.73 | P: 29.81 | R.Avg P: 15.78 | NW: 130.75 | R.Avg NW: 117.9 | R.U: 340\n",
      "Ep: 9 | TS: 250900 | L: 0.985 | R: -10.06 | P: -4.69 | R.Avg P: 13.73 | NW: 95.93 | R.Avg NW: 115.7 | R.U: 337\n",
      "Ep: 10 | TS: 258416 | L: 1.017 | R: -9.77 | P: 32.24 | R.Avg P: 15.41 | NW: 132.31 | R.Avg NW: 117.21 | R.U: 335\n",
      "Ep: 11 | TS: 267913 | L: 0.987 | R: -9.57 | P: 46.29 | R.Avg P: 17.98 | NW: 146.68 | R.Avg NW: 119.67 | R.U: 338\n",
      "Ep: 12 | TS: 284567 | L: 0.928 | R: -9.7 | P: 23.42 | R.Avg P: 18.4 | NW: 123.93 | R.Avg NW: 119.99 | R.U: 340\n",
      "Ep: 13 | TS: 325139 | L: 0.997 | R: -10.15 | P: -10.01 | R.Avg P: 16.37 | NW: 90.37 | R.Avg NW: 117.88 | R.U: 336\n",
      "Ep: 14 | TS: 341673 | L: 0.937 | R: -9.73 | P: 23.16 | R.Avg P: 16.83 | NW: 123.53 | R.Avg NW: 118.26 | R.U: 338\n",
      "Ep: 15 | TS: 349955 | L: 1.11 | R: -9.78 | P: 44.66 | R.Avg P: 18.57 | NW: 144.92 | R.Avg NW: 119.92 | R.U: 339\n",
      "Ep: 16 | TS: 385680 | L: 0.977 | R: -9.99 | P: -1.16 | R.Avg P: 17.41 | NW: 99.08 | R.Avg NW: 118.7 | R.U: 338\n",
      "Ep: 17 | TS: 391730 | L: 1.117 | R: -10.05 | P: -13.53 | R.Avg P: 15.69 | NW: 86.71 | R.Avg NW: 116.92 | R.U: 330\n",
      "Ep: 18 | TS: 435352 | L: 0.975 | R: -9.49 | P: 32.25 | R.Avg P: 16.56 | NW: 132.64 | R.Avg NW: 117.75 | R.U: 335\n",
      "Ep: 19 | TS: 451482 | L: 0.959 | R: -9.83 | P: 24.43 | R.Avg P: 16.95 | NW: 124.77 | R.Avg NW: 118.1 | R.U: 337\n",
      "Ep: 20 | TS: 476776 | L: 0.993 | R: -9.83 | P: 16.06 | R.Avg P: 16.91 | NW: 116.37 | R.Avg NW: 118.02 | R.U: 338\n",
      "Ep: 21 | TS: 507257 | L: 1.005 | R: -9.94 | P: 4.7 | R.Avg P: 16.35 | NW: 104.99 | R.Avg NW: 117.42 | R.U: 338\n",
      "Ep: 22 | TS: 555125 | L: 1.007 | R: -9.61 | P: 28.52 | R.Avg P: 16.88 | NW: 128.89 | R.Avg NW: 117.92 | R.U: 342\n",
      "Ep: 23 | TS: 600667 | L: 1.018 | R: -9.63 | P: 29.78 | R.Avg P: 17.42 | NW: 130.14 | R.Avg NW: 118.43 | R.U: 345\n",
      "Ep: 24 | TS: 634763 | L: 1.019 | R: -9.9 | P: 8.77 | R.Avg P: 17.07 | NW: 109.04 | R.Avg NW: 118.06 | R.U: 345\n",
      "Ep: 25 | TS: 648540 | L: 1.007 | R: -9.87 | P: 33.26 | R.Avg P: 17.7 | NW: 133.57 | R.Avg NW: 118.65 | R.U: 347\n",
      "Ep: 26 | TS: 679893 | L: 1.002 | R: -9.98 | P: 3.04 | R.Avg P: 17.15 | NW: 103.32 | R.Avg NW: 118.08 | R.U: 346\n",
      "Ep: 27 | TS: 703691 | L: 0.987 | R: -9.95 | P: 9.47 | R.Avg P: 16.88 | NW: 109.76 | R.Avg NW: 117.79 | R.U: 346\n",
      "Ep: 28 | TS: 716683 | L: 0.963 | R: -9.88 | P: 34.68 | R.Avg P: 17.49 | NW: 134.93 | R.Avg NW: 118.38 | R.U: 347\n",
      "Ep: 29 | TS: 737928 | L: 0.962 | R: -9.95 | P: 11.49 | R.Avg P: 17.29 | NW: 111.8 | R.Avg NW: 118.16 | R.U: 347\n",
      "Ep: 30 | TS: 758288 | L: 0.954 | R: -9.93 | P: 12.7 | R.Avg P: 17.15 | NW: 113.05 | R.Avg NW: 117.99 | R.U: 347\n",
      "Ep: 31 | TS: 778450 | L: 0.958 | R: -9.88 | P: 21.7 | R.Avg P: 17.29 | NW: 122.01 | R.Avg NW: 118.12 | R.U: 347\n",
      "Ep: 32 | TS: 814516 | L: 0.999 | R: -10.03 | P: -5.78 | R.Avg P: 16.59 | NW: 94.49 | R.Avg NW: 117.4 | R.U: 346\n",
      "Ep: 33 | TS: 820983 | L: 1.194 | R: -9.99 | P: 2.52 | R.Avg P: 16.18 | NW: 102.79 | R.Avg NW: 116.97 | R.U: 343"
     ]
    }
   ],
   "source": [
    "a2c.run(1000)"
   ]
  },
  {
   "cell_type": "code",
   "execution_count": null,
   "id": "e8d97a82-f689-428c-a666-99494a61a098",
   "metadata": {},
   "outputs": [],
   "source": [
    "rewards, profits, actions = a2c.evaluate(start_dt='2021-01-30 15:15', duration=500, show_pred=True)"
   ]
  },
  {
   "cell_type": "code",
   "execution_count": null,
   "id": "db4c0fcd-1627-4ebe-b1c7-71fa813cd612",
   "metadata": {},
   "outputs": [],
   "source": [
    "rewards, profits, actions = a2c.evaluate(start_dt='2021-01-31 15:15', duration=500, show_pred=True)"
   ]
  },
  {
   "cell_type": "markdown",
   "id": "6db24a23",
   "metadata": {},
   "source": [
    "## Visualizations"
   ]
  },
  {
   "cell_type": "markdown",
   "id": "34de4d57",
   "metadata": {},
   "source": [
    "### Training "
   ]
  },
  {
   "cell_type": "code",
   "execution_count": null,
   "id": "0dd2e108",
   "metadata": {},
   "outputs": [],
   "source": [
    "fig, ax = plt.subplots(3, 2, figsize=(16, 12))\n",
    "r_avg_rewards = []\n",
    "r_avg_profits = []\n",
    "r_avg_bal = []\n",
    "r_avg_units_held = []\n",
    "r_avg_loss = []\n",
    "r_avg_net_worth = []\n",
    "count = 0\n",
    "\n",
    "for _, log in a2c.logs.items():\n",
    "    r_avg_rewards.append(log['r_avg_reward'])\n",
    "    r_avg_profits.append(log['r_avg_profit'])\n",
    "    r_avg_bal.append(log['r_avg_bal'])\n",
    "    r_avg_units_held.append(log['r_avg_units_held'])\n",
    "    r_avg_loss.append(log['r_avg_loss'])\n",
    "    r_avg_net_worth.append(log['r_avg_net_worth'])\n",
    "    count += 1\n",
    "\n",
    "ax[0][0].plot(range(count), r_avg_loss)\n",
    "ax[0][0].set_title('Rolling avg loss per episode')\n",
    "\n",
    "ax[0][1].plot(range(count), r_avg_rewards)\n",
    "ax[0][1].set_title('Rolling avg reward per episode')\n",
    "\n",
    "ax[1][0].plot(range(count), r_avg_profits)\n",
    "ax[1][0].set_title('Rolling avg profit per episode')\n",
    "\n",
    "ax[1][1].plot(range(count), r_avg_units_held)\n",
    "ax[1][1].set_title('Rolling avg units held per episode')\n",
    "\n",
    "ax[2][0].plot(range(count), r_avg_net_worth)\n",
    "ax[2][0].set_title('Rolling avg net worth per episode')\n",
    "\n",
    "ax[2][1].plot(range(count), r_avg_bal)\n",
    "ax[2][1].set_title('Rolling avg balance per episode')"
   ]
  },
  {
   "cell_type": "code",
   "execution_count": null,
   "id": "d64f6560-c19e-445f-95a2-6c053b853c31",
   "metadata": {},
   "outputs": [],
   "source": [
    "# torch.save(a2c.actor.state_dict(), '../models/a2c_nn_3/actor')\n",
    "# torch.save(a2c.critic.state_dict(), '../models/a2c_nn_3/critic')"
   ]
  },
  {
   "cell_type": "code",
   "execution_count": null,
   "id": "24d2c54c",
   "metadata": {},
   "outputs": [],
   "source": [
    "# import pickle\n",
    "# with open(\"../pickles/a2c_logs_main.pickle\",\"wb\") as f:\n",
    "#     temp = dict(a2c.logs)\n",
    "#     pickle.dump(temp, f, pickle.HIGHEST_PROTOCOL)"
   ]
  }
 ],
 "metadata": {
  "kernelspec": {
   "display_name": "Python 3 (ipykernel)",
   "language": "python",
   "name": "python3"
  },
  "language_info": {
   "codemirror_mode": {
    "name": "ipython",
    "version": 3
   },
   "file_extension": ".py",
   "mimetype": "text/x-python",
   "name": "python",
   "nbconvert_exporter": "python",
   "pygments_lexer": "ipython3",
   "version": "3.9.7"
  }
 },
 "nbformat": 4,
 "nbformat_minor": 5
}
