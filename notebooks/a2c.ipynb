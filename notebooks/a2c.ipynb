{
 "cells": [
  {
   "cell_type": "code",
   "execution_count": 1,
   "id": "fae06815-0be2-411b-a7f1-f992e13518c5",
   "metadata": {},
   "outputs": [],
   "source": [
    "# add parent directory to path: enable import from parent dir\n",
    "import sys\n",
    "sys.path.append('../')\n",
    "\n",
    "from environment import SmartBrokerEnv\n",
    "from agents.a2c import A2C\n",
    "from networks.a2c.actor import Actor\n",
    "from networks.a2c.critic import Critic\n",
    "\n",
    "import matplotlib.pyplot as plt\n",
    "import torch\n",
    "\n",
    "norm_cols = ['Volume XRP']\n",
    "cols = ['date'] + ['open', 'high', 'low', 'close', f'Volume XRP']\n",
    "batch_dur = 30\n",
    "n_features = 4\n",
    "\n",
    "env = SmartBrokerEnv(\n",
    "    batch_dur=batch_dur,\n",
    "    df_info={\n",
    "        'start_date': '2021-01-01',\n",
    "        'end_date': '2021-02-01',\n",
    "        'norm_cols': norm_cols,\n",
    "        'cols': cols,\n",
    "    },\n",
    "    portfolio={\n",
    "\n",
    "    },\n",
    ")\n",
    "\n",
    "actor_model = Actor(\n",
    "    state_dim=batch_dur*n_features+3,\n",
    "    action_dim=3,\n",
    ")\n",
    "critic_model = Critic(state_dim=batch_dur*n_features+3)\n",
    "a2c = A2C(\n",
    "    env=env, \n",
    "    actor=actor_model,\n",
    "    critic=critic_model,\n",
    "    n_actns=3,\n",
    "    actor_optmz=torch.optim.Adam(actor_model.parameters(), lr=0.0008),\n",
    "    critic_optmz=torch.optim.Adam(critic_model.parameters(), lr=0.0005),\n",
    "    hyprprms={\n",
    "        'gamma': 0.9995,\n",
    "    },\n",
    "    log_freq=1,\n",
    "    mdl_pth='../models/a2c_nn_3',\n",
    "    load_models=False,\n",
    ")"
   ]
  },
  {
   "cell_type": "code",
   "execution_count": null,
   "id": "d88ddc1a",
   "metadata": {},
   "outputs": [
    {
     "name": "stdout",
     "output_type": "stream",
     "text": [
      "\n",
      "Ep: 0 | TS: 59970 | L: 0.848 | R: -16.96 | P: 17.41 | R.Avg P: 17.41 | NW: 117.41 | R.Avg NW: 117.41 | R.U: 214\n",
      "Ep: 1 | TS: 119940 | L: 0.487 | R: -35.27 | P: -5.28 | R.Avg P: 6.06 | NW: 94.72 | R.Avg NW: 106.06 | R.U: 159\n",
      "Ep: 2 | TS: 179910 | L: 0.639 | R: -24.9 | P: 3.64 | R.Avg P: 5.26 | NW: 103.64 | R.Avg NW: 105.26 | R.U: 161\n",
      "Ep: 3 | TS: 239880 | L: 0.962 | R: -10.5 | P: 15.67 | R.Avg P: 7.86 | NW: 115.67 | R.Avg NW: 107.86 | R.U: 177\n",
      "Ep: 4 | TS: 299850 | L: 1.101 | R: 0.19 | P: 31.92 | R.Avg P: 12.67 | NW: 131.92 | R.Avg NW: 112.67 | R.U: 199\n",
      "Ep: 5 | TS: 359820 | L: 1.214 | R: 16.78 | P: 67.93 | R.Avg P: 21.88 | NW: 167.93 | R.Avg NW: 121.88 | R.U: 234\n",
      "Ep: 6 | TS: 419790 | L: 1.275 | R: 17.32 | P: 59.15 | R.Avg P: 27.21 | NW: 159.15 | R.Avg NW: 127.21 | R.U: 257\n",
      "Ep: 7 | TS: 479760 | L: 1.358 | R: 14.07 | P: 56.85 | R.Avg P: 30.91 | NW: 156.85 | R.Avg NW: 130.91 | R.U: 278\n",
      "Ep: 8 | TS: 539730 | L: 1.402 | R: 24.39 | P: 94.13 | R.Avg P: 37.94 | NW: 194.13 | R.Avg NW: 137.94 | R.U: 307\n",
      "Ep: 9 | TS: 599700 | L: 1.365 | R: 6.06 | P: 56.71 | R.Avg P: 39.81 | NW: 156.71 | R.Avg NW: 139.81 | R.U: 322\n",
      "Ep: 10 | TS: 659670 | L: 1.127 | R: -2.13 | P: 39.66 | R.Avg P: 39.8 | NW: 139.66 | R.Avg NW: 139.8 | R.U: 331\n",
      "Ep: 11 | TS: 719640 | L: 0.873 | R: -3.02 | P: 64.41 | R.Avg P: 41.85 | NW: 164.41 | R.Avg NW: 141.85 | R.U: 344\n",
      "Ep: 12 | TS: 779610 | L: 0.769 | R: -7.91 | P: 28.07 | R.Avg P: 40.79 | NW: 128.07 | R.Avg NW: 140.79 | R.U: 348\n",
      "Ep: 13 | TS: 839580 | L: 0.813 | R: -7.97 | P: 39.84 | R.Avg P: 40.72 | NW: 139.84 | R.Avg NW: 140.72 | R.U: 353\n",
      "Ep: 14 | TS: 899550 | L: 0.867 | R: -8.18 | P: 45.57 | R.Avg P: 41.05 | NW: 145.57 | R.Avg NW: 141.05 | R.U: 360\n",
      "Ep: 15 | TS: 959520 | L: 0.861 | R: -8.35 | P: 52.11 | R.Avg P: 41.74 | NW: 152.11 | R.Avg NW: 141.74 | R.U: 366\n",
      "Ep: 16 | TS: 1019490 | L: 0.823 | R: -8.67 | P: 48.44 | R.Avg P: 42.13 | NW: 148.44 | R.Avg NW: 142.13 | R.U: 371\n",
      "Ep: 17 | TS: 1079460 | L: 0.827 | R: -9.1 | P: 34.56 | R.Avg P: 41.71 | NW: 134.56 | R.Avg NW: 141.71 | R.U: 374\n",
      "Ep: 18 | TS: 1139430 | L: 0.864 | R: -8.84 | P: 46.81 | R.Avg P: 41.98 | NW: 146.81 | R.Avg NW: 141.98 | R.U: 378\n",
      "Ep: 19 | TS: 1199400 | L: 0.91 | R: -8.99 | P: 44.12 | R.Avg P: 42.09 | NW: 144.12 | R.Avg NW: 142.09 | R.U: 381\n",
      "Ep: 20 | TS: 1259370 | L: 0.907 | R: -8.96 | P: 54.12 | R.Avg P: 42.66 | NW: 154.12 | R.Avg NW: 142.66 | R.U: 385\n",
      "Ep: 21 | TS: 1319340 | L: 0.856 | R: -9.1 | P: 45.1 | R.Avg P: 42.77 | NW: 145.1 | R.Avg NW: 142.77 | R.U: 388"
     ]
    }
   ],
   "source": [
    "a2c.run(1000)"
   ]
  },
  {
   "cell_type": "code",
   "execution_count": null,
   "id": "e8d97a82-f689-428c-a666-99494a61a098",
   "metadata": {},
   "outputs": [],
   "source": [
    "rewards, profits, actions = a2c.evaluate(start_dt='2021-01-30 15:15', duration=500, show_pred=True)"
   ]
  },
  {
   "cell_type": "code",
   "execution_count": null,
   "id": "db4c0fcd-1627-4ebe-b1c7-71fa813cd612",
   "metadata": {},
   "outputs": [],
   "source": [
    "rewards, profits, actions = a2c.evaluate(start_dt='2021-01-31 15:15', duration=500, show_pred=True)"
   ]
  },
  {
   "cell_type": "markdown",
   "id": "6db24a23",
   "metadata": {},
   "source": [
    "## Visualizations"
   ]
  },
  {
   "cell_type": "markdown",
   "id": "34de4d57",
   "metadata": {},
   "source": [
    "### Training "
   ]
  },
  {
   "cell_type": "code",
   "execution_count": null,
   "id": "0dd2e108",
   "metadata": {},
   "outputs": [],
   "source": [
    "fig, ax = plt.subplots(3, 2, figsize=(16, 12))\n",
    "r_avg_rewards = []\n",
    "r_avg_profits = []\n",
    "r_avg_bal = []\n",
    "r_avg_units_held = []\n",
    "r_avg_loss = []\n",
    "r_avg_net_worth = []\n",
    "count = 0\n",
    "\n",
    "for _, log in a2c.logs.items():\n",
    "    r_avg_rewards.append(log['r_avg_reward'])\n",
    "    r_avg_profits.append(log['r_avg_profit'])\n",
    "    r_avg_bal.append(log['r_avg_bal'])\n",
    "    r_avg_units_held.append(log['r_avg_units_held'])\n",
    "    r_avg_loss.append(log['r_avg_loss'])\n",
    "    r_avg_net_worth.append(log['r_avg_net_worth'])\n",
    "    count += 1\n",
    "\n",
    "ax[0][0].plot(range(count), r_avg_loss)\n",
    "ax[0][0].set_title('Rolling avg loss per episode')\n",
    "\n",
    "ax[0][1].plot(range(count), r_avg_rewards)\n",
    "ax[0][1].set_title('Rolling avg reward per episode')\n",
    "\n",
    "ax[1][0].plot(range(count), r_avg_profits)\n",
    "ax[1][0].set_title('Rolling avg profit per episode')\n",
    "\n",
    "ax[1][1].plot(range(count), r_avg_units_held)\n",
    "ax[1][1].set_title('Rolling avg units held per episode')\n",
    "\n",
    "ax[2][0].plot(range(count), r_avg_net_worth)\n",
    "ax[2][0].set_title('Rolling avg net worth per episode')\n",
    "\n",
    "ax[2][1].plot(range(count), r_avg_bal)\n",
    "ax[2][1].set_title('Rolling avg balance per episode')"
   ]
  },
  {
   "cell_type": "code",
   "execution_count": null,
   "id": "d64f6560-c19e-445f-95a2-6c053b853c31",
   "metadata": {},
   "outputs": [],
   "source": [
    "# torch.save(a2c.actor.state_dict(), '../models/a2c_nn_3/actor')\n",
    "# torch.save(a2c.critic.state_dict(), '../models/a2c_nn_3/critic')"
   ]
  },
  {
   "cell_type": "code",
   "execution_count": null,
   "id": "24d2c54c",
   "metadata": {},
   "outputs": [],
   "source": [
    "# import pickle\n",
    "# with open(\"../pickles/a2c_logs_main.pickle\",\"wb\") as f:\n",
    "#     temp = dict(a2c.logs)\n",
    "#     pickle.dump(temp, f, pickle.HIGHEST_PROTOCOL)"
   ]
  }
 ],
 "metadata": {
  "kernelspec": {
   "display_name": "Python 3 (ipykernel)",
   "language": "python",
   "name": "python3"
  },
  "language_info": {
   "codemirror_mode": {
    "name": "ipython",
    "version": 3
   },
   "file_extension": ".py",
   "mimetype": "text/x-python",
   "name": "python",
   "nbconvert_exporter": "python",
   "pygments_lexer": "ipython3",
   "version": "3.9.7"
  }
 },
 "nbformat": 4,
 "nbformat_minor": 5
}
