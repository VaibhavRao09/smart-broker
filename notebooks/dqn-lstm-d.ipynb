{
 "cells": [
  {
   "cell_type": "code",
   "execution_count": 1,
   "id": "12f264b3",
   "metadata": {},
   "outputs": [],
   "source": [
    "# add parent directory to path: enable import from parent dir\n",
    "import sys\n",
    "sys.path.append('../')\n",
    "\n",
    "from environment import SmartBrokerEnv\n",
    "from agents.dqn import DQN\n",
    "from networks.lstm_dueling import LSTMDueling\n",
    "\n",
    "import matplotlib.pyplot as plt\n",
    "import numpy as np\n",
    "import torch.nn as nn\n",
    "import torch"
   ]
  },
  {
   "cell_type": "code",
   "execution_count": 2,
   "id": "4141376e",
   "metadata": {},
   "outputs": [
    {
     "name": "stderr",
     "output_type": "stream",
     "text": [
      "/Users/vinay/miniforge3/lib/python3.9/site-packages/pandas/core/frame.py:3641: SettingWithCopyWarning: \n",
      "A value is trying to be set on a copy of a slice from a DataFrame.\n",
      "Try using .loc[row_indexer,col_indexer] = value instead\n",
      "\n",
      "See the caveats in the documentation: https://pandas.pydata.org/pandas-docs/stable/user_guide/indexing.html#returning-a-view-versus-a-copy\n",
      "  self[k1] = value[k2]\n",
      "/Users/vinay/code/git/smart-broker/notebooks/../environment.py:79: SettingWithCopyWarning: \n",
      "A value is trying to be set on a copy of a slice from a DataFrame.\n",
      "Try using .loc[row_indexer,col_indexer] = value instead\n",
      "\n",
      "See the caveats in the documentation: https://pandas.pydata.org/pandas-docs/stable/user_guide/indexing.html#returning-a-view-versus-a-copy\n",
      "  self.df['rolling_price'] = self.df[self.price_typ].rolling(self.roll_period).sum()\n",
      "/Users/vinay/miniforge3/lib/python3.9/site-packages/pandas/util/_decorators.py:311: SettingWithCopyWarning: \n",
      "A value is trying to be set on a copy of a slice from a DataFrame\n",
      "\n",
      "See the caveats in the documentation: https://pandas.pydata.org/pandas-docs/stable/user_guide/indexing.html#returning-a-view-versus-a-copy\n",
      "  return func(*args, **kwargs)\n"
     ]
    }
   ],
   "source": [
    "norm_cols = ['Volume XRP']\n",
    "cols = ['date'] + ['open', 'high', 'low', 'close', f'Volume XRP']\n",
    "batch_dur = 20\n",
    "env = SmartBrokerEnv(\n",
    "    batch_dur=batch_dur,\n",
    "    df_info={\n",
    "        'start_date': '2021-01-01',\n",
    "        'end_date': '2021-02-01',\n",
    "        'norm_cols': norm_cols,\n",
    "        'cols': cols,\n",
    "    },\n",
    "    portfolio={\n",
    "\n",
    "    },\n",
    ")"
   ]
  },
  {
   "cell_type": "code",
   "execution_count": null,
   "id": "65631b9c",
   "metadata": {},
   "outputs": [
    {
     "name": "stdout",
     "output_type": "stream",
     "text": [
      "collecting experience...\n",
      "\n",
      "Ep: 0 | TS: 19970 | L: 13978.658 | R: -4.33 | P: 19.39 | R.Avg P: 19.39 | NW: 119.39 | R.Avg NW: 119.39 | R.U: 217\n",
      "Ep: 1 | TS: 39940 | L: 11615.479 | R: -4.3 | P: 1.54 | R.Avg P: 10.46 | NW: 101.54 | R.Avg NW: 110.46 | R.U: 203\n",
      "Ep: 2 | TS: 59910 | L: 11367.894 | R: -4.3 | P: -6.51 | R.Avg P: 4.81 | NW: 93.49 | R.Avg NW: 104.81 | R.U: 193\n",
      "Ep: 3 | TS: 79880 | L: 11427.285 | R: -4.26 | P: 10.81 | R.Avg P: 6.31 | NW: 110.81 | R.Avg NW: 106.31 | R.U: 196\n",
      "Ep: 4 | TS: 99850 | L: 11541.326 | R: -4.17 | P: 32.29 | R.Avg P: 11.5 | NW: 132.29 | R.Avg NW: 111.5 | R.U: 205\n",
      "Ep: 5 | TS: 119820 | L: 11181.718 | R: -4.36 | P: -8.33 | R.Avg P: 8.2 | NW: 91.67 | R.Avg NW: 108.2 | R.U: 200\n",
      "Ep: 6 | TS: 139790 | L: 12306.84 | R: -4.23 | P: 26.6 | R.Avg P: 10.83 | NW: 126.6 | R.Avg NW: 110.83 | R.U: 204\n",
      "Ep: 7 | TS: 159760 | L: 12044.143 | R: -4.28 | P: 13.42 | R.Avg P: 11.15 | NW: 113.42 | R.Avg NW: 111.15 | R.U: 204\n",
      "Ep: 8 | TS: 179730 | L: 11990.035 | R: -4.2 | P: 34.16 | R.Avg P: 13.71 | NW: 134.16 | R.Avg NW: 113.71 | R.U: 209\n",
      "Ep: 9 | TS: 199700 | L: 11109.552 | R: -4.37 | P: -5.87 | R.Avg P: 11.75 | NW: 94.13 | R.Avg NW: 111.75 | R.U: 206\n",
      "Ep: 10 | TS: 219670 | L: 11481.787 | R: -4.31 | P: 6.67 | R.Avg P: 11.29 | NW: 106.67 | R.Avg NW: 111.29 | R.U: 205\n",
      "Ep: 11 | TS: 239640 | L: 11837.247 | R: -4.29 | P: -3.56 | R.Avg P: 10.05 | NW: 96.44 | R.Avg NW: 110.05 | R.U: 203\n",
      "Ep: 12 | TS: 259610 | L: 11897.74 | R: -4.24 | P: 22.72 | R.Avg P: 11.03 | NW: 122.72 | R.Avg NW: 111.03 | R.U: 204\n",
      "Ep: 13 | TS: 279580 | L: 11675.414 | R: -4.31 | P: 12.64 | R.Avg P: 11.14 | NW: 112.64 | R.Avg NW: 111.14 | R.U: 204\n",
      "Ep: 14 | TS: 299550 | L: 12843.793 | R: -4.25 | P: 22.7 | R.Avg P: 11.91 | NW: 122.7 | R.Avg NW: 111.91 | R.U: 206\n",
      "Ep: 15 | TS: 319520 | L: 12206.825 | R: -4.29 | P: 18.13 | R.Avg P: 12.3 | NW: 118.13 | R.Avg NW: 112.3 | R.U: 207\n",
      "Ep: 16 | TS: 339490 | L: 11959.766 | R: -4.27 | P: 14.58 | R.Avg P: 12.43 | NW: 114.58 | R.Avg NW: 112.43 | R.U: 207\n",
      "Ep: 17 | TS: 359460 | L: 11790.315 | R: -4.32 | P: 15.78 | R.Avg P: 12.62 | NW: 115.78 | R.Avg NW: 112.62 | R.U: 207\n",
      "Ep: 18 | TS: 379430 | L: 14623.348 | R: -4.3 | P: -6.96 | R.Avg P: 11.59 | NW: 93.04 | R.Avg NW: 111.59 | R.U: 206\n",
      "Ep: 19 | TS: 399400 | L: 14085.283 | R: -4.12 | P: 47.72 | R.Avg P: 13.4 | NW: 147.72 | R.Avg NW: 113.4 | R.U: 208\n",
      "Ep: 20 | TS: 419370 | L: 11494.437 | R: -4.33 | P: 9.48 | R.Avg P: 12.9 | NW: 109.48 | R.Avg NW: 112.9 | R.U: 208\n",
      "Ep: 21 | TS: 439340 | L: 12342.177 | R: -4.29 | P: 3.42 | R.Avg P: 12.99 | NW: 103.42 | R.Avg NW: 112.99 | R.U: 208\n",
      "Ep: 22 | TS: 459310 | L: 12571.321 | R: -4.37 | P: -11.76 | R.Avg P: 12.73 | NW: 88.24 | R.Avg NW: 112.73 | R.U: 207\n",
      "Ep: 23 | TS: 479280 | L: 11631.016 | R: -4.31 | P: 3.14 | R.Avg P: 12.35 | NW: 103.14 | R.Avg NW: 112.35 | R.U: 207\n",
      "Ep: 24 | TS: 499250 | L: 12597.687 | R: -4.13 | P: 41.52 | R.Avg P: 12.81 | NW: 141.52 | R.Avg NW: 112.81 | R.U: 207\n",
      "Ep: 25 | TS: 519220 | L: 13562.442 | R: -4.23 | P: 24.71 | R.Avg P: 14.46 | NW: 124.71 | R.Avg NW: 114.46 | R.U: 210\n",
      "Ep: 26 | TS: 539190 | L: 12863.441 | R: -4.16 | P: 29.6 | R.Avg P: 14.61 | NW: 129.6 | R.Avg NW: 114.61 | R.U: 211\n",
      "Ep: 27 | TS: 559160 | L: 12778.539 | R: -4.35 | P: -9.81 | R.Avg P: 13.45 | NW: 90.19 | R.Avg NW: 113.45 | R.U: 209\n",
      "Ep: 28 | TS: 579130 | L: 11202.822 | R: -4.26 | P: 15.54 | R.Avg P: 12.52 | NW: 115.54 | R.Avg NW: 112.52 | R.U: 207\n",
      "Ep: 29 | TS: 599100 | L: 13198.152 | R: -4.13 | P: 47.01 | R.Avg P: 15.16 | NW: 147.01 | R.Avg NW: 115.16 | R.U: 211\n",
      "Ep: 30 | TS: 619070 | L: 14393.653 | R: -4.24 | P: 19.02 | R.Avg P: 15.78 | NW: 119.02 | R.Avg NW: 115.78 | R.U: 213\n",
      "Ep: 31 | TS: 639040 | L: 11985.631 | R: -4.32 | P: -1.6 | R.Avg P: 15.88 | NW: 98.4 | R.Avg NW: 115.88 | R.U: 213\n",
      "Ep: 32 | TS: 659010 | L: 13890.842 | R: -4.41 | P: -18.92 | R.Avg P: 13.8 | NW: 81.08 | R.Avg NW: 113.8 | R.U: 209\n",
      "Ep: 33 | TS: 678980 | L: 16217.531 | R: -4.31 | P: 0.33 | R.Avg P: 13.18 | NW: 100.33 | R.Avg NW: 113.18 | R.U: 208\n",
      "Ep: 34 | TS: 698950 | L: 13698.017 | R: -4.33 | P: -1.21 | R.Avg P: 11.99 | NW: 98.79 | R.Avg NW: 111.99 | R.U: 206\n",
      "Ep: 35 | TS: 718920 | L: 13847.602 | R: -4.3 | P: 3.3 | R.Avg P: 11.24 | NW: 103.3 | R.Avg NW: 111.24 | R.U: 205\n",
      "Ep: 36 | TS: 738890 | L: 12950.835 | R: -4.26 | P: 14.25 | R.Avg P: 11.23 | NW: 114.25 | R.Avg NW: 111.23 | R.U: 205\n",
      "Ep: 37 | TS: 758860 | L: 11846.87 | R: -4.24 | P: 3.94 | R.Avg P: 10.64 | NW: 103.94 | R.Avg NW: 110.64 | R.U: 204\n",
      "Ep: 38 | TS: 778830 | L: 12958.693 | R: -4.2 | P: 30.77 | R.Avg P: 12.52 | NW: 130.77 | R.Avg NW: 112.52 | R.U: 207\n",
      "Ep: 39 | TS: 798800 | L: 13163.319 | R: -4.2 | P: 24.44 | R.Avg P: 11.36 | NW: 124.44 | R.Avg NW: 111.36 | R.U: 205\n",
      "Ep: 40 | TS: 818770 | L: 12527.723 | R: -4.2 | P: 18.55 | R.Avg P: 11.81 | NW: 118.55 | R.Avg NW: 111.81 | R.U: 205"
     ]
    }
   ],
   "source": [
    "batch_size = 10\n",
    "target_net = LSTMDueling(\n",
    "    input_dim=batch_dur*3+3,\n",
    "    output_dim=3,\n",
    ")\n",
    "\n",
    "policy_net = LSTMDueling(\n",
    "    input_dim=batch_dur*3+3,\n",
    "    output_dim=3,\n",
    ")\n",
    "\n",
    "dqn = DQN(\n",
    "    env=env,\n",
    "    env_type='vector',\n",
    "    n_actions=3,\n",
    "    log_freq=1,\n",
    "    train_freq=3,\n",
    "    batch_size=batch_size,\n",
    "    w_sync_freq=1,\n",
    "    memory_size=500,\n",
    "    gamma=0.9995,\n",
    "    step_size=0.01,\n",
    "    episodes=500,\n",
    "    target_net=target_net,\n",
    "    policy_net=policy_net,\n",
    "    loss_func=nn.SmoothL1Loss(),\n",
    "    optimizer=torch.optim.Adam(policy_net.parameters(), lr=0.00008),\n",
    "    load_pretrained=False,\n",
    "    save_pretrained=False,\n",
    "    model_path='../models/dqn_d_lstm',\n",
    "    network_type='lstm',\n",
    ")\n",
    "\n",
    "dqn.run(500)"
   ]
  },
  {
   "cell_type": "code",
   "execution_count": null,
   "id": "4b9dcbbb-fb80-40d4-90f5-5e79496206fd",
   "metadata": {},
   "outputs": [],
   "source": [
    "s = env.reset()\n",
    "s"
   ]
  },
  {
   "cell_type": "code",
   "execution_count": null,
   "id": "f98664e0-b49f-4c57-84d2-5b2dd852280e",
   "metadata": {},
   "outputs": [],
   "source": [
    "action = dqn._get_action(s, 0)\n",
    "action"
   ]
  },
  {
   "cell_type": "code",
   "execution_count": null,
   "id": "2e271abf-16ce-4b22-86ab-a38f003d04d1",
   "metadata": {},
   "outputs": [],
   "source": [
    "s, _, _, _ = env.step(1)\n",
    "s"
   ]
  },
  {
   "cell_type": "markdown",
   "id": "2138d708-a6a0-4322-a148-016753dd168e",
   "metadata": {},
   "source": [
    "### Visualizations"
   ]
  },
  {
   "cell_type": "markdown",
   "id": "541e476d-f376-444f-97f3-fb641a990238",
   "metadata": {},
   "source": [
    "### Traning"
   ]
  },
  {
   "cell_type": "code",
   "execution_count": null,
   "id": "ae43c7d4-7e90-4c0a-ab33-4d1e16c06c64",
   "metadata": {},
   "outputs": [],
   "source": [
    "fig, ax = plt.subplots(3, 2, figsize=(16, 12))\n",
    "r_avg_rewards = []\n",
    "r_avg_profits = []\n",
    "r_avg_bal = []\n",
    "r_avg_units_held = []\n",
    "r_avg_loss = []\n",
    "r_avg_net_worth = []\n",
    "count = 0\n",
    "\n",
    "for _, log in dqn.logs.items():\n",
    "    r_avg_rewards.append(log['r_avg_reward'])\n",
    "    r_avg_profits.append(log['r_avg_profit'])\n",
    "    r_avg_bal.append(log['r_avg_bal'])\n",
    "    r_avg_units_held.append(log['r_avg_units_held'])\n",
    "    r_avg_loss.append(log['r_avg_loss'])\n",
    "    r_avg_net_worth.append(log['r_avg_net_worth'])\n",
    "    count += 1\n",
    "\n",
    "ax[0][0].plot(range(count), r_avg_loss)\n",
    "ax[0][0].set_title('Rolling avg loss per episode')\n",
    "\n",
    "ax[0][1].plot(range(count), r_avg_rewards)\n",
    "ax[0][1].set_title('Rolling avg reward per episode')\n",
    "\n",
    "ax[1][0].plot(range(count), r_avg_profits)\n",
    "ax[1][0].set_title('Rolling avg profit per episode')\n",
    "\n",
    "ax[1][1].plot(range(count), r_avg_units_held)\n",
    "ax[1][1].set_title('Rolling avg units held per episode')\n",
    "\n",
    "ax[2][0].plot(range(count), r_avg_net_worth)\n",
    "ax[2][0].set_title('Rolling avg net worth per episode')\n",
    "\n",
    "ax[2][1].plot(range(count), r_avg_bal)\n",
    "ax[2][1].set_title('Rolling avg balance per episode')"
   ]
  },
  {
   "cell_type": "markdown",
   "id": "cc4fdfdb-04cd-44b2-b7ed-20ea42255fcd",
   "metadata": {},
   "source": [
    "### Evaluation"
   ]
  },
  {
   "cell_type": "code",
   "execution_count": null,
   "id": "eff50ff3-6cdc-4a57-a084-97fb459bd281",
   "metadata": {},
   "outputs": [],
   "source": [
    "fig, ax = plt.subplots(3, 2, figsize=(16, 12))\n",
    "r_avg_rewards = []\n",
    "r_avg_profits = []\n",
    "r_avg_bal = []\n",
    "r_avg_units_held = []\n",
    "r_avg_loss = []\n",
    "r_avg_net_worth = []\n",
    "count = 0\n",
    "\n",
    "for _, log in dqn.eval_logs.items():\n",
    "    r_avg_rewards.append(log['r_avg_reward'])\n",
    "    r_avg_profits.append(log['r_avg_profit'])\n",
    "    r_avg_bal.append(log['r_avg_bal'])\n",
    "    r_avg_units_held.append(log['r_avg_units_held'])\n",
    "    r_avg_loss.append(log['r_avg_loss'])\n",
    "    r_avg_net_worth.append(log['r_avg_net_worth'])\n",
    "    count += 1\n",
    "\n",
    "ax[0][0].plot(range(count), r_avg_loss)\n",
    "ax[0][0].set_title('Rolling avg loss per episode')\n",
    "\n",
    "ax[0][1].plot(range(count), r_avg_rewards)\n",
    "ax[0][1].set_title('Rolling avg reward per episode')\n",
    "\n",
    "ax[1][0].plot(range(count), r_avg_profits)\n",
    "ax[1][0].set_title('Rolling avg profit per episode')\n",
    "\n",
    "ax[1][1].plot(range(count), r_avg_units_held)\n",
    "ax[1][1].set_title('Rolling avg units held per episode')\n",
    "\n",
    "ax[2][0].plot(range(count), r_avg_net_worth)\n",
    "ax[2][0].set_title('Rolling avg net worth per episode')\n",
    "\n",
    "ax[2][1].plot(range(count), r_avg_bal)\n",
    "ax[2][1].set_title('Rolling avg balance per episode')"
   ]
  },
  {
   "cell_type": "code",
   "execution_count": null,
   "id": "b37d1fff-451e-4db1-a6ac-6c570687c389",
   "metadata": {},
   "outputs": [],
   "source": [
    "# torch.save(dqn.target_net.state_dict(), '../models/dqn_d_lstm/target_net')\n",
    "# torch.save(dqn.policy_net.state_dict(), '../models/dqn_d_lstm/policy_net')"
   ]
  }
 ],
 "metadata": {
  "kernelspec": {
   "display_name": "Python 3 (ipykernel)",
   "language": "python",
   "name": "python3"
  },
  "language_info": {
   "codemirror_mode": {
    "name": "ipython",
    "version": 3
   },
   "file_extension": ".py",
   "mimetype": "text/x-python",
   "name": "python",
   "nbconvert_exporter": "python",
   "pygments_lexer": "ipython3",
   "version": "3.9.7"
  }
 },
 "nbformat": 4,
 "nbformat_minor": 5
}
