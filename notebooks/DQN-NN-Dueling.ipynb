{
 "cells": [
  {
   "cell_type": "code",
   "execution_count": 1,
   "metadata": {},
   "outputs": [],
   "source": [
    "# add parent directory to path: enable import from parent dir\n",
    "import sys\n",
    "sys.path.append('../')\n",
    "\n",
    "from environment import SmartBrokerEnv\n",
    "from dqn import DQN\n",
    "from nn_dueling import DuelingNet\n",
    "\n",
    "import numpy as np\n",
    "import torch.nn as nn\n",
    "import torch"
   ]
  },
  {
   "cell_type": "code",
   "execution_count": 2,
   "metadata": {},
   "outputs": [
    {
     "name": "stderr",
     "output_type": "stream",
     "text": [
      "/home/vinaykudari/miniconda3/lib/python3.8/site-packages/pandas/core/frame.py:3065: SettingWithCopyWarning: \n",
      "A value is trying to be set on a copy of a slice from a DataFrame.\n",
      "Try using .loc[row_indexer,col_indexer] = value instead\n",
      "\n",
      "See the caveats in the documentation: https://pandas.pydata.org/pandas-docs/stable/user_guide/indexing.html#returning-a-view-versus-a-copy\n",
      "  self[k1] = value[k2]\n",
      "../environment.py:76: SettingWithCopyWarning: \n",
      "A value is trying to be set on a copy of a slice from a DataFrame.\n",
      "Try using .loc[row_indexer,col_indexer] = value instead\n",
      "\n",
      "See the caveats in the documentation: https://pandas.pydata.org/pandas-docs/stable/user_guide/indexing.html#returning-a-view-versus-a-copy\n",
      "  self.df['rolling_price'] = self.df[self.price_typ].rolling(self.roll_period).sum()\n",
      "../environment.py:78: SettingWithCopyWarning: \n",
      "A value is trying to be set on a copy of a slice from a DataFrame\n",
      "\n",
      "See the caveats in the documentation: https://pandas.pydata.org/pandas-docs/stable/user_guide/indexing.html#returning-a-view-versus-a-copy\n",
      "  self.df.sort_values('date', inplace=True)\n"
     ]
    }
   ],
   "source": [
    "norm_cols = ['open', 'high', 'low', 'close', f'Volume XRP']\n",
    "cols = ['date'] + norm_cols\n",
    "batch_dur = 15\n",
    "env = SmartBrokerEnv(\n",
    "    batch_dur=batch_dur,\n",
    "    df_info={\n",
    "        'start_date': '2021-01-01',\n",
    "        'end_date': '2021-02-01',\n",
    "        'norm_cols': norm_cols,\n",
    "        'cols': cols,\n",
    "    },\n",
    "    portfolio={\n",
    "    \n",
    "    },\n",
    ")"
   ]
  },
  {
   "cell_type": "code",
   "execution_count": null,
   "metadata": {},
   "outputs": [
    {
     "name": "stdout",
     "output_type": "stream",
     "text": [
      "collecting experience...\n",
      "Episode: 150, Reward: 23099.82, Loss: 589182.12, Avg Profit: -1.45, Avg Bal: 92.86, Units Held: 107.01\n",
      "Episode: 200, Reward: 22009.74, Loss: 249913.5, Avg Profit: -5.82, Avg Bal: 90.09, Units Held: 75.48\n",
      "Episode: 250, Reward: 23236.8, Loss: 140591.75, Avg Profit: -3.97, Avg Bal: 93.64, Units Held: 51.29\n",
      "Episode: 300, Reward: 28754.14, Loss: 131240.72, Avg Profit: 15.31, Avg Bal: 114.64, Units Held: 22.45\n",
      "Episode: 350, Reward: 27714.95, Loss: 114169.22, Avg Profit: 6.35, Avg Bal: 105.32, Units Held: 28.4\n",
      "Episode: 400, Reward: 30620.8, Loss: 120713.46, Avg Profit: 23.44, Avg Bal: 122.97, Units Held: 16.19\n",
      "Episode: 450, Reward: 25026.0, Loss: 131543.31, Avg Profit: 0.0, Avg Bal: 100.0, Units Held: 0.0\n",
      "Episode: 500, Reward: 26062.49, Loss: 116706.16, Avg Profit: 3.13, Avg Bal: 102.71, Units Held: 5.72\n",
      "Episode: 550, Reward: 25125.22, Loss: 114928.38, Avg Profit: 0.47, Avg Bal: 100.07, Units Held: 6.17\n",
      "Episode: 600, Reward: 25026.0, Loss: 112989.4, Avg Profit: 0.0, Avg Bal: 100.0, Units Held: 0.0\n",
      "Episode: 650, Reward: 24874.57, Loss: 114269.27, Avg Profit: -0.07, Avg Bal: 99.51, Units Held: 7.95\n",
      "Episode: 700, Reward: 24130.61, Loss: 108805.8, Avg Profit: -2.93, Avg Bal: 96.87, Units Held: 5.21\n",
      "Episode: 750, Reward: 23413.81, Loss: 113825.66, Avg Profit: -4.03, Avg Bal: 95.17, Units Held: 15.05\n",
      "Episode: 800, Reward: 24612.79, Loss: 114201.92, Avg Profit: -0.85, Avg Bal: 98.74, Units Held: 6.87\n",
      "Episode: 850, Reward: 24917.06, Loss: 109103.27, Avg Profit: -0.35, Avg Bal: 99.45, Units Held: 6.05\n",
      "Episode: 900, Reward: 25249.44, Loss: 107880.66, Avg Profit: 1.22, Avg Bal: 100.59, Units Held: 9.31\n",
      "Episode: 950, Reward: 26730.56, Loss: 110718.11, Avg Profit: 5.25, Avg Bal: 104.59, Units Held: 9.98\n"
     ]
    }
   ],
   "source": [
    "target_net = DuelingNet(\n",
    "    input_dim=batch_dur*3+3,\n",
    "    output_dim=3,\n",
    ")\n",
    "\n",
    "policy_net = DuelingNet(\n",
    "    input_dim=batch_dur*3+3,\n",
    "    output_dim=3,\n",
    ")\n",
    "\n",
    "dqn = DQN(\n",
    "    env=env,\n",
    "    env_type='vector',\n",
    "    n_actions=3,\n",
    "    log_freq=50,\n",
    "    train_freq=3,\n",
    "    batch_size=500,\n",
    "    w_sync_freq=10,\n",
    "    memory_size=50000,\n",
    "    epsilon_start=0.8,\n",
    "    epsilon_decay=0.990,\n",
    "    gamma=0.9,\n",
    "    step_size=0.01,\n",
    "    episodes=1000,\n",
    "    target_net=target_net,\n",
    "    policy_net=policy_net,\n",
    "    loss_func=nn.MSELoss(),\n",
    "    optimizer=torch.optim.Adam(policy_net.parameters(), lr=0.001),\n",
    "    load_pretrained=False,\n",
    "    save_pretrained=False,\n",
    "    model_path='../models/dqn_nn',\n",
    ")\n",
    "\n",
    "dqn.run()"
   ]
  }
 ],
 "metadata": {
  "kernelspec": {
   "display_name": "Python 3",
   "language": "python",
   "name": "python3"
  },
  "language_info": {
   "codemirror_mode": {
    "name": "ipython",
    "version": 3
   },
   "file_extension": ".py",
   "mimetype": "text/x-python",
   "name": "python",
   "nbconvert_exporter": "python",
   "pygments_lexer": "ipython3",
   "version": "3.8.5"
  }
 },
 "nbformat": 4,
 "nbformat_minor": 5
}
