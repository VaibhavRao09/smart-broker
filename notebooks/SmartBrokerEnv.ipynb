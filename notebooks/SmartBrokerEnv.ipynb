{
 "cells": [
  {
   "cell_type": "code",
   "execution_count": 6,
   "metadata": {},
   "outputs": [],
   "source": [
    "# add parent directory to path: enable import from parent dir\n",
    "import sys\n",
    "sys.path.append('../')"
   ]
  },
  {
   "cell_type": "code",
   "execution_count": 405,
   "metadata": {},
   "outputs": [],
   "source": [
    "import random\n",
    "from gym import Env as OpenAIEnv\n",
    "from gym import spaces\n",
    "import numpy as np\n",
    "import pandas as pd\n",
    "\n",
    "MAX_INT = 2147483647\n",
    "MAX_STEPS = 10000\n",
    "\n",
    "class Actions:\n",
    "    Buy = 0\n",
    "    Sell = 1\n",
    "    Hold = 2\n",
    "    N = 3\n",
    "\n",
    "class SmartBrokerEnv(OpenAIEnv):\n",
    "    def __init__(\n",
    "        self,\n",
    "        df_info,\n",
    "        portfolio,\n",
    "        obs_shape=(30, 1),\n",
    "        n_actions=Actions.N,\n",
    "        data_dir='../data',\n",
    "    ):\n",
    "        self.df_info = df_info\n",
    "        self.action_space = spaces.Box(\n",
    "            low=np.array([0, 0]),\n",
    "            high=np.array([n_actions, 1]),\n",
    "            dtype=np.uint8,\n",
    "        )\n",
    "        self.observation_space = spaces.Box(\n",
    "            low=0,\n",
    "            high=1,\n",
    "            shape=obs_shape,\n",
    "            dtype=np.uint8,\n",
    "        )\n",
    "        self.obs_shape = obs_shape\n",
    "        self.df_info = df_info\n",
    "        self.portfolio = portfolio\n",
    "        self.n_actions = n_actions\n",
    "        self.curr_step = 0\n",
    "        self.data_dir = data_dir\n",
    "        self._init_portfolio(load_df=True)\n",
    "        \n",
    "    def _init_portfolio(self, load_df=False):\n",
    "        self.source = self.portfolio.get('source', 'Bitstamp')\n",
    "        self.init_balance = self.portfolio.get('init_balance', 100)\n",
    "        self.balance = self.init_balance\n",
    "        self.entity = self.portfolio.get('entity', 'XRP')\n",
    "        self.year = self.portfolio.get('year', '2021')\n",
    "        self.market = self.portfolio.get('market', 'USD')\n",
    "        self.duration_typ = self.portfolio.get('duration_typ', 'minute')\n",
    "        self.price_typ = self.portfolio.get('price_typ', 'close')\n",
    "        self.units_held = 0\n",
    "        self.net_worth = self.balance\n",
    "        \n",
    "        if load_df:\n",
    "            file = f'{self.source}_{self.entity}{self.market}_{self.year}_{self.duration_typ}.csv'\n",
    "            df = pd.read_csv(f'{self.data_dir}/{file}', skiprows=1, parse_dates=True)\n",
    "            df = df[self.df_info.get('cols')]\n",
    "            # process and initialise dataframe\n",
    "            self._process_df(df)\n",
    "        \n",
    "    def _process_df(self, df):\n",
    "        start_dt = self.df_info.get('start_date')\n",
    "        end_dt = self.df_info.get('end_date')\n",
    "        norm_cols = self.df_info.get('norm_cols')\n",
    "    \n",
    "        # filter based on range\n",
    "        self.df = df.loc[(df['date'] > start_dt) & (df['date'] <= end_dt)]\n",
    "        self.df.reset_index()\n",
    "        self.df[norm_cols] = self.df[norm_cols].apply(\n",
    "            lambda x: (x - x.min()) / (x.max() - x.min()),\n",
    "        )\n",
    "        \n",
    "        \n",
    "    def _get_features(self):\n",
    "        # normalise features\n",
    "        return np.array([self.balance/MAX_INT, self.units_held/MAX_INT, self.net_worth/MAX_INT])\n",
    "                          \n",
    "    def _get_obs(self):\n",
    "        prices = self.df.loc[\n",
    "            self.curr_step: self.curr_step + self.obs_shape[0],\n",
    "            self.price_typ,\n",
    "        ].values \n",
    "\n",
    "        obs = np.append(\n",
    "            prices,\n",
    "            self._get_features()\n",
    "        )\n",
    "        \n",
    "        return obs\n",
    "            \n",
    "    def _act(self, action):\n",
    "        action_type = action[0]\n",
    "        amount = action[1]\n",
    "        curr_price = self.df.iloc[self.curr_step][self.price_typ]\n",
    "        units_bought = 0\n",
    "        units_sold = 0\n",
    "        \n",
    "        if action_type == Actions.Buy:\n",
    "            total_possible = int(self.balance / curr_price)\n",
    "            units_bought = int(total_possible * amount)\n",
    "            cost = units_bought * curr_price\n",
    "            self.balance -= cost\n",
    "            self.units_held += units_bought\n",
    "        elif action_type == Actions.Sell:\n",
    "            units_sold = self.units_held * amount\n",
    "            self.balance += units_sold * curr_price\n",
    "            self.units_held -= units_sold\n",
    "            \n",
    "        self.net_worth = self.balance + self.units_held * curr_price\n",
    "        \n",
    "        info = {\n",
    "            'amount': action[1],\n",
    "            'curr_step': self.curr_step,\n",
    "            'units_bought': units_bought,\n",
    "            'units_sold': units_sold,\n",
    "            'balance': self.balance,\n",
    "            'net_worth': self.net_worth,\n",
    "            'units_held': self.units_held,\n",
    "        }\n",
    "        \n",
    "        return info\n",
    "        \n",
    "    def reset(self):\n",
    "        self._init_portfolio()\n",
    "        self.curr_step = random.randint(0, self.df.shape[0] - self.obs_shape[0])\n",
    "        obs = self._get_obs()\n",
    "        return obs\n",
    "    \n",
    "    def step(self, action):\n",
    "        info = self._act(action)\n",
    "        self.curr_step += 1\n",
    "        \n",
    "        if self.curr_step > self.df.shape[0] - self.obs_shape[0]:\n",
    "            self.curr_step = random.randint(0, self.df.shape[0] - self.obs_shape[0])\n",
    "            \n",
    "        alpha = (self.curr_step / MAX_STEPS)\n",
    "        reward = self.balance * alpha\n",
    "        done = self.net_worth <= 0\n",
    "        obs = self._get_obs()\n",
    "        \n",
    "        return obs, reward, done, info\n",
    "    \n",
    "    def render(self, show=False):\n",
    "        print(f'curr_step: {self.curr_step}')\n",
    "        print(f'balance: {self.balance}')\n",
    "        print(f'net_worth: {self.net_worth}')\n",
    "        print(f'units_held: {self.units_held}')\n",
    "        print(f'net_profit: {self.net_worth - self.init_balance}')"
   ]
  },
  {
   "cell_type": "code",
   "execution_count": 527,
   "metadata": {},
   "outputs": [],
   "source": [
    "norm_cols = ['open', 'high', 'low', 'close', f'Volume XRP']\n",
    "cols = ['date'] + norm_cols\n",
    "env = SmartBrokerEnv(\n",
    "    df_info={\n",
    "        'start_date': '2021-01-01',\n",
    "        'end_date': '2021-05-01',\n",
    "        'norm_cols': norm_cols,\n",
    "        'cols': cols,\n",
    "    },\n",
    "    portfolio={\n",
    "    \n",
    "    },\n",
    ")"
   ]
  },
  {
   "cell_type": "code",
   "execution_count": 530,
   "metadata": {},
   "outputs": [
    {
     "name": "stdout",
     "output_type": "stream",
     "text": [
      "1\n",
      "balance=99.4370667077492, total_possible=126, curr_price=0.7871183462001516, cost=99.1769116212191\n"
     ]
    },
    {
     "data": {
      "text/plain": [
       "(array([1.21144153e-10, 5.86733222e-08, 4.63039925e-08]),\n",
       " 7.804652595902723e-05,\n",
       " False,\n",
       " {'amount': 1,\n",
       "  'curr_step': 2,\n",
       "  'units_bought': 126,\n",
       "  'units_sold': 0,\n",
       "  'balance': 0.2601550865300908,\n",
       "  'net_worth': 99.4370667077492,\n",
       "  'units_held': 126})"
      ]
     },
     "execution_count": 530,
     "metadata": {},
     "output_type": "execute_result"
    }
   ],
   "source": [
    "env.step([Actions.Buy, 1])"
   ]
  },
  {
   "cell_type": "code",
   "execution_count": 531,
   "metadata": {},
   "outputs": [
    {
     "name": "stdout",
     "output_type": "stream",
     "text": [
      "1\n"
     ]
    },
    {
     "data": {
      "text/plain": [
       "(array([4.62738619e-08, 0.00000000e+00, 4.62738619e-08]),\n",
       " 0.039748944692651375,\n",
       " False,\n",
       " {'amount': 1,\n",
       "  'curr_step': 3,\n",
       "  'units_bought': 0,\n",
       "  'units_sold': 126,\n",
       "  'balance': 99.37236173162843,\n",
       "  'net_worth': 99.37236173162843,\n",
       "  'units_held': 0})"
      ]
     },
     "execution_count": 531,
     "metadata": {},
     "output_type": "execute_result"
    }
   ],
   "source": [
    "env.step([Actions.Sell, 1])"
   ]
  }
 ],
 "metadata": {
  "kernelspec": {
   "display_name": "Python 3",
   "language": "python",
   "name": "python3"
  },
  "language_info": {
   "codemirror_mode": {
    "name": "ipython",
    "version": 3
   },
   "file_extension": ".py",
   "mimetype": "text/x-python",
   "name": "python",
   "nbconvert_exporter": "python",
   "pygments_lexer": "ipython3",
   "version": "3.8.5"
  }
 },
 "nbformat": 4,
 "nbformat_minor": 5
}
